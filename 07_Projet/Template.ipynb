{
 "cells": [
  {
   "cell_type": "markdown",
   "id": "forbidden-sunday",
   "metadata": {},
   "source": [
    "<div style=\"border:1px solid black; padding:10px 10px;\">\n",
    "    <strong>CIVIL-321 \"Modélisation Numérique des Solides et Structures\"</strong><br/><br/>\n",
    "    <span style=\"text-decoration:underline;font-weight:bold;\">Comment utiliser ce Jupyter Notebook?\n",
    "    </span><br/><br/>\n",
    "    Ce <strong>Notebook</strong> est constitué de cellules de texte et de cellule de code. Les cellules de codes \n",
    "    doivent être  <strong>executées</strong> pour voir le résultat du programme. Certaines cellules doivent être \n",
    "    remplies par vos soins. Pour exécuter une cellule, cliquez dessus simplement et ensuite cliquez sur le bouton \n",
    "    \"play\" (<span style=\"font: bold 12px/30px Arial, serif;\">&#9658;</span>) dans la barre de menu au dessus du\n",
    "    notebook. Vous pouvez aussi taper la combinaison de touches <code>shift + enter</code>. Il est important \n",
    "    d'éxécuter les cellules de code en respectant leur ordre d'arrivée dans le notebook.\n",
    "</div>"
   ]
  },
  {
   "cell_type": "code",
   "execution_count": null,
   "id": "ethical-purchase",
   "metadata": {},
   "outputs": [],
   "source": [
    "%load_ext autoreload\n",
    "%autoreload 2\n",
    "\n",
    "import numpy as np\n",
    "import scipy.sparse\n",
    "import scipy.sparse.linalg\n",
    "import matplotlib.pyplot as plt\n",
    "from plot import *"
   ]
  },
  {
   "cell_type": "markdown",
   "id": "nasty-intermediate",
   "metadata": {},
   "source": [
    "<div style=\"border:1px solid black; padding:10px 10px;\">\n",
    "    <strong>Template pour le projet</strong><br/><br/>\n",
    "    <span style=\"text-decoration:underline;font-weight:bold;\">Template pour le projet\n",
    "    </span><br/><br/>\n",
    "    Ce <strong>Notebook</strong> est divisé en deux parties:\n",
    "    \n",
    "    - Dans la première partie sont rassemblée les fonctions de base pour construire les matrices de rigidité et masse. Selon l'énoncé de votre projet, il faudra les adapter (changer les propriétés des matériaux par exemple).\n",
    "    \n",
    "    - Dans la seconde partie se trouve un exemple simple de résolution en dynamique. Vous pouvez ensuite l'adapter à votre géométrie, vos conditions de bord et conditions initiales.\n",
    "</div>"
   ]
  },
  {
   "cell_type": "markdown",
   "id": "aggregate-gambling",
   "metadata": {},
   "source": [
    "### Fonctions pour construire la matrice de rigidité"
   ]
  },
  {
   "cell_type": "markdown",
   "id": "neural-depth",
   "metadata": {},
   "source": [
    "La matrice D représente la loi constituve faisant le lien entre les déformations et les contraintes."
   ]
  },
  {
   "cell_type": "code",
   "execution_count": null,
   "id": "caroline-albania",
   "metadata": {},
   "outputs": [],
   "source": [
    "def calculerD(contraintes_planes=True):\n",
    "    \n",
    "    E = 210e3 # 210GPa = 210e9 N/m^2 = 210e3 N/mm^2\n",
    "    nu = 0.3    \n",
    "\n",
    "    # On fait des contraintes planes par défaut\n",
    "    if contraintes_planes:\n",
    "        D = (E/(1-nu**2))* np.array(\n",
    "            [[1,  nu, 0],\n",
    "             [nu, 1,  0],\n",
    "             [0,  0,  (1-nu)/2]])\n",
    "    else:\n",
    "        raise RuntimeError('Déformations planes à implémenter!')\n",
    "    return D"
   ]
  },
  {
   "cell_type": "markdown",
   "id": "knowing-phrase",
   "metadata": {},
   "source": [
    "La matrice C relie les déplacements en coordonnées réelles aux gradients en coordonnées naturelles"
   ]
  },
  {
   "cell_type": "code",
   "execution_count": null,
   "id": "mysterious-trinity",
   "metadata": {},
   "outputs": [],
   "source": [
    "def calculerC():\n",
    "    N1s, N1t = [-1, -1]\n",
    "    N2s, N2t = [1, 0]\n",
    "    N3s, N3t = [0, 1]\n",
    "    C = np.array([\n",
    "        [N1s, 0, N2s, 0, N3s, 0],\n",
    "        [N1t, 0, N2t, 0, N3t, 0],\n",
    "        [0, N1s, 0, N2s, 0, N3s],\n",
    "        [0, N1t, 0, N2t, 0, N3t]])\n",
    "    return C"
   ]
  },
  {
   "cell_type": "markdown",
   "id": "recreational-evans",
   "metadata": {},
   "source": [
    "La matrice B fait le lien entre les déplacements aux noeuds et les déformations dans l'élément. La matrice J est la matrice jacobienne du changement de coordonnées. "
   ]
  },
  {
   "cell_type": "code",
   "execution_count": null,
   "id": "remarkable-gauge",
   "metadata": {},
   "outputs": [],
   "source": [
    "def calculerBetJ(x, noeuds):\n",
    "    C = calculerC()\n",
    "\n",
    "    grads = C@noeuds.ravel()\n",
    "    J = np.array([[grads[0], grads[2]],\n",
    "                  [grads[1], grads[3]]])\n",
    "    \n",
    "    \n",
    "    # Définition de A\n",
    "    A = np.array([\n",
    "        [1, 0, 0, 0],\n",
    "        [0, 0, 0, 1],\n",
    "        [0, 1, 1, 0]\n",
    "    ])\n",
    "\n",
    "    # Définition de la matrice contenant les Jacobiennes\n",
    "    Jblock = np.zeros((4, 4))\n",
    "    Jblock[:2, :2] = J\n",
    "    Jblock[2:, 2:] = J\n",
    "    \n",
    "    Mat_J = np.linalg.inv(Jblock)\n",
    "    B = A@Mat_J@C\n",
    "    return B, J"
   ]
  },
  {
   "cell_type": "markdown",
   "id": "departmental-industry",
   "metadata": {},
   "source": [
    "Calcul de la matrice de rigidité d'un unique élément"
   ]
  },
  {
   "cell_type": "code",
   "execution_count": null,
   "id": "fourth-chick",
   "metadata": {},
   "outputs": [],
   "source": [
    "def calculerMatriceRigiditeLocale(connectivite_element, coordonnees):\n",
    "    \n",
    "    quads = [[1/3, 1/3]]\n",
    "    weights = [1/2]\n",
    "    \n",
    "    noeuds = coordonnees[connectivite_element.ravel(), :] # les noeuds de l'élément traité\n",
    "    K_local = np.zeros((6, 6)) # 6x6 for T3 only\n",
    "    \n",
    "    for x_q, w_q in zip(quads, weights):\n",
    "        B, J = calculerBetJ(x_q, noeuds)  # calcule B et J sur le point de quadrature x_q\n",
    "        detJ = np.linalg.det(J)           # calcule det(J) pour l'intégration\n",
    "        D = calculerD()                   # calcule la loi de constitution D\n",
    "           \n",
    "        # somme la quadrature avec le poid w_q\n",
    "        K_local = K_local + w_q * B.T@D@B * detJ\n",
    "        \n",
    "    # l'épaisseur\n",
    "    t = 10. # mm\n",
    "    \n",
    "    return t*K_local"
   ]
  },
  {
   "cell_type": "markdown",
   "id": "lyric-jenny",
   "metadata": {},
   "source": [
    "Permet de relier les degrés de liberté à leur position (ligne et colonne associées) dans les matrices K et M"
   ]
  },
  {
   "cell_type": "code",
   "execution_count": null,
   "id": "restricted-midnight",
   "metadata": {},
   "outputs": [],
   "source": [
    "def calculerNumerosEquations(connectivite):\n",
    "\n",
    "    n_elem  = connectivite.shape[0]\n",
    "    n_nodes_per_elem = connectivite.shape[1]\n",
    "    numEq = np.zeros((n_elem, 2*n_nodes_per_elem), dtype=int)\n",
    "    for e in range(n_elem):\n",
    "        for i in range(n_nodes_per_elem):\n",
    "            numEq[e, 2*i]   = 2*connectivite[e, i];\n",
    "            numEq[e, 2*i+1] = 2*connectivite[e, i]+1;\n",
    "    return numEq"
   ]
  },
  {
   "cell_type": "markdown",
   "id": "urban-fence",
   "metadata": {},
   "source": [
    "Assemble les matrices locales en une matrice globale"
   ]
  },
  {
   "cell_type": "code",
   "execution_count": null,
   "id": "emerging-trinity",
   "metadata": {},
   "outputs": [],
   "source": [
    "def assemblerMatriceRigidite(connectivite, coordonnees):\n",
    "\n",
    "    n_elem  = connectivite.shape[0]\n",
    "    n_nodes = coordonnees.shape[0]\n",
    "    numEq = calculerNumerosEquations(connectivite)\n",
    "\n",
    "    K = np.zeros((n_nodes*2, n_nodes*2))\n",
    "    for e in range(n_elem):\n",
    "        # On récupère les degrés de liberté de l'élément e\n",
    "        ddl = numEq[e, :]\n",
    "        # On récupère les noeuds de l'élément e\n",
    "        connectivite_element = connectivite[e, :]\n",
    "        # On calcule la matrice de rigidite locale de l'élément e\n",
    "        K_locale = calculerMatriceRigiditeLocale(connectivite_element, coordonnees)\n",
    "        # On assemble\n",
    "        for i, gi in enumerate(ddl):\n",
    "            for j, gj in enumerate(ddl):\n",
    "                K[gi, gj] += K_locale[i, j]\n",
    "    return K"
   ]
  },
  {
   "cell_type": "markdown",
   "id": "manufactured-ghost",
   "metadata": {},
   "source": [
    "## Fonction pour contruire la matrice de masse"
   ]
  },
  {
   "cell_type": "markdown",
   "id": "organizational-bahamas",
   "metadata": {},
   "source": [
    "Permet d'interpoler une valeur à la position X dans l'élément (en coordonnées naturelles) à partir des valeurs aux noeuds"
   ]
  },
  {
   "cell_type": "code",
   "execution_count": null,
   "id": "prompt-heavy",
   "metadata": {},
   "outputs": [],
   "source": [
    "def calculerN(X, noeuds):\n",
    "    s = X[0]\n",
    "    t = X[1]\n",
    "    N1 = 1-s-t  \n",
    "    N2 = s       \n",
    "    N3 = t\n",
    "    return np.array([[N1, 0, N2, 0, N3, 0],\n",
    "                     [0, N1, 0, N2, 0, N3]])"
   ]
  },
  {
   "cell_type": "markdown",
   "id": "advisory-empty",
   "metadata": {},
   "source": [
    "Calcul de la matrice de masse d'un unique élément"
   ]
  },
  {
   "cell_type": "code",
   "execution_count": null,
   "id": "packed-venue",
   "metadata": {},
   "outputs": [],
   "source": [
    "def calculerMatriceMasseLocale(connectivite_element, coordonnees):\n",
    "    \n",
    "    rho = 9e-3 # 9e3 Kg/m^3 = 9e-3 Kg/mm^2\n",
    "    quads = [[1/6, 1/6], \n",
    "             [2/3, 1/6],\n",
    "             [1/6, 2/3]]\n",
    "    weights = [1/6, 1/6, 1/6]\n",
    "    \n",
    "    noeuds = coordonnees[connectivite_element.ravel(), :] # les noeuds de l'élément traité\n",
    "    M_local = np.zeros((6, 6)) # 6x6 for T3 only\n",
    "    \n",
    "    for x_q, w_q in zip(quads, weights):\n",
    "        N = calculerN(x_q, noeuds)        # calcule B et J sur le point de quadrature x_q\n",
    "        B, J = calculerBetJ(x_q, noeuds)  # calcule B et J sur le point de quadrature x_q\n",
    "        detJ = np.linalg.det(J)           # calcule det(J) pour l'intégration\n",
    "           \n",
    "        # somme la quadrature avec le poid w_q\n",
    "        M_local = M_local + w_q * rho*N.T@N * detJ\n",
    "        \n",
    "    t = 10. # mm\n",
    "    return t*M_local"
   ]
  },
  {
   "cell_type": "markdown",
   "id": "appreciated-undergraduate",
   "metadata": {},
   "source": [
    "Assemble les matrices locales en une matrice globale"
   ]
  },
  {
   "cell_type": "code",
   "execution_count": null,
   "id": "illegal-titanium",
   "metadata": {},
   "outputs": [],
   "source": [
    "def assemblerMatriceMasse(connectivite, coordonnees):\n",
    "\n",
    "    n_elem  = connectivite.shape[0]\n",
    "    n_nodes = coordonnees.shape[0]\n",
    "    numEq = calculerNumerosEquations(connectivite)\n",
    "\n",
    "    M = np.zeros((n_nodes*2, n_nodes*2))\n",
    "    for e in range(n_elem):\n",
    "        # On récupère les degrés de liberté de l'élément e\n",
    "        ddl = numEq[e, :]\n",
    "        # On récupère les noeuds de l'élément e\n",
    "        connectivite_element = connectivite[e, :]\n",
    "        # On calcule la matrice de rigidite locale de l'élément e\n",
    "        M_locale = calculerMatriceMasseLocale(connectivite_element, coordonnees)\n",
    "        # On assemble\n",
    "        for i, gi in enumerate(ddl):\n",
    "            for j, gj in enumerate(ddl):\n",
    "                M[gi, gj] += M_locale[i, j]\n",
    "    return M"
   ]
  },
  {
   "cell_type": "markdown",
   "id": "seven-albany",
   "metadata": {},
   "source": [
    "# Exemple de résolution de problème en dynamique"
   ]
  },
  {
   "cell_type": "markdown",
   "id": "suspended-rhythm",
   "metadata": {},
   "source": [
    "## Définition du maillage"
   ]
  },
  {
   "cell_type": "code",
   "execution_count": null,
   "id": "explicit-counter",
   "metadata": {},
   "outputs": [],
   "source": [
    "points = np.array([[0.0,0],\n",
    "                   [1,0],\n",
    "                   [1,1],\n",
    "                   [0,1]])\n",
    "\n",
    "conn = np.array([[0,1,2],\n",
    "                 [2,3,0]])\n",
    "\n",
    "plotMesh(points, conn)"
   ]
  },
  {
   "cell_type": "markdown",
   "id": "encouraging-connection",
   "metadata": {},
   "source": [
    "## Construction des matrices"
   ]
  },
  {
   "cell_type": "code",
   "execution_count": null,
   "id": "relative-lebanon",
   "metadata": {},
   "outputs": [],
   "source": [
    "K = assemblerMatriceRigidite(conn, points)\n",
    "M = assemblerMatriceMasse(conn, points)\n",
    "\n",
    "# La matrice lumped rassemble la masse sur les termes diagonaux. Dans un schéma explicite d'intégration\n",
    "# dans le temps, elle permet d'éviter la résolution d'un système d'équations linéaires\n",
    "Mlumped_vector = np.sum(M,axis=1)\n",
    "Mlumped = np.diag(Mlumped_vector)\n"
   ]
  },
  {
   "cell_type": "markdown",
   "id": "descending-agency",
   "metadata": {},
   "source": [
    "## Conditions de bord"
   ]
  },
  {
   "cell_type": "code",
   "execution_count": null,
   "id": "corporate-delicious",
   "metadata": {},
   "outputs": [],
   "source": [
    "blocked = np.zeros_like(points).astype('bool')\n",
    "blocked[0,:] = True # Noeud en bas à gauche, bloqué selon x et y\n",
    "blocked[1,1] = True # Noeud en bas à droite, bloqué selon y\n",
    "\n",
    "libres = np.logical_not(blocked)"
   ]
  },
  {
   "cell_type": "markdown",
   "id": "confused-disability",
   "metadata": {},
   "source": [
    "## Conditions initiales"
   ]
  },
  {
   "cell_type": "code",
   "execution_count": null,
   "id": "aggressive-accuracy",
   "metadata": {},
   "outputs": [],
   "source": [
    "# Initialisation des vecteurs de déplacements, vitesses, acc\n",
    "V = np.zeros_like(points)  # velocities\n",
    "A = np.zeros_like(points)  # accelerations\n",
    "U = np.zeros_like(points)      # displacements\n",
    "F = np.zeros_like(points)      # external forces\n",
    "\n",
    "\n",
    "# Un déplacement horizontal initial est appliqué en haut\n",
    "U[2:,0]+=0.1\n",
    "  \n",
    "plt.figure()\n",
    "plotMesh(points, conn)\n",
    "plotMesh(points+U, conn)\n",
    "plt.title('Maillage initial et déformé')\n",
    "plt.show()\n"
   ]
  },
  {
   "cell_type": "code",
   "execution_count": null,
   "id": "likely-retreat",
   "metadata": {},
   "outputs": [],
   "source": [
    "# Pas de temps\n",
    "dt = 1e-5\n",
    "\n",
    "# Nombre d'itérations\n",
    "nstep = 200\n",
    "\n",
    "# Sous forme de vecteurs pour faciliter l'algèbre avec les matrices\n",
    "U = U.reshape((-1,1))\n",
    "V = V.reshape((-1,1))\n",
    "A = A.reshape((-1,1))\n",
    "F = F.reshape((-1,1))\n",
    "blocked = blocked.reshape((-1,1))\n",
    "\n",
    "# Pour stocker les énergies à chaque pas de temps\n",
    "Ecin_list = []\n",
    "Epot_list = []\n",
    "Emec_list = []\n",
    "\n",
    "\n",
    "for s in range(0, nstep):\n",
    "    \n",
    "    \n",
    "    # Calcul et stockage des énergies\n",
    "    Ecin = 0.5*V.T@Mlumped@V\n",
    "    Epot = 0.5*U.T@K@U\n",
    "    Emec = Epot+Ecin\n",
    "    \n",
    "    Ecin_list.append(Ecin[0,0])\n",
    "    Epot_list.append(Epot[0,0])\n",
    "    Emec_list.append(Emec[0,0])\n",
    "    \n",
    "\n",
    "    # Schéma d'intégration explicite\n",
    "    # ATTENTION : Fonctionne uniquement pour matrice de masse lumped\n",
    "    \n",
    "    V_star = V + dt/2*A\n",
    "    U[:] = U + dt*V_star\n",
    "    # enforce displacement boundary conditions by changing U\n",
    "    U[blocked] = 0\n",
    "    # enforce tractions by changing F\n",
    "    F[:] = 0\n",
    "\n",
    "    A[:] = (-K@U+F)/Mlumped_vector.reshape((-1,1))\n",
    "    V[:] = V_star + dt/2*A\n",
    "    \n",
    "    # enforce consistant boundary conditions by changing V\n",
    "    V[blocked] = 0 # time derivative == velocity\n",
    "    \n",
    "    # Plot de la déformée tous les 10 pas de temps\n",
    "    if s%10 == 0:\n",
    "        plt.figure()\n",
    "        plt.title(\"Déformée au temps t={} s\".format(s*dt))\n",
    "        plotMesh(points+U.reshape((-1,2)), conn, nodal_field=U)\n",
    "        plt.show()\n",
    "    \n",
    "    \n",
    "    \n",
    "    \n",
    "U = U.reshape((-1,2))\n",
    "V = V.reshape((-1,2))\n",
    "A = A.reshape((-1,2))\n",
    "F = F.reshape((-1,2))\n",
    "blocked = blocked.reshape((-1,2))\n",
    "\n",
    "# Vérification de la conservation de l'énergie mécanique\n",
    "plt.figure()\n",
    "plt.plot(Ecin_list, label = \"Energie cinétique\")\n",
    "plt.plot(Epot_list, label = \"Energie potentielle\")\n",
    "plt.plot(Emec_list, label = \"Energie mécanique\")\n",
    "plt.xlabel(\"Timestep\")\n",
    "plt.legend()\n",
    "plt.show()"
   ]
  },
  {
   "cell_type": "code",
   "execution_count": null,
   "id": "utility-manitoba",
   "metadata": {},
   "outputs": [],
   "source": []
  }
 ],
 "metadata": {
  "kernelspec": {
   "display_name": "Python 3 (ipykernel)",
   "language": "python",
   "name": "python3"
  },
  "language_info": {
   "codemirror_mode": {
    "name": "ipython",
    "version": 3
   },
   "file_extension": ".py",
   "mimetype": "text/x-python",
   "name": "python",
   "nbconvert_exporter": "python",
   "pygments_lexer": "ipython3"
  }
 },
 "nbformat": 4,
 "nbformat_minor": 5
}
