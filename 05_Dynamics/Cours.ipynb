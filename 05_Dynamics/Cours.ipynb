{
 "cells": [
  {
   "cell_type": "markdown",
   "metadata": {
    "slideshow": {
     "slide_type": "skip"
    }
   },
   "source": [
    "<div style=\"border:1px solid black; padding:10px 10px;\">\n",
    "    <strong>CIVIL-321 \"Modélisation Numérique des Solides et Structures\"</strong><br/><br/>\n",
    "    <span style=\"text-decoration:underline;font-weight:bold;\">Comment utiliser ce Jupyter Notebook?\n",
    "    </span><br/><br/>\n",
    "    Ce <strong>Notebook</strong> est constitué de cellules de texte et de cellule de code. Les cellules de codes doivent être  <strong>executées</strong> pour voir le résultat du programme. Certaines cellules doivent être remplies par vos soins. Pour exécuter une cellule, cliquez dessus simplement et ensuite cliquez sur le bouton \"play\" (<span style=\"font: bold 12px/30px Arial, serif;\">&#9658;</span>) dans la barre de menu au dessus du notebook. Vous pouvez aussi taper la combinaison de touches <code>shift + enter</code>. Il est important d'éxécuter les cellules de code en respectant leur ordre d'arrivée dans le notebook.\n",
    "</div>"
   ]
  },
  {
   "cell_type": "markdown",
   "metadata": {
    "slideshow": {
     "slide_type": "slide"
    }
   },
   "source": [
    "\n",
    "# Dynamique "
   ]
  },
  {
   "cell_type": "code",
   "execution_count": null,
   "metadata": {},
   "outputs": [],
   "source": [
    "%load_ext autoreload\n",
    "%autoreload 2\n",
    "from plot import *"
   ]
  },
  {
   "cell_type": "markdown",
   "metadata": {
    "slideshow": {
     "slide_type": "slide"
    }
   },
   "source": [
    "## Intégration en temps (Newmark) sur Barre 1D"
   ]
  },
  {
   "cell_type": "markdown",
   "metadata": {
    "slideshow": {
     "slide_type": "-"
    }
   },
   "source": [
    "Prenons par exemple une série de barres connectées, discrétisée par 500 nœuds, avec $E = \\rho = h = 1$ \n",
    "\n",
    "- Sa matrice de raideur est donc de la forme:\n",
    "\n",
    "$$K = \\begin{bmatrix}\n",
    "1 & -1 \\\\\n",
    "-1 & 2 & -1 \\\\\n",
    "& \\ddots &  \\ddots & \\ddots\\\\\n",
    "& & -1 & 2 & -1 \\\\\n",
    "& & & -1 & 1  \\\\\n",
    "\\end{bmatrix}$$\n",
    "\n",
    "- Sa matrice de masse est donc:\n",
    "\n",
    "$$M = \\begin{bmatrix}\n",
    "1/3 & 1/6 \\\\\n",
    "1/6 & 2/3 & 1/6 \\\\\n",
    "& \\ddots &  \\ddots & \\ddots\\\\\n",
    "& & 1/6 & 2/3 & 1/6 \\\\\n",
    "& & & 1/6 & 1/3  \\\\\n",
    "\\end{bmatrix}$$\n",
    "\n",
    "\n",
    "*Remarque exercice: essayer de retrouver d'ou viennent ces formes matricielles*"
   ]
  },
  {
   "cell_type": "code",
   "execution_count": null,
   "metadata": {
    "slideshow": {
     "slide_type": "-"
    }
   },
   "outputs": [],
   "source": [
    "def calculeK(nb_nodes):\n",
    "    # Matrice de rigidité\n",
    "    K = np.fromfunction(lambda i, j: (i == j)*2. + (i == j+1)\n",
    "                            * (-1.) + (i+1 == j)*(-1.), (nb_nodes, nb_nodes))\n",
    "    K[0, 0] = 1.\n",
    "    K[-1, -1] = 1.\n",
    "    return K\n",
    "\n",
    "def calculeM(nb_nodes):    \n",
    "    # Matrice de masse \n",
    "    M = np.fromfunction(lambda i, j: (i == j)*2./3. + (i == j+1)\n",
    "                        * 1./6. + (i+1 == j)*1./6., (nb_nodes, nb_nodes))\n",
    "    M[0, 0] = 1./3.\n",
    "    M[-1, -1] = 1./3.\n",
    "    return M\n",
    "\n",
    "K = calculeK(5)\n",
    "M = calculeM(5)\n",
    "\n",
    "plot_matrix(K, 'K')\n",
    "plot_matrix(M, 'M')"
   ]
  },
  {
   "cell_type": "markdown",
   "metadata": {
    "slideshow": {
     "slide_type": "-"
    }
   },
   "source": [
    "On donne une condition initiale en déplacement de la forme:\n",
    "\n",
    "$$u(x,0) = \\sin\\left(\\frac{x}{50}\\right) \\cdot \\exp\\left[-\\left(\\frac{x}{50}\\right)^2\\right]$$"
   ]
  },
  {
   "cell_type": "code",
   "execution_count": null,
   "metadata": {
    "slideshow": {
     "slide_type": "fragment"
    }
   },
   "outputs": [],
   "source": [
    "# nombre de noeuds\n",
    "nb_nodes = 500\n",
    "# node positions\n",
    "nodes = np.arange(-nb_nodes/2, nb_nodes/2, dtype=float) \n",
    "# condition initiale\n",
    "disp_init = lambda X: np.sin(X/50)*np.exp(-(X/50)**2) \n",
    "# calcule de K et M\n",
    "K = calculeK(nb_nodes)\n",
    "M = calculeM(nb_nodes)\n",
    "\n",
    "# plot the initial displacement field\n",
    "plt.plot(nodes, disp_init(nodes))"
   ]
  },
  {
   "cell_type": "markdown",
   "metadata": {
    "slideshow": {
     "slide_type": "-"
    }
   },
   "source": [
    "Les positions, déplacements, vitesses, et forces sont directement calculés à l'aide de la fonction `makeEvolution`."
   ]
  },
  {
   "cell_type": "code",
   "execution_count": null,
   "metadata": {
    "slideshow": {
     "slide_type": "skip"
    }
   },
   "outputs": [],
   "source": [
    "nsteps = 500   # nombre d'itérations\n",
    "dt = 1         # durée d'un pas de temps\n",
    "\n",
    "\n",
    "# calcul de l'évolution en temps\n",
    "disp,vel,force = makeEvolution(nodes, nsteps, dt=dt, U=disp_init, K=K, M=M)"
   ]
  },
  {
   "cell_type": "code",
   "execution_count": null,
   "metadata": {
    "slideshow": {
     "slide_type": "fragment"
    }
   },
   "outputs": [],
   "source": [
    "# On peut observer l'évolution des déplacements.\n",
    "\n",
    "spring_animation(nodes, disp, ylim=(-0.5, 0.5)) # 'ylim' permet de changer le niveau de zoom"
   ]
  },
  {
   "cell_type": "markdown",
   "metadata": {
    "slideshow": {
     "slide_type": "fragment"
    }
   },
   "source": [
    "#### Question: \n",
    "\n",
    "Regardez l'évolution des vitesses et des forces. Cela vous semble-t-il cohérent ?"
   ]
  },
  {
   "cell_type": "code",
   "execution_count": null,
   "metadata": {
    "slideshow": {
     "slide_type": "fragment"
    }
   },
   "outputs": [],
   "source": [
    "# Place your answer here"
   ]
  },
  {
   "cell_type": "markdown",
   "metadata": {
    "slideshow": {
     "slide_type": "slide"
    }
   },
   "source": [
    "### Mesure de l'énergie\n",
    "\n",
    "La mesure de l'énergie est un des moyens indispensables pour vérifier la bonne **stabilité** du code. Lorsqu'il n'y a aucun travail extérieur appliqué l'énergie totale doit être conservée:\n",
    "\n",
    "$$E^{tot} = E^{cin} + E^{pot}$$\n",
    "\n",
    "Avec:\n",
    "- l'énergie potentielle: $$E^{pot} = \\frac{1}{2} \\{d\\} [K] \\{d\\}$$\n",
    "- l'énergie cinétique : $$E^{cin} = \\frac{1}{2} \\{\\dot{d}\\} [M] \\{\\dot{d}\\}$$"
   ]
  },
  {
   "cell_type": "markdown",
   "metadata": {
    "slideshow": {
     "slide_type": "fragment"
    }
   },
   "source": [
    "#### Question\n",
    "\n",
    "Programmez une fonction qui retourne les énergies potentielles et cinétiques en fonction d'un champ de vitesse, d'un champ de déplacement et des matrices de masse $M$ et de raideur $K$ (qui sont données plus bas)."
   ]
  },
  {
   "cell_type": "code",
   "execution_count": null,
   "metadata": {},
   "outputs": [],
   "source": [
    "# Matrice de rigidité (k = 1)\n",
    "\n",
    "\n",
    "def computeEnergy(displacements, velocities):   \n",
    "    # you have to write the code accordingly    \n",
    "    epot = None\n",
    "    ekin = None\n",
    "    return epot, ekin\n"
   ]
  },
  {
   "cell_type": "code",
   "execution_count": null,
   "metadata": {},
   "outputs": [],
   "source": [
    "# Place your answer here"
   ]
  },
  {
   "cell_type": "markdown",
   "metadata": {
    "slideshow": {
     "slide_type": "fragment"
    }
   },
   "source": [
    "#### Question\n",
    "\n",
    "Le code qui suit permet de tracer les différentes énergies en fonction du temps, par l'intermédiaire de la fonction _computeEnergy_. Jugez-vous la méthode choisie comme stable ? "
   ]
  },
  {
   "cell_type": "code",
   "execution_count": null,
   "metadata": {},
   "outputs": [],
   "source": [
    "plotEnergyEvolution(disp, vel, computeEnergy)"
   ]
  },
  {
   "cell_type": "markdown",
   "metadata": {
    "slideshow": {
     "slide_type": "slide"
    }
   },
   "source": [
    "### Stabilité de la méthode de Newmark-$\\beta$\n",
    "\n",
    "Le schémas implicite utilisé ($\\beta = 1/4$, $\\gamma = 1/2$) est inconditionnellement stable. \n",
    "\n",
    "On va chercher a implémenter le schemas explicite, i.e. $\\beta = 0$, $\\gamma = 1/2$ qui est conditionnellement stable:\n",
    "\n",
    "$$\n",
    "\\begin{align}\n",
    "1.& \\quad \\dot{d}_i^{\\star} = \\dot{d}_i + \\frac{\\Delta t}{2} \\ddot{d}_i \\\\\n",
    "2.& \\quad d_{i+1} = d_i + \\Delta t \\dot{d}^{\\star}_i \\\\\n",
    "3.& \\quad \\ddot{d}_{i+1} = [M]^{-1}\\left(-[K] d_{i+1} + F_{i+1}\\right) \\\\\n",
    "4.& \\quad \\dot{d}_{i+1} = \\dot{d}_i^{\\star} + \\frac{\\Delta t}{2} \\ddot{d}_{i+1} \\\\\n",
    "\\end{align}\n",
    "$$\n",
    "\n",
    "#### Question\n",
    "\n",
    "Complétez l'algorithme dans la cellule ci-dessous"
   ]
  },
  {
   "cell_type": "code",
   "execution_count": null,
   "metadata": {
    "slideshow": {
     "slide_type": "skip"
    }
   },
   "outputs": [],
   "source": [
    "def NewMarkIntegrationExplicite(U, V, A, M, K, dt):\n",
    "    # implementez le step 1, \n",
    "    # implémentez le step 2\n",
    "    A[:] = scipy.sparse.linalg.spsolve(M, -K@U) # voila le step 3\n",
    "    # implementez le step 4"
   ]
  },
  {
   "cell_type": "code",
   "execution_count": null,
   "metadata": {
    "slideshow": {
     "slide_type": "-"
    }
   },
   "outputs": [],
   "source": [
    "# Place your answer here"
   ]
  },
  {
   "cell_type": "markdown",
   "metadata": {
    "slideshow": {
     "slide_type": "fragment"
    }
   },
   "source": [
    "Ce schémas est stable lorsqu'il satisfait la condition de Courant–Friedrichs–Lewy (CFL):\n",
    "  \n",
    "$$\\Delta t < \\alpha \\frac{h}{c}$$ \n",
    "\n",
    "avec $c = \\sqrt{\\frac{E}{\\rho}}$, $h$ la taille de maillage et $\\alpha$ un facteur de sécurité"
   ]
  },
  {
   "cell_type": "markdown",
   "metadata": {
    "slideshow": {
     "slide_type": "fragment"
    }
   },
   "source": [
    "#### Question\n",
    "\n",
    "Trouvez le coefficient de sécurité $\\alpha$ à l'aide de la cellule ci dessous"
   ]
  },
  {
   "cell_type": "code",
   "execution_count": null,
   "metadata": {
    "slideshow": {
     "slide_type": "skip"
    }
   },
   "outputs": [],
   "source": [
    "nsteps = 100   # nombre d'itérations\n",
    "dt = 1         # durée d'un pas de temps\n",
    "alpha = .57      # trouvez la valeur de alpha\n",
    "\n",
    "# calcule de l'évolution en temps\n",
    "disp,vel,force = makeEvolution(nodes, nsteps, dt=dt*alpha, U=disp_init, time_integration=NewMarkIntegrationExplicite, K=calculeK, M=calculeM)"
   ]
  },
  {
   "cell_type": "code",
   "execution_count": null,
   "metadata": {
    "slideshow": {
     "slide_type": "fragment"
    }
   },
   "outputs": [],
   "source": [
    "plotEnergyEvolution(disp, vel, computeEnergy)"
   ]
  },
  {
   "cell_type": "markdown",
   "metadata": {
    "slideshow": {
     "slide_type": "fragment"
    }
   },
   "source": [
    "---\n",
    "\n",
    " **Place your answer here** \n",
    "\n",
    " ---\n",
    "\n"
   ]
  },
  {
   "cell_type": "markdown",
   "metadata": {
    "slideshow": {
     "slide_type": "fragment"
    }
   },
   "source": [
    "#### Question \n",
    "\n",
    "Lisez le code de la fonction makeEvolution dans le fichier plot.py.\n",
    "Ecrivez dans la cellule ci dessous une boucle d'intégration en temps avec des forces externes appliquées\n"
   ]
  },
  {
   "cell_type": "code",
   "execution_count": null,
   "metadata": {
    "slideshow": {
     "slide_type": "-"
    }
   },
   "outputs": [],
   "source": [
    "# Place your answer here"
   ]
  },
  {
   "cell_type": "markdown",
   "metadata": {
    "slideshow": {
     "slide_type": "slide"
    }
   },
   "source": [
    "## Fréquences naturelles et modes propres"
   ]
  },
  {
   "cell_type": "markdown",
   "metadata": {
    "slideshow": {
     "slide_type": "-"
    }
   },
   "source": [
    "### Exemple barre 1D\n",
    "\n",
    "- Dans le cas d'une barre 1D\n",
    "- Discretisation avec 100 éléments"
   ]
  },
  {
   "cell_type": "code",
   "execution_count": null,
   "metadata": {},
   "outputs": [],
   "source": [
    "# nombre de noeuds\n",
    "nb_nodes = 100 \n",
    "# node positions\n",
    "nodes = np.arange(-nb_nodes/2, nb_nodes/2, dtype=float) \n",
    "# calcule de K et M\n",
    "K = calculeK(nb_nodes)\n",
    "M = calculeM(nb_nodes)"
   ]
  },
  {
   "cell_type": "markdown",
   "metadata": {
    "slideshow": {
     "slide_type": "fragment"
    }
   },
   "source": [
    "Pour étudier les modes propres, il faut résoudre une équation du type:\n",
    "\n",
    "$$[M]^{-1}[K] \\{v\\} = \\lambda \\{v\\} \\qquad \\Rightarrow \\qquad [K] \\{v\\} = \\omega^2 [M]\\{v\\}$$\n",
    "\n",
    "avec la fréquence telle que $\\omega = 2\\pi f$\n",
    "\n",
    "En python la routine [scipy.sparse.linalg.eigs](https://docs.scipy.org/doc/scipy/reference/generated/scipy.sparse.linalg.eigs.html) peut résoudre ce type de problèmes sur des matrices creuses (plus rapide donc):"
   ]
  },
  {
   "cell_type": "code",
   "execution_count": null,
   "metadata": {},
   "outputs": [],
   "source": [
    "def makeModalAnalysis(n_modes, K, M):\n",
    "\n",
    "    #transformation en matrice creuse de M et K\n",
    "    M = scipy.sparse.csr_matrix(M)\n",
    "    K = scipy.sparse.csr_matrix(K)\n",
    "\n",
    "    eigs = scipy.sparse.linalg.eigs(K, k=n_modes, M=M, which='SM')\n",
    "    return eigs\n"
   ]
  },
  {
   "cell_type": "markdown",
   "metadata": {
    "slideshow": {
     "slide_type": "fragment"
    }
   },
   "source": [
    "#### Question\n",
    "\n",
    "Utilisez la routine ci dessus pour calculer les trois premiers modes et pour les visualiser avec `plt.plot`"
   ]
  },
  {
   "cell_type": "code",
   "execution_count": null,
   "metadata": {
    "slideshow": {
     "slide_type": "fragment"
    }
   },
   "outputs": [],
   "source": [
    "# Place your answer here"
   ]
  },
  {
   "cell_type": "markdown",
   "metadata": {
    "slideshow": {
     "slide_type": "fragment"
    }
   },
   "source": [
    "#### Question\n",
    "\n",
    "Les modes propres sont sensibles aux conditions aux bords. Modifiez la routine `makeModalAnalysis`\n",
    "pour bloquer les deux noeuds extrêmes ($x = 0$ et $x = L$) et recalculer les modes propres."
   ]
  },
  {
   "cell_type": "code",
   "execution_count": null,
   "metadata": {
    "slideshow": {
     "slide_type": "fragment"
    }
   },
   "outputs": [],
   "source": [
    "# Place your answer here"
   ]
  },
  {
   "cell_type": "markdown",
   "metadata": {
    "slideshow": {
     "slide_type": "fragment"
    }
   },
   "source": [
    "Chaque mode est en faite un déplacement qui évolue dans le temps sous la forme analytique:\n",
    "\n",
    "$$d(t) = v_\\omega \\cos(\\omega t)$$\n",
    "\n",
    "Avec $v_\\omega$ le vecteur propre associé à la pulsation $\\omega$.\n",
    "\n",
    "La routine ci-dessous permet de générer une vidéo montrant les différents modes"
   ]
  },
  {
   "cell_type": "code",
   "execution_count": null,
   "metadata": {
    "slideshow": {
     "slide_type": "fragment"
    }
   },
   "outputs": [],
   "source": [
    "eigs = makeModalAnalysis(5, K, M)\n",
    "\n",
    "anim = modesAnimation(nodes, ylim=(-0.2, 0.2), eigs=eigs)\n",
    "ph.display_animation(anim)"
   ]
  },
  {
   "cell_type": "markdown",
   "metadata": {
    "slideshow": {
     "slide_type": "fragment"
    }
   },
   "source": [
    "#### Question\n",
    "\n",
    "Changez la discrétisation pour n'avoir que $10$ noeuds. Que constatez vous ?"
   ]
  },
  {
   "cell_type": "code",
   "execution_count": null,
   "metadata": {
    "slideshow": {
     "slide_type": "fragment"
    }
   },
   "outputs": [],
   "source": [
    "# Place your answer here"
   ]
  }
 ],
 "metadata": {
  "celltoolbar": "Slideshow",
  "hide_input": false,
  "kernelspec": {
   "display_name": "Python 3 (ipykernel)",
   "language": "python",
   "name": "python3"
  },
  "language_info": {
   "codemirror_mode": {
    "name": "ipython",
    "version": 3
   },
   "file_extension": ".py",
   "mimetype": "text/x-python",
   "name": "python",
   "nbconvert_exporter": "python",
   "pygments_lexer": "ipython3"
  },
  "name": "FE-chap10.ipynb",
  "rise": {
   "scroll": true
  },
  "toc": {
   "base_numbering": 1,
   "nav_menu": {},
   "number_sections": true,
   "sideBar": true,
   "skip_h1_title": false,
   "title_cell": "Table of Contents",
   "title_sidebar": "Contents",
   "toc_cell": false,
   "toc_position": {
    "height": "calc(100% - 180px)",
    "left": "10px",
    "top": "150px",
    "width": "384px"
   },
   "toc_section_display": "block",
   "toc_window_display": true
  }
 },
 "nbformat": 4,
 "nbformat_minor": 4
}
