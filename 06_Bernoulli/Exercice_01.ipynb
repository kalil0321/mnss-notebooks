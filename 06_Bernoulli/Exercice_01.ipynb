{
 "cells": [
  {
   "cell_type": "markdown",
   "metadata": {},
   "source": [
    "<div style=\"border:1px solid black; padding:10px 10px;\">\n",
    "    <strong>CIVIL-321 \"Modélisation Numérique des Solides et Structures\"</strong><br/><br/>\n",
    "    <span style=\"text-decoration:underline;font-weight:bold;\">Comment utiliser ce Jupyter Notebook?\n",
    "    </span><br/><br/>\n",
    "    Ce <strong>Notebook</strong> est constitué de cellules de texte et de cellule de code. Les cellules de codes doivent être  <strong>executées</strong> pour voir le résultat du programme. Certaines cellules doivent être remplies par vos soins. Pour exécuter une cellule, cliquez dessus simplement et ensuite cliquez sur le bouton \"play\" (<span style=\"font: bold 12px/30px Arial, serif;\">&#9658;</span>) dans la barre de menu au dessus du notebook. Vous pouvez aussi taper la combinaison de touches <code>shift + enter</code>. Il est important d'éxécuter les cellules de code en respectant leur ordre d'arrivée dans le notebook.\n",
    "</div>"
   ]
  },
  {
   "cell_type": "markdown",
   "metadata": {},
   "source": [
    "On vous encourage à poser vos questions et donner votre feedback sur ce notebook sur la plateforme ED Discussion du cours accessible en cliquant sur ce bouton:\n",
    " \n",
    " \n",
    " \n",
    "<div class=\"container\" >\n",
    "        <a href=\"https://edstem.org/eu/courses/409/discussion?category=Exercices\">\n",
    "            <button class=\"btn btn-primary btn-lg\">Ed Discussion</button>\n",
    "        </a>\n",
    "</div>"
   ]
  },
  {
   "cell_type": "markdown",
   "metadata": {},
   "source": [
    "# Poutres de Bernoullis"
   ]
  },
  {
   "cell_type": "code",
   "execution_count": null,
   "metadata": {},
   "outputs": [],
   "source": [
    "from plot import *"
   ]
  },
  {
   "cell_type": "markdown",
   "metadata": {},
   "source": [
    "## Exercice 1 : Matrice de rigidité\n",
    "\n",
    "#### Question \n",
    "\n",
    "Intégrer la matrice de rigidité d’un élément poutre de type Bernoulli travaillant uniquement en flexion.\n",
    "\n",
    "![](Images/Poutre1.png)"
   ]
  },
  {
   "cell_type": "markdown",
   "metadata": {},
   "source": [
    "---\n",
    "\n",
    " **Place your answer here** \n",
    "\n",
    " ---\n",
    "\n"
   ]
  },
  {
   "cell_type": "markdown",
   "metadata": {},
   "source": [
    "#### Question \n",
    "\n",
    "À partir de la matrice obtenue, dérivez la matrice de rigidité d’un élément poutre de Bernoulli dont l'extrémité droite est une rotule"
   ]
  },
  {
   "cell_type": "markdown",
   "metadata": {},
   "source": [
    "![](Images/Poutre2.png)"
   ]
  },
  {
   "cell_type": "markdown",
   "metadata": {},
   "source": [
    "---\n",
    "\n",
    " **Place your answer here** \n",
    "\n",
    " ---\n",
    "\n"
   ]
  },
  {
   "cell_type": "markdown",
   "metadata": {},
   "source": [
    "## Exercice 2\n",
    "\n",
    "Trouvons les déplacements et rotations de la poutre définie par la figure suivante avec :"
   ]
  },
  {
   "cell_type": "code",
   "execution_count": null,
   "metadata": {},
   "outputs": [],
   "source": [
    "E = 3000e7 #N/m2\n",
    "M_barre = 3600000 #N·m\n",
    "q = 600000 #N/m\n",
    "\n",
    "I1 = 250000e-8 #m4, \n",
    "I2 = 128000e-8 #m4, \n",
    "\n",
    "L1 = 10 #m\n",
    "L2 = 8 #m \n",
    "\n",
    "A1 = 0.2 #m2\n",
    "A2 = 0.1 #m2"
   ]
  },
  {
   "cell_type": "markdown",
   "metadata": {},
   "source": [
    "![](Images/Poutre4.PNG)"
   ]
  },
  {
   "cell_type": "markdown",
   "metadata": {},
   "source": [
    "On peut supposer que la poutre n'a pas de déplacements axiaux (que de la flexion)\n",
    "\n",
    "#### Question\n",
    "Completer le code de la cellule suivate permettant de connaitre la matrice de rigidité, connaissant E, I et L. Donner ensuite les matrices de rigidité locales pour les éléments 1 et 2"
   ]
  },
  {
   "cell_type": "code",
   "execution_count": null,
   "metadata": {},
   "outputs": [],
   "source": [
    "# Code à completer \n",
    "def MatriceRigiditePoutre(E, I, L):\n",
    "    K = (E*I/L**3)*np.array([\n",
    "        ['?', '?', '?', '?'],\n",
    "        ['?', '?', '?', '?'],\n",
    "        ['?', '?', '?', '?'],\n",
    "        ['?', '?', '?', '?']\n",
    "    ])\n",
    "    return(K)\n"
   ]
  },
  {
   "cell_type": "code",
   "execution_count": null,
   "metadata": {},
   "outputs": [],
   "source": [
    "# Place your answer here"
   ]
  },
  {
   "cell_type": "markdown",
   "metadata": {},
   "source": [
    "#### Question\n",
    "\n",
    "Calculer simplement les coefficients de la matrice de rigidité globale. Vérifier la cohérence de votre résultat avec la position de vos zéros."
   ]
  },
  {
   "cell_type": "code",
   "execution_count": null,
   "metadata": {},
   "outputs": [],
   "source": [
    "# Place your answer here"
   ]
  },
  {
   "cell_type": "markdown",
   "metadata": {},
   "source": [
    "#### Question\n",
    "\n",
    "Donnez la dimension des vecteurs de force consistante et déplacements. Puis identifiez les degrés de libertés bloqués et ainsi que les forces imposées."
   ]
  },
  {
   "cell_type": "markdown",
   "metadata": {},
   "source": [
    "---\n",
    "\n",
    " **Place your answer here** \n",
    "\n",
    " ---\n",
    "\n"
   ]
  },
  {
   "cell_type": "markdown",
   "metadata": {},
   "source": [
    "\n",
    "#### Question\n",
    "\n",
    "Calculer le moment au noeud 1 et 2, puis en déduire les rotations associées $\\theta_1$ et $\\theta_2$. (vous pouvez aussi programmer la résolution dans la cellule)"
   ]
  },
  {
   "cell_type": "code",
   "execution_count": null,
   "metadata": {},
   "outputs": [],
   "source": [
    "# Place your answer here"
   ]
  },
  {
   "cell_type": "markdown",
   "metadata": {},
   "source": [
    "\n",
    "#### Question\n",
    "\n",
    "Le bout de code suivant permet de représenter graphiquement les déplacements de la poutre. Tracer la déformer de la poutre. Il est à noter que la structure initiale est représentée en pointillé bleu alors que la déformée est représentée en ligne continue grise."
   ]
  },
  {
   "cell_type": "code",
   "execution_count": null,
   "metadata": {},
   "outputs": [],
   "source": [
    "positions = np.array([\n",
    "    [0, 0],\n",
    "    [L1, 0],\n",
    "    [L1+L2, 0]\n",
    "])\n",
    "\n",
    "conn = [\n",
    "    [0, 1],\n",
    "    [1, 2]\n",
    "]\n",
    "\n",
    "displacement = [[0, 0, 0], [0, 0, deplacement[0]], [0, 0, deplacement[1]]]\n",
    "plot_structure(positions, conn, displacement = displacement)"
   ]
  },
  {
   "cell_type": "markdown",
   "metadata": {},
   "source": [
    "#### Question\n",
    "\n",
    "Calculer les déplacements lorsque seule la force $\\boldsymbol{q}$ est appliquée, idem pour le moment $\\overline{M}$. Que remarquez-vous au niveau des déformées ?"
   ]
  },
  {
   "cell_type": "code",
   "execution_count": null,
   "metadata": {},
   "outputs": [],
   "source": [
    "# Place your answer here"
   ]
  },
  {
   "cell_type": "markdown",
   "metadata": {},
   "source": [
    "#### Question\n",
    "\n",
    "Quelles hypothèses permettent de faire une telle décomposition ? Dans quel cas cette décomposition est-elle utile?"
   ]
  },
  {
   "cell_type": "markdown",
   "metadata": {},
   "source": [
    "---\n",
    "\n",
    " **Place your answer here** \n",
    "\n",
    " ---\n",
    "\n"
   ]
  },
  {
   "cell_type": "markdown",
   "metadata": {},
   "source": [
    "# Exercice 3\n",
    "\n",
    "Nous enlevons à présent l'appui à rouleau du noeud 1. Nous appliquons également une force horizontale au noeud 2: $F_2 = 5\\cdot 10^8$ N. Il est donc nécessaire d'inclure les déplacements axiaux de la poutre."
   ]
  },
  {
   "cell_type": "code",
   "execution_count": null,
   "metadata": {},
   "outputs": [],
   "source": [
    "F = 5e8 # [N]"
   ]
  },
  {
   "cell_type": "markdown",
   "metadata": {},
   "source": [
    "#### Question\n",
    "\n",
    "Modifier la fonction créée à l'exercice  précédent pour connaitre les nouvelles matrices de rigidité locales pour les éléments 1 et 2. Calculer ensuite la matrice de rigidité globale de la même façon que précédemment, vérifier sa cohérence."
   ]
  },
  {
   "cell_type": "code",
   "execution_count": null,
   "metadata": {},
   "outputs": [],
   "source": [
    "# Place your answer here"
   ]
  },
  {
   "cell_type": "markdown",
   "metadata": {},
   "source": [
    "#### Question\n",
    "\n",
    "Calculer les coefficients de la matrice de rigidité globale."
   ]
  },
  {
   "cell_type": "code",
   "execution_count": null,
   "metadata": {},
   "outputs": [],
   "source": [
    "# Place your answer here"
   ]
  },
  {
   "cell_type": "markdown",
   "metadata": {},
   "source": [
    "#### Question\n",
    "\n",
    "Donnez la dimension des vecteurs de force consistante et déplacements. Puis identifiez les degrés de libertés bloqués et ainsi que les forces imposées."
   ]
  },
  {
   "cell_type": "markdown",
   "metadata": {},
   "source": [
    "---\n",
    "\n",
    " **Place your answer here** \n",
    "\n",
    " ---\n",
    "\n"
   ]
  },
  {
   "cell_type": "markdown",
   "metadata": {},
   "source": [
    "#### Question\n",
    "\n",
    "Trouver les rotations $\\theta_2$, $\\theta_3$ ainsi que les déplacements $u_2$, $v_2$ et $u_3$."
   ]
  },
  {
   "cell_type": "code",
   "execution_count": null,
   "metadata": {},
   "outputs": [],
   "source": [
    "# Place your answer here"
   ]
  },
  {
   "cell_type": "markdown",
   "metadata": {},
   "source": [
    "#### Question\n",
    "\n",
    "De la même façon que précédemment, observer la déformée de la poutre. Ce résultat vous semble-t-il cohérent ?"
   ]
  },
  {
   "cell_type": "code",
   "execution_count": null,
   "metadata": {},
   "outputs": [],
   "source": [
    "displacement = [[0, 0, 0], \n",
    "                [deplacement[0], deplacement[1], deplacement[2]], \n",
    "                [deplacement[3], 0, deplacement[4]]]\n",
    "\n",
    "plot_structure(positions, conn, displacement = displacement)"
   ]
  }
 ],
 "metadata": {
  "hide_input": false,
  "kernelspec": {
   "display_name": "Python 3 (ipykernel)",
   "language": "python",
   "name": "python3"
  },
  "language_info": {
   "codemirror_mode": {
    "name": "ipython",
    "version": 3
   },
   "file_extension": ".py",
   "mimetype": "text/x-python",
   "name": "python",
   "nbconvert_exporter": "python",
   "pygments_lexer": "ipython3"
  },
  "toc": {
   "base_numbering": 1,
   "nav_menu": {},
   "number_sections": true,
   "sideBar": true,
   "skip_h1_title": false,
   "title_cell": "Table of Contents",
   "title_sidebar": "Contents",
   "toc_cell": false,
   "toc_position": {
    "height": "calc(100% - 180px)",
    "left": "10px",
    "top": "150px",
    "width": "426.667px"
   },
   "toc_section_display": true,
   "toc_window_display": true
  }
 },
 "nbformat": 4,
 "nbformat_minor": 4
}
