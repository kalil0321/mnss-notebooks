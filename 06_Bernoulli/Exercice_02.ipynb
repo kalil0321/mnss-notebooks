{
 "cells": [
  {
   "cell_type": "markdown",
   "metadata": {},
   "source": [
    "# Série d'exercice 13 : Poutres avec torsion, symétries"
   ]
  },
  {
   "cell_type": "markdown",
   "metadata": {},
   "source": [
    "On vous encourage à poser vos questions et donner votre feedback sur ce notebook sur la plateforme ED Discussion du cours accessible en cliquant sur ce bouton:\n",
    " \n",
    " \n",
    " \n",
    "<div class=\"container\" >\n",
    "        <a href=\"https://edstem.org/eu/courses/409/discussion?category=Exercices\">\n",
    "            <button class=\"btn btn-primary btn-lg\">Ed Discussion</button>\n",
    "        </a>\n",
    "</div>"
   ]
  },
  {
   "cell_type": "code",
   "execution_count": null,
   "metadata": {},
   "outputs": [],
   "source": [
    "import numpy as np\n",
    "import matplotlib.pyplot as plt\n",
    "from IPython.display import Image\n",
    "import math as m\n",
    "from plot import *"
   ]
  },
  {
   "cell_type": "markdown",
   "metadata": {},
   "source": [
    "## Exercice 1 : Cadres\n",
    "\n",
    "On considère la structure cadre suivante, soumise à une charge externe $P = 200$ MN comme illustré ci-dessous:"
   ]
  },
  {
   "cell_type": "code",
   "execution_count": null,
   "metadata": {},
   "outputs": [],
   "source": [
    "Image(filename = './Images/Frame.png',  width=350, height=200)"
   ]
  },
  {
   "cell_type": "markdown",
   "metadata": {},
   "source": [
    "Le cadre est composé de deux poutres. Les propriétés matérielles des deux poutres sont identiques:\n",
    "  \\begin{align*}\n",
    "    A &= 3\\times 10^{-2}\\text{ m} \\\\\n",
    "    I &= 3\\times 10^{-4}\\text{ m}^4 \\\\\n",
    "    E &= 70 \\text{ GPa}\n",
    "  \\end{align*}\n",
    "Étant donné que la structure présente une symétrie, vous devrez considérer un problème équivalent qui considère une seule poutre.\n",
    "\n",
    "1. Réduire le cadre présenté à une structure équivalente qui considère une seule poutre. Quelles seront les nouvelles conditions limites et les charges pour ce nouveau problème ?"
   ]
  },
  {
   "cell_type": "markdown",
   "metadata": {},
   "source": [
    "---\n",
    "\n",
    " **Place your answer here** \n",
    "\n",
    " ---\n",
    "\n"
   ]
  },
  {
   "cell_type": "code",
   "execution_count": null,
   "metadata": {},
   "outputs": [],
   "source": [
    "# Place your answer here"
   ]
  },
  {
   "cell_type": "markdown",
   "metadata": {},
   "source": [
    "2. En réutilisant la fonction _MatriceRigiditePoutreAxiaux_, définie lors de la série 8, formuler la matrice de rigidité $k_1$ pour l'élément 1 dans son axe."
   ]
  },
  {
   "cell_type": "code",
   "execution_count": null,
   "metadata": {},
   "outputs": [],
   "source": [
    "def MatriceRigiditePoutreAxiaux(E, I, L, A):\n",
    "    K = (E*I/L**3)*np.array([\n",
    "        [A*L**2/I, 0, 0, -A*L**2/I, 0, 0],\n",
    "        [0, 12, 6*L, 0, -12, 6*L],\n",
    "        [0, 6*L, 4*L**2, 0, -6*L, 2*L**2],\n",
    "        [-A*L**2/I, 0, 0, A*L**2/I, 0, 0],\n",
    "        [0, -12, -6*L, 0, 12, -6*L],\n",
    "        [0, 6*L, 2*L**2, 0, -6*L, 4*L**2]\n",
    "    ])\n",
    "    return(K)"
   ]
  },
  {
   "cell_type": "code",
   "execution_count": null,
   "metadata": {},
   "outputs": [],
   "source": [
    "# Place your answer here"
   ]
  },
  {
   "cell_type": "markdown",
   "metadata": {},
   "source": [
    "3. Formuler la matrice de rigidité $K$ exprimée pour les axes globaux. Pour simplifier la suite du problème, définisser une fonction nommée _MatriceRotationPoutre(cos, sin, Kl)_ permettant de calculer la matrice de transformation."
   ]
  },
  {
   "cell_type": "code",
   "execution_count": null,
   "metadata": {},
   "outputs": [],
   "source": [
    "# Pour la transformation de cette dernière, du système de coordonnée local vers le global, \n",
    "# les valeurs de cos θ et sin θ sont données :\n",
    "cos = 3/L\n",
    "sin = 4/L\n",
    "\n",
    "def MatriceRotationPoutre(cos, sin, Kl):\n",
    "    # La matrice de transformation sera :\n",
    "    T = np.zeros((6, 6))\n",
    "    T[:2, :2] = np.array([\n",
    "        [cos, sin],\n",
    "        [-sin, cos]\n",
    "    ])\n",
    "    T[2, 2] = 1\n",
    "    T[3:5, 3:5] = np.array([\n",
    "        [cos, sin],\n",
    "        [-sin, cos]\n",
    "    ])\n",
    "    T[5, 5] = 1\n",
    "    return T\n",
    "    \n",
    "T = MatriceRotationPoutre(cos, sin, Kl)\n",
    "plot_matrix(T, 'T')\n",
    "\n",
    "# La matrice de rigidité locale $k_1$ est donc :\n",
    "Kg = T.T@Kl@T\n",
    "plot_matrix(Kg, 'Kg')"
   ]
  },
  {
   "cell_type": "markdown",
   "metadata": {},
   "source": [
    "4. Résoudre le système d'équations."
   ]
  },
  {
   "cell_type": "code",
   "execution_count": null,
   "metadata": {},
   "outputs": [],
   "source": [
    "# Place your answer here"
   ]
  },
  {
   "cell_type": "markdown",
   "metadata": {},
   "source": [
    "La fonction plot_strcuture permet de représenter graphiquement le déplacement de la structure. Elle prend en entrée la position des noeuds, la connectivité entre eux ainsi que leur déplacement (u, v, $\\theta$). Un exemple vous est présenté ci-dessous."
   ]
  },
  {
   "cell_type": "code",
   "execution_count": null,
   "metadata": {},
   "outputs": [],
   "source": [
    "positions = np.array([\n",
    "    [0, 0],\n",
    "    [3, 4]\n",
    "])\n",
    "\n",
    "conn = [\n",
    "    [0, 1],\n",
    "]\n",
    "\n",
    "displacement = [[0, 0, 0], [0, v1[0], 0]]\n",
    "\n",
    "plot_structure(positions, conn, displacement = displacement)"
   ]
  },
  {
   "cell_type": "markdown",
   "metadata": {},
   "source": [
    "5. Modifier la force P et observer la nouvelle déformée du cadre"
   ]
  },
  {
   "cell_type": "code",
   "execution_count": null,
   "metadata": {},
   "outputs": [],
   "source": [
    "# Place your answer here"
   ]
  },
  {
   "cell_type": "markdown",
   "metadata": {},
   "source": [
    "Maintenant considérez cette même structure pour laquelle un déplacement $u_1 = U =1\\times 10^{-1}$ m est prescrit sur le noeud 1 dans la direction de l'axe $x$ comme illustré ci-dessous:"
   ]
  },
  {
   "cell_type": "code",
   "execution_count": null,
   "metadata": {},
   "outputs": [],
   "source": [
    "Image(filename = './Images/Frame_Part2.png', width=350, height=200)"
   ]
  },
  {
   "cell_type": "markdown",
   "metadata": {},
   "source": [
    "L'application d'un déplacement horizontal sur le noeud 1 rompt la symétrie du problème et donc il ne peut plus être réduit. En prenant en compte ce dernier point:\n",
    "\n",
    "6. Assembler la matrice de rigidité $K$ exprimée pour les axes globaux."
   ]
  },
  {
   "cell_type": "markdown",
   "metadata": {},
   "source": [
    "---\n",
    "\n",
    " **Place your answer here** \n",
    "\n",
    " ---\n",
    "\n"
   ]
  },
  {
   "cell_type": "code",
   "execution_count": null,
   "metadata": {},
   "outputs": [],
   "source": [
    "plot_matrix(Kl, 'Kl')"
   ]
  },
  {
   "cell_type": "code",
   "execution_count": null,
   "metadata": {},
   "outputs": [],
   "source": [
    "# Place your answer here"
   ]
  },
  {
   "cell_type": "markdown",
   "metadata": {},
   "source": [
    "7. Assembler le vecteur de force $F$ exprimée pour les axes globaux."
   ]
  },
  {
   "cell_type": "markdown",
   "metadata": {},
   "source": [
    "---\n",
    "\n",
    " **Place your answer here** \n",
    "\n",
    " ---\n",
    "\n"
   ]
  },
  {
   "cell_type": "markdown",
   "metadata": {},
   "source": [
    "8. Utiliser le déplacement $u_1$ pour modifier le système d'équation."
   ]
  },
  {
   "cell_type": "markdown",
   "metadata": {},
   "source": [
    "---\n",
    "\n",
    " **Place your answer here** \n",
    "\n",
    " ---\n",
    "\n"
   ]
  },
  {
   "cell_type": "code",
   "execution_count": null,
   "metadata": {},
   "outputs": [],
   "source": [
    "# Place your answer here"
   ]
  },
  {
   "cell_type": "markdown",
   "metadata": {},
   "source": [
    "9. Résoudre le système d'équations et tracer la déformée."
   ]
  },
  {
   "cell_type": "code",
   "execution_count": null,
   "metadata": {},
   "outputs": [],
   "source": [
    "# Place your answer here"
   ]
  },
  {
   "cell_type": "markdown",
   "metadata": {},
   "source": [
    "## Exercice 2 : Console de deux poutres\n",
    "\n",
    "On considère dans cet exercice une console formée par deux poutres:"
   ]
  },
  {
   "cell_type": "code",
   "execution_count": null,
   "metadata": {},
   "outputs": [],
   "source": [
    "Image(filename = './Images/beams.png',  width=350, height=200)"
   ]
  },
  {
   "cell_type": "markdown",
   "metadata": {},
   "source": [
    "1. Quel type d'élément est adapté à la résolution de ce problème ? Combien y a-t-il de degrés de liberté par élément ?"
   ]
  },
  {
   "cell_type": "markdown",
   "metadata": {},
   "source": [
    "---\n",
    "\n",
    " **Place your answer here** \n",
    "\n",
    " ---\n",
    "\n"
   ]
  },
  {
   "cell_type": "markdown",
   "metadata": {},
   "source": [
    "On considère que les poutres on le même module de Young $E$, inertie flexionnelle $I$ (dans toutes les directions), et constante de torsion $J$.\n",
    "\n",
    "2. En utilisant les symétries du problème, déterminer les degrés de libertés nuls du système. Montrez que l'on peut réduire le nombre d'inconnues à trois. Est-il possible de déduire sans calcul la valeur d'un de ces degrés de liberté ?"
   ]
  },
  {
   "cell_type": "markdown",
   "metadata": {},
   "source": [
    "---\n",
    "\n",
    " **Place your answer here** \n",
    "\n",
    " ---\n",
    "\n"
   ]
  },
  {
   "cell_type": "markdown",
   "metadata": {},
   "source": [
    "3. Définir les matrices de rigidité locales $k_1$ et $k_2$, en se limitant aux degrés de libertés non-nuls."
   ]
  },
  {
   "cell_type": "markdown",
   "metadata": {},
   "source": [
    "---\n",
    "\n",
    " **Place your answer here** \n",
    "\n",
    " ---\n",
    "\n"
   ]
  },
  {
   "cell_type": "markdown",
   "metadata": {},
   "source": [
    "Posons $E = G = I = J = L = 1$ pour la simplicité. Il est également plus simple de considérer comme axes globaux le système d'axe $(O, x', y', z)$ défini par la figure ci-dessous:"
   ]
  },
  {
   "cell_type": "code",
   "execution_count": null,
   "metadata": {},
   "outputs": [],
   "source": [
    "Image(filename = './Images/beams_symetry.png',  width=250, height=200)"
   ]
  },
  {
   "cell_type": "markdown",
   "metadata": {},
   "source": [
    "4. Assembler la matrice de rigidité globale $K$."
   ]
  },
  {
   "cell_type": "markdown",
   "metadata": {},
   "source": [
    "On applique une matrice de rotation de $\\frac{-\\pi}{4}$ à la matrice de rigidité $k_1$:\n",
    "\\begin{equation*}\n",
    "      R  = \\begin{pmatrix}\n",
    "        1 & 0 & 0 \\\\\n",
    "        0 & \\frac{\\sqrt{2}}{2} & \\frac{\\sqrt{2}}{2}\\\\\n",
    "        0 & -\\frac{\\sqrt{2}}{2} & \\frac{\\sqrt{2}}{2}\n",
    "      \\end{pmatrix}\n",
    "    \\end{equation*}\n",
    "    \\begin{equation*}\n",
    "      K_1 = R^Tk_1R = \\begin{pmatrix}12 & - 3 \\sqrt{2} & - 3 \\sqrt{2}\\\\- 3 \\sqrt{2} & \\frac{5}{2} & \\frac{3}{2}\\\\- 3 \\sqrt{2} & \\frac{3}{2} & \\frac{5}{2}\\end{pmatrix}\n",
    "\\end{equation*}\n",
    "\n",
    "On applique une matrice de rotation de $\\frac{\\pi}{4}$ à la matrice de rigidité $k_2$:\n",
    "\\begin{equation*}\n",
    "      R  = \\begin{pmatrix}\n",
    "        1 & 0 & 0 \\\\\n",
    "        0 & \\frac{\\sqrt{2}}{2} & -\\frac{\\sqrt{2}}{2}\\\\\n",
    "        0 & \\frac{\\sqrt{2}}{2} & \\frac{\\sqrt{2}}{2}\n",
    "      \\end{pmatrix}\n",
    "    \\end{equation*}\n",
    "    Soit $K_2$ la matrice $k_2$ dans les axes globaux:\n",
    "    \\begin{equation*}\n",
    "      K_2 = R^Tk_2R = \\begin{pmatrix}12 & 3 \\sqrt{2} & - 3 \\sqrt{2}\\\\3 \\sqrt{2} & \\frac{5}{2} & - \\frac{3}{2}\\\\- 3 \\sqrt{2} & - \\frac{3}{2} & \\frac{5}{2}\\end{pmatrix}\n",
    "\\end{equation*}\n",
    "\n",
    "On peut directement faire la somme de $K_1$ et $K_2$ pour obtenir une matrice 3$\\times$3. Par contre, on sait que l'on ne doit avoir que deux degrés de libertés (translation selon $z$ et rotation autour de $y'$), donc la matrice globale doit être une 2$\\times$2. Projeté dans le système d'axes $(Ox'y'z)$, le vecteur d'inconnue $(v_i, \\theta_i^T, \\theta_i)$ devient $(v_z, \\theta_{x'}, \\theta_{y'})$. On sait par symétrie que $\\theta_{x'} = 0$, on peut donc ignorer les lignes et colonnes centrales de $K_1$ et $K_2$.\n",
    "    \\begin{equation*}\n",
    "      K = \\begin{pmatrix}\n",
    "        24 & -6\\sqrt{2}\\\\\n",
    "        -6\\sqrt{2} & 4\n",
    "      \\end{pmatrix}\n",
    "    \\end{equation*}"
   ]
  },
  {
   "cell_type": "markdown",
   "metadata": {},
   "source": [
    "5. Assembler le vecteur des forces nodales $F$."
   ]
  },
  {
   "cell_type": "markdown",
   "metadata": {},
   "source": [
    "---\n",
    "\n",
    " **Place your answer here** \n",
    "\n",
    " ---\n",
    "\n"
   ]
  },
  {
   "cell_type": "markdown",
   "metadata": {},
   "source": [
    "6. Résoudre le système d'équations."
   ]
  },
  {
   "cell_type": "markdown",
   "metadata": {},
   "source": [
    "---\n",
    "\n",
    " **Place your answer here** \n",
    "\n",
    " ---\n",
    "\n"
   ]
  }
 ],
 "metadata": {
  "hide_input": false,
  "kernelspec": {
   "display_name": "Python 3 (ipykernel)",
   "language": "python",
   "name": "python3"
  },
  "language_info": {
   "codemirror_mode": {
    "name": "ipython",
    "version": 3
   },
   "file_extension": ".py",
   "mimetype": "text/x-python",
   "name": "python",
   "nbconvert_exporter": "python",
   "pygments_lexer": "ipython3"
  },
  "toc": {
   "base_numbering": 1,
   "nav_menu": {},
   "number_sections": true,
   "sideBar": true,
   "skip_h1_title": false,
   "title_cell": "Table of Contents",
   "title_sidebar": "Contents",
   "toc_cell": false,
   "toc_position": {},
   "toc_section_display": true,
   "toc_window_display": false
  }
 },
 "nbformat": 4,
 "nbformat_minor": 4
}
