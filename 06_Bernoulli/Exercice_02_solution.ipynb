{
 "cells": [
  {
   "cell_type": "markdown",
   "metadata": {},
   "source": [
    "# Série d'exercice 13 : Poutres avec torsion, symétries"
   ]
  },
  {
   "cell_type": "markdown",
   "metadata": {},
   "source": [
    "On vous encourage à poser vos questions et donner votre feedback sur ce notebook sur la plateforme ED Discussion du cours accessible en cliquant sur ce bouton:\n",
    " \n",
    " \n",
    " \n",
    "<div class=\"container\" >\n",
    "        <a href=\"https://edstem.org/eu/courses/409/discussion?category=Exercices\">\n",
    "            <button class=\"btn btn-primary btn-lg\">Ed Discussion</button>\n",
    "        </a>\n",
    "</div>"
   ]
  },
  {
   "cell_type": "code",
   "execution_count": null,
   "metadata": {},
   "outputs": [],
   "source": [
    "import numpy as np\n",
    "import matplotlib.pyplot as plt\n",
    "from IPython.display import Image\n",
    "import math as m\n",
    "from plot import *"
   ]
  },
  {
   "cell_type": "markdown",
   "metadata": {},
   "source": [
    "## Exercice 1 : Cadres\n",
    "\n",
    "On considère la structure cadre suivante, soumise à une charge externe $P = 200$ MN comme illustré ci-dessous:"
   ]
  },
  {
   "cell_type": "code",
   "execution_count": null,
   "metadata": {},
   "outputs": [],
   "source": [
    "Image(filename = './Images/Frame.png',  width=350, height=200)"
   ]
  },
  {
   "cell_type": "markdown",
   "metadata": {},
   "source": [
    "Le cadre est composé de deux poutres. Les propriétés matérielles des deux poutres sont identiques:\n",
    "  \\begin{align*}\n",
    "    A &= 3\\times 10^{-2}\\text{ m} \\\\\n",
    "    I &= 3\\times 10^{-4}\\text{ m}^4 \\\\\n",
    "    E &= 70 \\text{ GPa}\n",
    "  \\end{align*}\n",
    "Étant donné que la structure présente une symétrie, vous devrez considérer un problème équivalent qui considère une seule poutre.\n",
    "\n",
    "1. Réduire le cadre présenté à une structure équivalente qui considère une seule poutre. Quelles seront les nouvelles conditions limites et les charges pour ce nouveau problème ?"
   ]
  },
  {
   "cell_type": "markdown",
   "metadata": {},
   "source": [
    "---\n",
    "\n",
    " **Solution:**\n",
    "\n",
    " ---\n",
    "\n",
    "\n",
    "\n",
    "En utilisant la symétrie du problème, le cadre peut être réduit à une seule poutre avec les conditions limites présentés ci-dessous. Une charge nodale vertical de valeur $P/2$ est imposée sur le noeud 1.\n",
    "\n",
    "Conditions limites: Comme le noeud 0 est encastré, les degrés de libertés associés sont nuls, et comme le noeud 1 est contraint de se déplacer uniquement dans la direction y, seuls les degrés de libertés verticaux sont non nuls:\n",
    "  \\begin{align*}\n",
    "    &\\text{Nœud 0 :}\\quad u_0 = 0;\\quad v_0 = 0;\\quad \\phi_0 = 0 \\\\\n",
    "    &\\text{Nœud 1 :}\\quad u_1 = 0;\\quad \\phi_1 = 0\n",
    "  \\end{align*}"
   ]
  },
  {
   "cell_type": "code",
   "execution_count": null,
   "metadata": {},
   "outputs": [],
   "source": [
    "###########\n",
    "# Solution:\n",
    "##########\n",
    "\n",
    "Image(filename = './Images/Frame_single.png',  width=350, height=200)"
   ]
  },
  {
   "cell_type": "markdown",
   "metadata": {},
   "source": [
    "2. En réutilisant la fonction _MatriceRigiditePoutreAxiaux_, définie lors de la série 8, formuler la matrice de rigidité $k_1$ pour l'élément 1 dans son axe."
   ]
  },
  {
   "cell_type": "code",
   "execution_count": null,
   "metadata": {},
   "outputs": [],
   "source": [
    "def MatriceRigiditePoutreAxiaux(E, I, L, A):\n",
    "    K = (E*I/L**3)*np.array([\n",
    "        [A*L**2/I, 0, 0, -A*L**2/I, 0, 0],\n",
    "        [0, 12, 6*L, 0, -12, 6*L],\n",
    "        [0, 6*L, 4*L**2, 0, -6*L, 2*L**2],\n",
    "        [-A*L**2/I, 0, 0, A*L**2/I, 0, 0],\n",
    "        [0, -12, -6*L, 0, 12, -6*L],\n",
    "        [0, 6*L, 2*L**2, 0, -6*L, 4*L**2]\n",
    "    ])\n",
    "    return(K)"
   ]
  },
  {
   "cell_type": "code",
   "execution_count": null,
   "metadata": {},
   "outputs": [],
   "source": [
    "###########\n",
    "# Solution:\n",
    "##########\n",
    "\n",
    "A = 0.03 # [m]\n",
    "I = 3*10**(-4) # [m4]\n",
    "E = 70*10**9 # [Pa]\n",
    "L = np.sqrt(3**2+4**2)\n",
    "\n",
    "Kl = MatriceRigiditePoutreAxiaux(E, I, L, A) # [N/m]\n",
    "plot_matrix(Kl, 'K_l')"
   ]
  },
  {
   "cell_type": "markdown",
   "metadata": {},
   "source": [
    "3. Formuler la matrice de rigidité $K$ exprimée pour les axes globaux. Pour simplifier la suite du problème, définisser une fonction nommée _MatriceRotationPoutre(cos, sin, Kl)_ permettant de calculer la matrice de transformation."
   ]
  },
  {
   "cell_type": "code",
   "execution_count": null,
   "metadata": {},
   "outputs": [],
   "source": [
    "# Pour la transformation de cette dernière, du système de coordonnée local vers le global, \n",
    "# les valeurs de cos θ et sin θ sont données :\n",
    "cos = 3/L\n",
    "sin = 4/L\n",
    "\n",
    "def MatriceRotationPoutre(cos, sin, Kl):\n",
    "    # La matrice de transformation sera :\n",
    "    T = np.zeros((6, 6))\n",
    "    T[:2, :2] = np.array([\n",
    "        [cos, sin],\n",
    "        [-sin, cos]\n",
    "    ])\n",
    "    T[2, 2] = 1\n",
    "    T[3:5, 3:5] = np.array([\n",
    "        [cos, sin],\n",
    "        [-sin, cos]\n",
    "    ])\n",
    "    T[5, 5] = 1\n",
    "    return T\n",
    "    \n",
    "T = MatriceRotationPoutre(cos, sin, Kl)\n",
    "plot_matrix(T, 'T')\n",
    "\n",
    "# La matrice de rigidité locale $k_1$ est donc :\n",
    "Kg = T.T@Kl@T\n",
    "plot_matrix(Kg, 'Kg')"
   ]
  },
  {
   "cell_type": "markdown",
   "metadata": {},
   "source": [
    "4. Résoudre le système d'équations."
   ]
  },
  {
   "cell_type": "code",
   "execution_count": null,
   "metadata": {},
   "outputs": [],
   "source": [
    "###########\n",
    "# Solution:\n",
    "##########\n",
    "\n",
    "\n",
    "# Matrice de raideur réduite au vu des conditions aux limites :\n",
    "Kred = Kg[4:5, 4:5]\n",
    "\n",
    "# La seule force connue est f_1y :\n",
    "P = -200000000 # [N]\n",
    "f_1y = np.array([P/2])\n",
    "\n",
    "# La solution pour le déplacement nodal du noeud 1 est :\n",
    "v1 = np.linalg.inv(Kred)@f_1y\n",
    "print('v_1 [m] = ', v1)"
   ]
  },
  {
   "cell_type": "markdown",
   "metadata": {},
   "source": [
    "La fonction plot_strcuture permet de représenter graphiquement le déplacement de la structure. Elle prend en entrée la position des noeuds, la connectivité entre eux ainsi que leur déplacement (u, v, $\\theta$). Un exemple vous est présenté ci-dessous."
   ]
  },
  {
   "cell_type": "code",
   "execution_count": null,
   "metadata": {},
   "outputs": [],
   "source": [
    "positions = np.array([\n",
    "    [0, 0],\n",
    "    [3, 4]\n",
    "])\n",
    "\n",
    "conn = [\n",
    "    [0, 1],\n",
    "]\n",
    "\n",
    "displacement = [[0, 0, 0], [0, v1[0], 0]]\n",
    "\n",
    "plot_structure(positions, conn, displacement = displacement)"
   ]
  },
  {
   "cell_type": "markdown",
   "metadata": {},
   "source": [
    "5. Modifier la force P et observer la nouvelle déformée du cadre"
   ]
  },
  {
   "cell_type": "code",
   "execution_count": null,
   "metadata": {},
   "outputs": [],
   "source": [
    "###########\n",
    "# Solution:\n",
    "##########\n",
    "\n",
    "\n",
    "positions = np.array([\n",
    "    [0, 0],\n",
    "    [3, 4]\n",
    "])\n",
    "\n",
    "conn = [\n",
    "    [0, 1],\n",
    "]\n",
    "\n",
    "# A modifier :\n",
    "P = +200000000 # [N]\n",
    "f_2y = P/2\n",
    "\n",
    "# La solution pour le déplacement nodal du noeud 2 est :\n",
    "v2 = np.linalg.inv(Kred)*f_2y\n",
    "displacement = [[0, 0, 0], [0, float(v2), 0]]\n",
    "\n",
    "plot_structure(positions, conn, displacement = displacement)"
   ]
  },
  {
   "cell_type": "markdown",
   "metadata": {},
   "source": [
    "Maintenant considérez cette même structure pour laquelle un déplacement $u_1 = U =1\\times 10^{-1}$ m est prescrit sur le noeud 1 dans la direction de l'axe $x$ comme illustré ci-dessous:"
   ]
  },
  {
   "cell_type": "code",
   "execution_count": null,
   "metadata": {},
   "outputs": [],
   "source": [
    "Image(filename = './Images/Frame_Part2.png', width=350, height=200)"
   ]
  },
  {
   "cell_type": "markdown",
   "metadata": {},
   "source": [
    "L'application d'un déplacement horizontal sur le noeud 1 rompt la symétrie du problème et donc il ne peut plus être réduit. En prenant en compte ce dernier point:\n",
    "\n",
    "6. Assembler la matrice de rigidité $K$ exprimée pour les axes globaux."
   ]
  },
  {
   "cell_type": "markdown",
   "metadata": {},
   "source": [
    "---\n",
    "\n",
    " **Solution:**\n",
    "\n",
    " ---\n",
    "\n",
    "\n",
    "\n",
    "Si l'on considère deux éléments poutre, leur matrice de rigidité dans le système de coordonnées local seront égales et de valeur $k_1$. Pour calculer ces dernières dans le système de coordonnées global, les valeurs de $\\cos\\theta$ et $\\sin\\theta$ doivent une fois de plus être utilisées:\n",
    "  \\begin{align*}\n",
    "    &\\text{Element 1: } \\cos\\theta = 3/L \\quad \\sin\\theta = 4/L \\\\\n",
    "    &\\text{Element 2: } \\cos(\\theta) = 3/L \\quad \\sin(-\\theta) = -4/L\n",
    "  \\end{align*}"
   ]
  },
  {
   "cell_type": "code",
   "execution_count": null,
   "metadata": {},
   "outputs": [],
   "source": [
    "plot_matrix(Kl, 'Kl')"
   ]
  },
  {
   "cell_type": "code",
   "execution_count": null,
   "metadata": {},
   "outputs": [],
   "source": [
    "###########\n",
    "# Solution:\n",
    "##########\n",
    "\n",
    "\n",
    "# Element 1\n",
    "cos1 = 3/L\n",
    "sin1 = 4/L\n",
    "T1=MatriceRotationPoutre(cos1, sin1, Kl)\n",
    "Kg1 = T1.T@Kl@T1\n",
    "\n",
    "# Element 2\n",
    "cos2 = 3/L\n",
    "sin2 = -4/L\n",
    "T2=MatriceRotationPoutre(cos2, sin2, Kl)\n",
    "Kg2 = T2.T@Kl@T2\n",
    "\n",
    "# Assemblage\n",
    "Kgtot = np.zeros((9, 9)) # Matrice de rigidité globale\n",
    "Kgtot[:6, :6] = Kg1\n",
    "Kgtot[3:, 3:] = Kgtot[3:, 3:] + Kg2\n",
    "\n",
    "# Conditions initiales\n",
    "# Les noeuds 0 et 2 sont encastrées, la matrice de raideur réduite conserve uniquement les ddl du noeud 1\n",
    "\n",
    "Kgred = Kgtot[3:6, 3:6]\n",
    "\n",
    "plot_matrix(Kgred, 'Kgred')"
   ]
  },
  {
   "cell_type": "markdown",
   "metadata": {},
   "source": [
    "7. Assembler le vecteur de force $F$ exprimée pour les axes globaux."
   ]
  },
  {
   "cell_type": "markdown",
   "metadata": {},
   "source": [
    "---\n",
    "\n",
    " **Solution:**\n",
    "\n",
    " ---\n",
    "\n",
    "\n",
    "\n",
    "Le vecteur de force global $F$ est :\n",
    "  \\begin{equation*}\n",
    "    F^T = \\begin{pmatrix}\n",
    "      F_{0x} & F_{0y}  &\tM_0 & F_{1x} & -P & 0 &F_{2x} & F_{2y} & M_2\n",
    "    \\end{pmatrix}\n",
    "  \\end{equation*}"
   ]
  },
  {
   "cell_type": "markdown",
   "metadata": {},
   "source": [
    "8. Utiliser le déplacement $u_1$ pour modifier le système d'équation."
   ]
  },
  {
   "cell_type": "markdown",
   "metadata": {},
   "source": [
    "---\n",
    "\n",
    " **Solution:**\n",
    "\n",
    " ---\n",
    "\n",
    "\n",
    "\n",
    "Le vecteur de déplacement $U$ pour le système est:\n",
    "  \\begin{equation*}\n",
    "    U^T = \\begin{pmatrix}\n",
    "      0 & 0  &\t0 & u_1 & v_1 & \\phi_1 & 0 & 0 & 0\n",
    "    \\end{pmatrix}\n",
    "  \\end{equation*}\n",
    "  Le déplacement prescrit sur le noeud 1 ($u_1=U$) peut être exprimé dans le système d'équation en considérant d'une part la matrice réduite associée aux degrée de libertés libres et d'autre part la contribution de $u_1$ en tant que force équivalente:\n",
    "  \\begin{equation*}\n",
    "    K_r = \\begin{pmatrix}\n",
    "      K_{55} & K_{56} \\\\\n",
    "      K_{65} & K_{66}  \\\\\n",
    "    \\end{pmatrix}\\quad\\quad F_r=\n",
    "    \\begin{pmatrix}\n",
    "      -P\\\\\n",
    "      0 \\\\\n",
    "    \\end{pmatrix}\\quad\\quad F_{u_1,eq}=\n",
    "    \\begin{pmatrix}\n",
    "      K_{54}\\\\\n",
    "      K_{64} \\\\\n",
    "    \\end{pmatrix} U\n",
    "  \\end{equation*}\n",
    "  \n",
    "  L'équilibre s'écrit:\n",
    "  \\begin{equation*}\n",
    "    K_r \\begin{pmatrix}\n",
    "      v_1  \\\\\n",
    "      \\phi_1 \\\\\n",
    "    \\end{pmatrix} = F - F_{u_1,eq}\n",
    "  \\end{equation*}"
   ]
  },
  {
   "cell_type": "code",
   "execution_count": null,
   "metadata": {},
   "outputs": [],
   "source": [
    "###########\n",
    "# Solution:\n",
    "##########\n",
    "\n",
    "\n",
    "# Matrice de raideur réduite\n",
    "Kr = Kgtot[4:6, 4:6]\n",
    "plot_matrix(Kr, 'Kr')\n",
    "\n",
    "# Le vecteur de force :\n",
    "P = 200000000 # N\n",
    "Fr = np.array([[-P], [0]])\n",
    "\n",
    "U = 1*10**(-1)\n",
    "Ku2 = np.array([\n",
    "    [Kgtot[4, 3]],\n",
    "    [Kgtot[5, 3]]\n",
    "])\n",
    "Fu2 = U*Ku2\n",
    "\n",
    "F_eff = Fr - Fu2"
   ]
  },
  {
   "cell_type": "markdown",
   "metadata": {},
   "source": [
    "9. Résoudre le système d'équations et tracer la déformée."
   ]
  },
  {
   "cell_type": "code",
   "execution_count": null,
   "metadata": {},
   "outputs": [],
   "source": [
    "###########\n",
    "# Solution:\n",
    "##########\n",
    "\n",
    "deplacement = np.linalg.inv(Kr)@F_eff\n",
    "print('Déplacement vertical au noeud 1 [m]', float(deplacement[0]))\n",
    "print('Rotation au noeud 1 [rad]]', float(deplacement[1]))\n",
    "\n",
    "positions = np.array([\n",
    "    [0, 0],\n",
    "    [3, 4],\n",
    "    [6, 0]\n",
    "])\n",
    "\n",
    "conn = np.array([\n",
    "    [0, 1],\n",
    "    [1, 2]\n",
    "])\n",
    "\n",
    "displacement = [[0, 0, 0], [U, float(deplacement[0]), float(deplacement[1])], [0, 0, 0]]\n",
    "plot_structure(positions, conn, displacement = displacement)"
   ]
  },
  {
   "cell_type": "markdown",
   "metadata": {},
   "source": [
    "## Exercice 2 : Console de deux poutres\n",
    "\n",
    "On considère dans cet exercice une console formée par deux poutres:"
   ]
  },
  {
   "cell_type": "code",
   "execution_count": null,
   "metadata": {},
   "outputs": [],
   "source": [
    "Image(filename = './Images/beams.png',  width=350, height=200)"
   ]
  },
  {
   "cell_type": "markdown",
   "metadata": {},
   "source": [
    "1. Quel type d'élément est adapté à la résolution de ce problème ? Combien y a-t-il de degrés de liberté par élément ?"
   ]
  },
  {
   "cell_type": "markdown",
   "metadata": {},
   "source": [
    "---\n",
    "\n",
    " **Solution:**\n",
    "\n",
    " ---\n",
    "\n",
    "\n",
    "\n",
    "Il s'agit d'un problème 3D: le fléchissement et la torsion sont à prendre en compte par des poutres de Bernouilli 3D chacune avec 12 degrés de libertés. Sur chaque noeud on a un déplacement axial, une flèche horizontale et une verticale, un angle de torsion, un angle de fléchissement horizontal et un vertical: 6 degrés de libertés par noeud."
   ]
  },
  {
   "cell_type": "markdown",
   "metadata": {},
   "source": [
    "On considère que les poutres on le même module de Young $E$, inertie flexionnelle $I$ (dans toutes les directions), et constante de torsion $J$.\n",
    "\n",
    "2. En utilisant les symétries du problème, déterminer les degrés de libertés nuls du système. Montrez que l'on peut réduire le nombre d'inconnues à trois. Est-il possible de déduire sans calcul la valeur d'un de ces degrés de liberté ?"
   ]
  },
  {
   "cell_type": "markdown",
   "metadata": {},
   "source": [
    "---\n",
    "\n",
    " **Solution:**\n",
    "\n",
    " ---\n",
    "\n",
    "\n",
    "\n",
    "Les deux encastrements enlèvent 6 degrés de libertés à chaque poutre. Les degrés de libertés restants sont au nombre de 6 par poutres, mais le nombre total de degrés libertés est plus faible car les poutres sont connectées. Le noeud d'encastrement a potentiellement 3 DDL de translation et 3 DDL de rotation. À cause de la symétrie du problème la rotation autour de $z$ doit être nulle.\n",
    "\n",
    "Changeons de repère et prenons le repère $(O, x', y', z)$ où le plan $(O,x',z)$ correspond au plan de symétrie du problème. Il en découle que le déplacement selon $y'$ doit être nul (selon la condition de symétrie), la rotation selon $x'$ doit être nulle. Il reste donc:\n",
    "\n",
    "   - Rotation selon $y'$\n",
    "   - Translation selon $x'$\n",
    "   - Translation selon $z$\n",
    "\n",
    "Étant donné le cas de chargement, et l'hypothèse des petites déformations, on peut dire que la translation selon $x'$ est nulle. Les degrés de libertés non-nuls pour la poutre $i$ sont:\n",
    "\n",
    "   - Déplacement vertical $v_i$\n",
    "   - Rotation de torsion $\\theta_i^T$\n",
    "   - Rotation de flexion verticale $\\theta_i$\n",
    "\n",
    "Notez que les rotations $\\theta_i^T$ et $\\theta_i$ ne sont pas indépendantes."
   ]
  },
  {
   "cell_type": "markdown",
   "metadata": {},
   "source": [
    "3. Définir les matrices de rigidité locales $k_1$ et $k_2$, en se limitant aux degrés de libertés non-nuls."
   ]
  },
  {
   "cell_type": "markdown",
   "metadata": {},
   "source": [
    "---\n",
    "\n",
    " **Solution:**\n",
    "\n",
    " ---\n",
    "\n",
    "\n",
    "\n",
    "Voici les matrices de rigidité des poutres $k_1$ et $k_2$ (dans les axes locaux):\n",
    "    \\begin{equation*}\n",
    "      k_1 \\begin{pmatrix}\n",
    "        v_1 \\\\\n",
    "        \\theta_1^T \\\\\n",
    "        \\theta_1 \\\\\n",
    "      \\end{pmatrix} = \\begin{pmatrix}\n",
    "        12EI/L^3 & 0 & - 6EI/L^2  \\\\\n",
    "        0 & GJ/L & 0 \\\\\n",
    "        - 6EI/L^2 & 0 & 4EI/L\n",
    "      \\end{pmatrix} \\begin{pmatrix}\n",
    "        v_1 \\\\\n",
    "        \\theta_1^T \\\\\n",
    "        \\theta_1 \\\\\n",
    "      \\end{pmatrix}\n",
    "    \\end{equation*}\n",
    "    et pour $k_2$\n",
    "    \\begin{equation*}\n",
    "      k_2 \\begin{pmatrix}\n",
    "        v_2 \\\\\n",
    "        \\theta_2^T \\\\\n",
    "        \\theta_2 \\\\\n",
    "      \\end{pmatrix} = \\begin{pmatrix}\n",
    "        12EI/L^3 & 0 & -6EI/L^2  \\\\\n",
    "        0 & GJ/L & 0 \\\\\n",
    "        -6EI/L^2 & 0 & 4EI/L\n",
    "      \\end{pmatrix} \\begin{pmatrix}\n",
    "        v_2 \\\\\n",
    "        \\theta_2^T \\\\\n",
    "        \\theta_2 \\\\\n",
    "      \\end{pmatrix}\n",
    "    \\end{equation*}"
   ]
  },
  {
   "cell_type": "markdown",
   "metadata": {},
   "source": [
    "Posons $E = G = I = J = L = 1$ pour la simplicité. Il est également plus simple de considérer comme axes globaux le système d'axe $(O, x', y', z)$ défini par la figure ci-dessous:"
   ]
  },
  {
   "cell_type": "code",
   "execution_count": null,
   "metadata": {},
   "outputs": [],
   "source": [
    "Image(filename = './Images/beams_symetry.png',  width=250, height=200)"
   ]
  },
  {
   "cell_type": "markdown",
   "metadata": {},
   "source": [
    "4. Assembler la matrice de rigidité globale $K$."
   ]
  },
  {
   "cell_type": "markdown",
   "metadata": {},
   "source": [
    "On applique une matrice de rotation de $\\frac{-\\pi}{4}$ à la matrice de rigidité $k_1$:\n",
    "\\begin{equation*}\n",
    "      R  = \\begin{pmatrix}\n",
    "        1 & 0 & 0 \\\\\n",
    "        0 & \\frac{\\sqrt{2}}{2} & \\frac{\\sqrt{2}}{2}\\\\\n",
    "        0 & -\\frac{\\sqrt{2}}{2} & \\frac{\\sqrt{2}}{2}\n",
    "      \\end{pmatrix}\n",
    "    \\end{equation*}\n",
    "    \\begin{equation*}\n",
    "      K_1 = R^Tk_1R = \\begin{pmatrix}12 & - 3 \\sqrt{2} & - 3 \\sqrt{2}\\\\- 3 \\sqrt{2} & \\frac{5}{2} & \\frac{3}{2}\\\\- 3 \\sqrt{2} & \\frac{3}{2} & \\frac{5}{2}\\end{pmatrix}\n",
    "\\end{equation*}\n",
    "\n",
    "On applique une matrice de rotation de $\\frac{\\pi}{4}$ à la matrice de rigidité $k_2$:\n",
    "\\begin{equation*}\n",
    "      R  = \\begin{pmatrix}\n",
    "        1 & 0 & 0 \\\\\n",
    "        0 & \\frac{\\sqrt{2}}{2} & -\\frac{\\sqrt{2}}{2}\\\\\n",
    "        0 & \\frac{\\sqrt{2}}{2} & \\frac{\\sqrt{2}}{2}\n",
    "      \\end{pmatrix}\n",
    "    \\end{equation*}\n",
    "    Soit $K_2$ la matrice $k_2$ dans les axes globaux:\n",
    "    \\begin{equation*}\n",
    "      K_2 = R^Tk_2R = \\begin{pmatrix}12 & 3 \\sqrt{2} & - 3 \\sqrt{2}\\\\3 \\sqrt{2} & \\frac{5}{2} & - \\frac{3}{2}\\\\- 3 \\sqrt{2} & - \\frac{3}{2} & \\frac{5}{2}\\end{pmatrix}\n",
    "\\end{equation*}\n",
    "\n",
    "On peut directement faire la somme de $K_1$ et $K_2$ pour obtenir une matrice 3$\\times$3. Par contre, on sait que l'on ne doit avoir que deux degrés de libertés (translation selon $z$ et rotation autour de $y'$), donc la matrice globale doit être une 2$\\times$2. Projeté dans le système d'axes $(Ox'y'z)$, le vecteur d'inconnue $(v_i, \\theta_i^T, \\theta_i)$ devient $(v_z, \\theta_{x'}, \\theta_{y'})$. On sait par symétrie que $\\theta_{x'} = 0$, on peut donc ignorer les lignes et colonnes centrales de $K_1$ et $K_2$.\n",
    "    \\begin{equation*}\n",
    "      K = \\begin{pmatrix}\n",
    "        24 & -6\\sqrt{2}\\\\\n",
    "        -6\\sqrt{2} & 4\n",
    "      \\end{pmatrix}\n",
    "    \\end{equation*}"
   ]
  },
  {
   "cell_type": "markdown",
   "metadata": {},
   "source": [
    "5. Assembler le vecteur des forces nodales $F$."
   ]
  },
  {
   "cell_type": "markdown",
   "metadata": {},
   "source": [
    "---\n",
    "\n",
    " **Solution:**\n",
    "\n",
    " ---\n",
    "\n",
    "\n",
    "\n",
    "L'assemblage du vecteur forces est trivial:\n",
    "    \\begin{equation}\n",
    "      f = \\begin{pmatrix}\n",
    "        -P\\\\\n",
    "        0\n",
    "      \\end{pmatrix}\n",
    "    \\end{equation}"
   ]
  },
  {
   "cell_type": "markdown",
   "metadata": {},
   "source": [
    "6. Résoudre le système d'équations."
   ]
  },
  {
   "cell_type": "markdown",
   "metadata": {},
   "source": [
    "---\n",
    "\n",
    " **Solution:**\n",
    "\n",
    " ---\n",
    "\n",
    "\n",
    "\n",
    "La solution est:\n",
    "    $\\begin{pmatrix}\n",
    "        v_z\\\\\n",
    "        \\theta_{y'}\n",
    "      \\end{pmatrix} = \\begin{pmatrix}- \\frac{5 P}{48}\\\\- \\frac{\\sqrt{2} P}{8}\\end{pmatrix}\n",
    "   $"
   ]
  }
 ],
 "metadata": {
  "hide_input": false,
  "kernelspec": {
   "display_name": "Python 3 (ipykernel)",
   "language": "python",
   "name": "python3"
  },
  "language_info": {
   "codemirror_mode": {
    "name": "ipython",
    "version": 3
   },
   "file_extension": ".py",
   "mimetype": "text/x-python",
   "name": "python",
   "nbconvert_exporter": "python",
   "pygments_lexer": "ipython3"
  },
  "toc": {
   "base_numbering": 1,
   "nav_menu": {},
   "number_sections": true,
   "sideBar": true,
   "skip_h1_title": false,
   "title_cell": "Table of Contents",
   "title_sidebar": "Contents",
   "toc_cell": false,
   "toc_position": {},
   "toc_section_display": true,
   "toc_window_display": false
  }
 },
 "nbformat": 4,
 "nbformat_minor": 4
}
