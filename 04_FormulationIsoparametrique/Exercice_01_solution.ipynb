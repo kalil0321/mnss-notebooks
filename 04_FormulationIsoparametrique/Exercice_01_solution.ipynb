{
 "cells": [
  {
   "cell_type": "markdown",
   "metadata": {},
   "source": [
    "<div style=\"border:1px solid black; padding:10px 10px;\">\n",
    "    <strong>CIVIL-321 \"Modélisation Numérique des Solides et Structures\"</strong><br/><br/>\n",
    "    <span style=\"text-decoration:underline;font-weight:bold;\">Comment utiliser ce Jupyter Notebook?\n",
    "    </span><br/><br/>\n",
    "    Ce <strong>Notebook</strong> est constitué de cellules de texte et de cellule de code. Les cellules de codes doivent être  <strong>executées</strong> pour voir le résultat du programme. Certaines cellules doivent être remplies par vos soins. Pour exécuter une cellule, cliquez dessus simplement et ensuite cliquez sur le bouton \"play\" (<span style=\"font: bold 12px/30px Arial, serif;\">&#9658;</span>) dans la barre de menu au dessus du notebook. Vous pouvez aussi taper la combinaison de touches <code>shift + enter</code>. Il est important d'éxécuter les cellules de code en respectant leur ordre d'arrivée dans le notebook.\n",
    "</div>"
   ]
  },
  {
   "cell_type": "markdown",
   "metadata": {},
   "source": [
    "On vous encourage à poser vos questions et donner votre feedback sur ce notebook sur la plateforme ED Discussion du cours accessible en cliquant sur ce bouton:\n",
    " \n",
    " \n",
    " \n",
    "<div class=\"container\" >\n",
    "        <a href=\"https://edstem.org/eu/courses/409/discussion?category=Exercices\">\n",
    "            <button class=\"btn btn-primary btn-lg\">Ed Discussion</button>\n",
    "        </a>\n",
    "</div>"
   ]
  },
  {
   "cell_type": "markdown",
   "metadata": {},
   "source": [
    "# Éléments isoparamétriques"
   ]
  },
  {
   "cell_type": "code",
   "execution_count": null,
   "metadata": {},
   "outputs": [],
   "source": [
    "import numpy as np\n",
    "import matplotlib.pyplot as plt\n",
    "from plot import *"
   ]
  },
  {
   "cell_type": "markdown",
   "metadata": {},
   "source": [
    "## Exercice 1 \n",
    "\n",
    "On considère l'élément 1D suivant (module de Young $E$, aire $A$):\n",
    "\n",
    "![](Images/fig1.png)"
   ]
  },
  {
   "cell_type": "markdown",
   "metadata": {},
   "source": [
    "1. Calculer, en utilisant les méthodes des exercices précédents:\n",
    "    - Les fonctions d'interpolation,\n",
    "    - La matrice $\\boldsymbol{B}$,\n",
    "    - La matrice de rigidité $\\boldsymbol{K}$."
   ]
  },
  {
   "cell_type": "markdown",
   "metadata": {},
   "source": [
    "---\n",
    "\n",
    " **Solution:**\n",
    "\n",
    " ---\n",
    "\n",
    "\n",
    "\n",
    "$$ \\boldsymbol{N}^T = \\begin{bmatrix} \\frac{1}{3} \\left(x - 3\\right) \\left(x - 1\\right)\\\\\\frac{x}{6} \\left(x - 1\\right)\\\\- \\frac{x}{2} \\left(x - 3\\right) \\end{bmatrix}$$\n",
    "\n",
    "$$ \\boldsymbol{B}^T = \\begin{bmatrix}\\frac{2 x}{3} - \\frac{4}{3}\\\\\\frac{x}{3} - \\frac{1}{6}\\\\- x + \\frac{3}{2} \\end{bmatrix} $$\n",
    "\n",
    "$$ \\boldsymbol{K} = A\\int_0^3{[B]^T E [B]\\,\\mathrm{d}x} = EA \\begin{bmatrix} \\frac{4}{3} & \\frac{1}{6} & - \\frac{3}{2}\\\\[0.2cm]\\frac{1}{6} & \\frac{7}{12} & - \\frac{3}{4}\\\\[0.2cm]- \\frac{3}{2} & - \\frac{3}{4} & \\frac{9}{4} \\end{bmatrix} $$"
   ]
  },
  {
   "cell_type": "markdown",
   "metadata": {},
   "source": [
    "Cette solution va nous servir de référence pour calculer la matrice de ridigité en utilisant l'élément isoparamétrique suivant:\n",
    "\n",
    "![](Images/fig2.png)"
   ]
  },
  {
   "cell_type": "markdown",
   "metadata": {},
   "source": [
    "En se servant de cet élément, calculer:\n",
    "\n",
    "2. Les functions $u(s)$ et $x(s)$ en fonction des déplacements et respectivement, des coordonnnées de chaque nœud."
   ]
  },
  {
   "cell_type": "markdown",
   "metadata": {},
   "source": [
    "---\n",
    "\n",
    " **Solution:**\n",
    "\n",
    " ---\n",
    "\n",
    "\n",
    "\n",
    "Nous avons les fonctions d'interpolation suivantes pour l'élément isoparamétrique:\n",
    "\n",
    "$$ \\boldsymbol{N}^T = \\begin{bmatrix}\n",
    "        \\frac{s(s-1)}{2}\\\\\n",
    "        \\frac{s(s+1)}{2}\\\\\n",
    "        (1-s)(1+s)\n",
    "      \\end{bmatrix}$$\n",
    "Les champs $u$ et $x$ sont interpolés comme suit:\n",
    "$$ u(s) = [N(s)] \\begin{bmatrix}u_1\\\\u_2\\\\u_3\\end{bmatrix} $$\n",
    "\n",
    "$$ x(s) = [N(s)] \\begin{bmatrix}0\\\\3\\\\1\\end{bmatrix} $$"
   ]
  },
  {
   "cell_type": "markdown",
   "metadata": {},
   "source": [
    "3. Écrivez le code python permettant de tracer la courbe du champ de déplacement en fonction de $s$. Tracer l'évolution du champ de déplacement en fonction de s, en condidérant $\\begin{bmatrix}u_1\\\\u_2\\\\u_3\\end{bmatrix} = \\begin{bmatrix} 0.5 \\\\ 2 \\\\ -1 \\end{bmatrix}$.\n",
    "\n",
    "*indice: toute fonction peut être programmée élégamment à l'aide de la commande lambda. La notation indicielle d'Einstein peut être exploitée grace à la routine `np.einsum`*"
   ]
  },
  {
   "cell_type": "code",
   "execution_count": null,
   "metadata": {},
   "outputs": [],
   "source": [
    "###########\n",
    "# Solution:\n",
    "##########\n",
    "\n",
    "\n",
    "N = lambda s: np.array([ s*(s-1)/2 , s*(s+1)/2, (1-s)*(1+s)])\n",
    "d = np.array([ 0.5 , 2, -1])\n",
    "\n",
    "u = lambda s: np.einsum('ji,j->i', N(s), d)\n",
    "s = np.linspace(-1, 1, 20)\n",
    "\n",
    "plt.plot(s, u(s))\n",
    "plt.xlabel('Position')\n",
    "plt.ylabel('Déplacement')"
   ]
  },
  {
   "cell_type": "markdown",
   "metadata": {},
   "source": [
    "4. La fonction $\\frac{\\mathrm{d}u}{\\mathrm{d}x}$ en fonction de $s$, la variable dans l'espace isoparamétrique. En déduire l'expression de $\\boldsymbol{B}$. Écrire une fonction donnant B en fonction de s, à l'aide de la commande lambda."
   ]
  },
  {
   "cell_type": "markdown",
   "metadata": {},
   "source": [
    "---\n",
    "\n",
    " **Solution:**\n",
    "\n",
    " ---\n",
    "\n",
    "\n",
    "\n",
    "La dérivée $\\frac{\\mathrm{d}u}{\\mathrm{d}x}$ se calcule en utilisant la règle de dérivation de fonctions composées:\n",
    "$$ \\frac{\\mathrm{d}u}{\\mathrm{d}s} = \\frac{\\mathrm{d}u}{\\mathrm{d}x}\\frac{\\mathrm{d}x}{\\mathrm{d}s} \\Leftrightarrow \\frac{\\mathrm{d}u}{\\mathrm{d}x} = \\frac{\\mathrm{d}u}{\\mathrm{d}s}\\left(\\frac{\\mathrm{d}x}{\\mathrm{d}s}\\right)^{-1} $$\n",
    "\n",
    "On a les expressions suivantes pour $\\frac{\\mathrm{d}u}{\\mathrm{d}s}$ et $\\frac{\\mathrm{d}x}{\\mathrm{d}s}$:\n",
    "$ \\frac{\\mathrm{d}u}{\\mathrm{d}s} = (s - \\frac{1}{2})u_1 + (s + \\frac{1}{2})u_2 -2su_3 $\n",
    "\n",
    "$ \\frac{\\mathrm{d}x}{\\mathrm{d}s} = s + \\frac{3}{2} $\n",
    "\n",
    "Ce qui donne l'expression de $[B]$:\n",
    "          $$ [B] = \\frac{1}{s+\\frac{3}{2}}\\begin{bmatrix}\n",
    "          s - \\frac{1}{2} & s + \\frac{1}{2} & -2s \\end{bmatrix} $$"
   ]
  },
  {
   "cell_type": "markdown",
   "metadata": {},
   "source": [
    "5. Implémentez une routine python qui calule la matrice $B$"
   ]
  },
  {
   "cell_type": "code",
   "execution_count": null,
   "metadata": {},
   "outputs": [],
   "source": [
    "###########\n",
    "# Solution:\n",
    "##########\n",
    "\n",
    "\n",
    "B = lambda s : 1/(s+3/2) * np.array([[s-1/2, s+1/2, -2*s]])"
   ]
  },
  {
   "cell_type": "markdown",
   "metadata": {},
   "source": [
    "4. Nous voulons à présent utiliser l'expression de la matrice de rigidité dans l'espace isoparamétrique:\n",
    "$ \\boldsymbol{K} = A\\int_{-1}^{1}B^TEBJds $ où $\\boldsymbol{J}$ est le jacobien du changement de variable $x(s)$. \n",
    "Développez l'expression $B^TEBJ$ en fonction de $s$"
   ]
  },
  {
   "cell_type": "markdown",
   "metadata": {},
   "source": [
    "---\n",
    "\n",
    " **Solution:**\n",
    "\n",
    " ---\n",
    "\n",
    "\n",
    "\n",
    "$\\begin{align}\n",
    "EAJB^TB & =   \\frac{EA}{s+\\frac{3}{2}}\n",
    "\\begin{bmatrix}\n",
    "    s - \\frac{1}{2} \\\\[0.2cm] s + \\frac{1}{2} \\\\[0.2cm] -2s\n",
    "\\end{bmatrix}\n",
    "\\begin{bmatrix}\n",
    "s - \\frac{1}{2} & s + \\frac{1}{2} & -2s\n",
    "\\end{bmatrix}\\\\\n",
    "& =  \\frac{EA}{s+\\frac{3}{2}}\n",
    "\\begin{bmatrix}\n",
    "\\left(s - \\frac{1}{2}\\right)^{2} & \\left(s - \\frac{1}{2}\\right) \\left(s + \\frac{1}{2}\\right) & - 2 s \\left(s - \\frac{1}{2}\\right)\\\\\n",
    "\\left(s - \\frac{1}{2}\\right) \\left(s + \\frac{1}{2}\\right) & \\left(s + \\frac{1}{2}\\right)^{2} & - 2 s \\left(s + \\frac{1}{2}\\right)\\\\\n",
    "- 2 s \\left(s - \\frac{1}{2}\\right) & - 2 s \\left(s + \\frac{1}{2}\\right) & 4 s^{2}\n",
    "\\end{bmatrix}\n",
    "\\end{align}$\n",
    "            \n",
    "Cette expression n'étant pas polynomiale, on ne peut pas obtenir la valeur exacte de l'intégrale en utilisant la quadrature de Gauss."
   ]
  },
  {
   "cell_type": "markdown",
   "metadata": {},
   "source": [
    "5. Implémentez une routine python qui calule le Jacobien $J$ et la matrice $EAB^TB$ avec pour $E = 210 \\times 10^6 [Pa]$ et $A = 1 [m^2]$"
   ]
  },
  {
   "cell_type": "code",
   "execution_count": null,
   "metadata": {},
   "outputs": [],
   "source": [
    "###########\n",
    "# Solution:\n",
    "##########\n",
    "\n",
    "\n",
    "J = lambda s: s+3/2\n",
    "\n",
    "E = 210*10**6\n",
    "A = 1\n",
    "\n",
    "EABtB = lambda s: E*A*B(s).T@B(s)"
   ]
  },
  {
   "cell_type": "markdown",
   "metadata": {},
   "source": [
    "6. On souhaite utiliser la quadrature de Gauss suivante:\n",
    "$$ \\begin{matrix}\n",
    "Position & -\\frac{1}{\\sqrt{3}} & \\frac{1}{\\sqrt{3}} \\\\\n",
    "Poids & 1 & 1\n",
    "\\end{matrix}$$\n",
    "\n",
    "Cette quadrature permet-t-elle d'intégrer exactement l'équation précédente ? Pourquoi ?"
   ]
  },
  {
   "cell_type": "markdown",
   "metadata": {},
   "source": [
    "---\n",
    "\n",
    " **Solution:**\n",
    "\n",
    " ---\n",
    "\n",
    "\n",
    "           \n",
    "L'expression de $EAJ B^T B$ n'étant pas polynomiale, on ne peut pas obtenir la valeur exacte de l'intégrale en utilisant la quadrature de Gauss."
   ]
  },
  {
   "cell_type": "markdown",
   "metadata": {},
   "source": [
    "7. Implémentez l'intégration de Gauss"
   ]
  },
  {
   "cell_type": "code",
   "execution_count": null,
   "metadata": {},
   "outputs": [],
   "source": [
    "###########\n",
    "# Solution:\n",
    "##########\n",
    "\n",
    "\n",
    "\n",
    "# points de Gauss\n",
    "points_q = [ -1./np.sqrt(3), 1./np.sqrt(3) ]\n",
    "# poids de Gauss\n",
    "w_q = [ 1, 1 ]\n",
    "# calcul de la quadrature\n",
    "K = np.zeros((3, 3))\n",
    "for s, w in zip(points_q, w_q):\n",
    "    K += J(s)*w*EABtB(s)\n",
    "\n",
    "Matrix(K)"
   ]
  },
  {
   "cell_type": "markdown",
   "metadata": {},
   "source": [
    "6. Que faut-il changer à la figure 2 pour que la quadrature choisie intègre exactement la matrice de rigidité ?"
   ]
  },
  {
   "cell_type": "markdown",
   "metadata": {},
   "source": [
    "---\n",
    "\n",
    " **Solution:**\n",
    "\n",
    " ---\n",
    "\n",
    "\n",
    "\n",
    "Pour que l'intégration par quadrature de Gauss donne la valeur exacte de l'intégrale, il faut que le jacobien soit constant dans l'élément. Dans notre cas, cela est possible si le nœud 3 se trouve a milieu de l'élément dans l'espace global."
   ]
  }
 ],
 "metadata": {
  "hide_input": false,
  "kernelspec": {
   "display_name": "Python 3 (ipykernel)",
   "language": "python",
   "name": "python3"
  },
  "language_info": {
   "codemirror_mode": {
    "name": "ipython",
    "version": 3
   },
   "file_extension": ".py",
   "mimetype": "text/x-python",
   "name": "python",
   "nbconvert_exporter": "python",
   "pygments_lexer": "ipython3"
  },
  "name": "04_Exercice.ipynb",
  "toc": {
   "base_numbering": 1,
   "nav_menu": {
    "height": "84px",
    "width": "252px"
   },
   "number_sections": true,
   "sideBar": true,
   "skip_h1_title": false,
   "title_cell": "Table of Contents",
   "title_sidebar": "Contents",
   "toc_cell": false,
   "toc_position": null,
   "toc_section_display": true,
   "toc_window_display": true
  }
 },
 "nbformat": 4,
 "nbformat_minor": 4
}
