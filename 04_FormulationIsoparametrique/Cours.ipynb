{
 "cells": [
  {
   "cell_type": "markdown",
   "metadata": {},
   "source": [
    "<div style=\"border:1px solid black; padding:10px 10px;\">\n",
    "    <strong>CIVIL-321 \"Modélisation Numérique des Solides et Structures\"</strong><br/><br/>\n",
    "    <span style=\"text-decoration:underline;font-weight:bold;\">Comment utiliser ce Jupyter Notebook?\n",
    "    </span><br/><br/>\n",
    "    Ce <strong>Notebook</strong> est constitué de cellules de texte et de cellule de code. Les cellules de codes doivent être  <strong>executées</strong> pour voir le résultat du programme. Certaines cellules doivent être remplies par vos soins. Pour exécuter une cellule, cliquez dessus simplement et ensuite cliquez sur le bouton \"play\" (<span style=\"font: bold 12px/30px Arial, serif;\">&#9658;</span>) dans la barre de menu au dessus du notebook. Vous pouvez aussi taper la combinaison de touches <code>shift + enter</code>. Il est important d'éxécuter les cellules de code en respectant leur ordre d'arrivée dans le notebook.\n",
    "</div>"
   ]
  },
  {
   "cell_type": "code",
   "execution_count": null,
   "metadata": {},
   "outputs": [],
   "source": [
    "import numpy as np\n",
    "import matplotlib.pyplot as plt\n",
    "from plot import *"
   ]
  },
  {
   "cell_type": "markdown",
   "metadata": {},
   "source": [
    "# Formulation iso-paramétrique de l'élément plan quad4\n",
    "\n",
    "Pour rappel, les éléments iso-paramétrique nous permettent de calculer la matrice de raideur en fonction de l'élément de référence (s, t) en non pas de chaque cas particulier d'élément (x, y).\n",
    "\n",
    "La démarche est la suivante :\n",
    " - choix de l'élément\n",
    " - choix des fonctions d'interpolation $[N(s)]$\n",
    " - trouver la matrice $[B(s)]$\n",
    " - trouver la matrice de raideur $$[K] = \\iint [B(s,t)]^T [D] [B(s,t)] det(J(s,t)) ds dt$$\n",
    "     - $J$ est la matrice *Jacobienne*\n",
    " - trouver les forces consistantes\n",
    " "
   ]
  },
  {
   "cell_type": "markdown",
   "metadata": {},
   "source": [
    "## Choix des fonctions d'interpolation $[N(s)]$\n",
    "\n",
    "Deux méthodes s'offrent à nous:\n",
    "- Méthode directe: les fonctions d'interpolation sont déterminées une par une grâce à la géométrie.\n",
    "- Méthode indirecte par inversion de la matrice des monômes."
   ]
  },
  {
   "cell_type": "markdown",
   "metadata": {},
   "source": [
    "Méthode directe: \n",
    "- $N_1$ doit s'annuler sur les segments 2-3 et 3-4.\n",
    "- les équations des droites sont:\n",
    "    - $s = 1$ sur 2-3  et $t = 1$ sur 3-4\n",
    "- La normalisation N_1(-1, -1) = 1 impose:\n",
    "    - $N_1(s,t) = \\frac{1}{4} (1-s)(1-t)$"
   ]
  },
  {
   "cell_type": "markdown",
   "metadata": {},
   "source": [
    "Voici l'élément quad4 de référence:\n",
    "\n",
    "<img src=\"Images/quad4-reference.svg\">"
   ]
  },
  {
   "cell_type": "markdown",
   "metadata": {},
   "source": [
    "---\n",
    "#### Question : \n",
    "\n",
    "Déduire sur le modèle précédent les fonctions d'interpolation $N_2(s,t)$, $N_3(s,t)$, et $N_4(s,t)$. "
   ]
  },
  {
   "cell_type": "markdown",
   "metadata": {},
   "source": [
    "---\n",
    "\n",
    " **Place your answer here** \n",
    "\n",
    " ---\n",
    "\n"
   ]
  },
  {
   "cell_type": "markdown",
   "metadata": {},
   "source": [
    "Avec les fonctions d'interpolation $N_i$, on définit $u(s,t)$ et $v(s,t)$:\n",
    "\n",
    "$$\\left\\{ \n",
    "\\begin{array}{c} \n",
    "u(s,t) \\\\ \n",
    "v(s,t) \n",
    "\\end{array} \n",
    "\\right\\} = \n",
    "\\begin{bmatrix}\n",
    "     N_1(s, t) & 0 & \\ldots & N_4(s, t) & 0  \\\\\n",
    "     0 & N_1(s, t) & \\ldots & 0 & N_4(s, t) \\\\\n",
    "\\end{bmatrix}\n",
    "\\left\\{ \n",
    "\\begin{array}{c} \n",
    "u_1 \\\\ v_1 \\\\ \\vdots \\\\ u_4 \\\\ v_4\n",
    "\\end{array} \n",
    "\\right\\}\n",
    "$$"
   ]
  },
  {
   "cell_type": "markdown",
   "metadata": {},
   "source": [
    "Mais aussi **le champ de coordonnées** $x(s,t)$ et $y(s,t)$:\n",
    "\n",
    "$$\\left\\{ \n",
    "\\begin{array}{c} \n",
    "x(s,t) \\\\ \n",
    "y(s,t) \n",
    "\\end{array} \n",
    "\\right\\} = \n",
    "\\begin{bmatrix}\n",
    "     N_1(s, t) & 0 & \\ldots & N_4(s, t) & 0  \\\\\n",
    "     0 & N_1(s, t) & \\ldots & 0 & N_4(s, t) \\\\\n",
    "\\end{bmatrix}\n",
    "\\left\\{ \n",
    "\\begin{array}{c} \n",
    "x_1 \\\\ y_1 \\\\ \\vdots \\\\ x_4 \\\\ y_4\n",
    "\\end{array} \n",
    "\\right\\}\n",
    "$$"
   ]
  },
  {
   "cell_type": "markdown",
   "metadata": {},
   "source": [
    " iso-paramétrique $\\equiv$ même paramètrisation $\\equiv$ même espace naturel"
   ]
  },
  {
   "cell_type": "markdown",
   "metadata": {},
   "source": [
    "## Trouver la matrice $[B(s)]$\n",
    "\n",
    "La matrice $[B]$ permet d'obtenir le tenseur des petites déformations $\\epsilon$.\n",
    "\n",
    "\n",
    "$$[B] \\{u\\} = \\left\\{\n",
    "\\begin{array}{c}\n",
    "\\epsilon_{xx} \\\\\n",
    "\\epsilon_{yy} \\\\\n",
    "2 \\epsilon_{xy}\n",
    "\\end{array}\n",
    "\\right\\}$$\n",
    "\n",
    "*Rappel: en 1D iso-paramétrique nous avions* $[B(s)] = \\frac{1}{J(s)}[N'(s)]$"
   ]
  },
  {
   "cell_type": "markdown",
   "metadata": {},
   "source": [
    "On cherche donc une forme comparable en partant de:\n",
    "\n",
    "$$ \\left\\{\n",
    "\\begin{array}{c}\n",
    "     \\epsilon_{xx} \\\\ \\epsilon_{yy} \\\\ 2\\epsilon_{xy}\n",
    "\\end{array}\n",
    "\\right\\} = \n",
    "\\left\\{\n",
    "\\begin{array}{c}\n",
    "     \\frac{\\partial u(x, y)}{\\partial x} \\\\ \\frac{\\partial v(x, y)}{\\partial y} \\\\ \\frac{\\partial u(x, y)}{\\partial y} + \\frac{\\partial v(x, y)}{\\partial x}\n",
    "\\end{array}\n",
    "\\right\\}\n",
    "= \\underbrace{\\begin{bmatrix}\n",
    "1 & 0 & 0 & 0 \\\\ 0 & 0 & 0 & 1 \\\\ 0 & 1 & 1 & 0 \n",
    "\\end{bmatrix}}_{A} \n",
    "\\left\\{ \\begin{array}{c}\n",
    "     \\frac{\\partial u(x, y)}{\\partial x} \\\\ \\frac{\\partial u(x, y)}{\\partial y} \\\\ \\frac{\\partial v(x, y)}{\\partial x} \\\\ \\frac{\\partial v(x, y)}{\\partial y}\n",
    "\\end{array} \\right\\}\n",
    "$$"
   ]
  },
  {
   "cell_type": "markdown",
   "metadata": {},
   "source": [
    "Dans un premier temps, intéressons nous aux termes diagonaux des déformations de $u$. \n",
    "\n",
    "La règle de dérivation en chaîne nous donne:\n",
    "\n",
    "$$\\frac{\\partial \\color{green}{u}(s,t)}{\\partial \\color{blue}{s}} = \\frac{\\partial \\color{green}{u}(x,y)}{\\partial \\color{red}{x}} \\frac{\\partial \\color{red}{x}(s, t)}{\\partial \\color{blue}{s}} + \\frac{\\partial \\color{green}{u}(x,y)}{\\partial \\color{red}{y}} \\frac{\\partial \\color{red}{y}(s,t)}{\\partial \\color{blue}{s}}$$\n",
    "\n",
    "Dans la suite on notera $\\nabla$ le gradient dans l'espace des coordonnées réelles ($x, y$) et \n",
    "$\\tilde{\\nabla}$ dans l'espace des coordonnées naturelles ($s, t$)."
   ]
  },
  {
   "cell_type": "markdown",
   "metadata": {},
   "source": [
    "---\n",
    "\n",
    "#### Question :\n",
    "À partir des deux relations trouvées ci-dessus, exprimer la matrice Jacobienne $J(s,t)$ en fonction des gradients x et y par rapport aux variables $(s, t)$.\n",
    "\n",
    "Cette matrice vérifie: \n",
    "\n",
    "$$\\tilde \\nabla u(s, t) = [J(s, t)] \\nabla u(x, y)$$"
   ]
  },
  {
   "cell_type": "markdown",
   "metadata": {},
   "source": [
    "---\n",
    "\n",
    " **Place your answer here** \n",
    "\n",
    " ---\n",
    "\n"
   ]
  },
  {
   "cell_type": "markdown",
   "metadata": {},
   "source": [
    "*Remarque: la jacobienne est une matrice carrée de taille la dimension spatiale de notre problème. En 3D c'est donc une* $3\\times3$"
   ]
  },
  {
   "cell_type": "markdown",
   "metadata": {},
   "source": [
    "Les gradients en coordonnées réelles s'expriment donc:\n",
    "$$ \\nabla u(x, y) = \\begin{bmatrix} J(s, t) \\end{bmatrix}^{-1} \n",
    "\\tilde \\nabla u(s,t) $$\n",
    "\n",
    "et \n",
    "\n",
    "$$ \\nabla v(x, y) = \\begin{bmatrix} J(s, t) \\end{bmatrix}^{-1} \n",
    "\\tilde \\nabla v(s,t) $$\n",
    "\n",
    "Ainsi : \n",
    "$$ \\left\\{ \\begin{array}{c}\n",
    " \\nabla u(x, y) \\\\ \n",
    " \\nabla v(x, y) \n",
    "\\end{array} \\right\\} = \\begin{bmatrix} J(s, t) & 0 \\\\ 0 & J(s, t) \\end{bmatrix}^{-1} \\left\\{ \\begin{array}{c}\n",
    "\\tilde \\nabla u(s,t)  \\\\ \n",
    "\\tilde \\nabla v(s,t)\n",
    "\\end{array} \\right\\} $$"
   ]
  },
  {
   "cell_type": "markdown",
   "metadata": {},
   "source": [
    "En regroupant les termes on obtient finalement : \n",
    "$$ \\left\\{\n",
    "\\begin{array}{c}\n",
    "     \\epsilon_{xx} \\\\ \\epsilon_{yy} \\\\ 2\\epsilon_{xy}\n",
    "\\end{array}\n",
    "\\right\\} \n",
    "= \\begin{bmatrix}\n",
    "1 & 0 & 0 & 0 \\\\ 0 & 0 & 0 & 1 \\\\ 0 & 1 & 1 & 0 \n",
    "\\end{bmatrix}\n",
    "\\begin{bmatrix} J(s, t) & 0 \\\\ 0 & J(s, t) \\end{bmatrix}^{-1} \\left\\{ \\begin{array}{c}\n",
    "\\tilde\\nabla u(s,t)  \\\\ \n",
    "\\tilde \\nabla v(s,t)\n",
    "\\end{array} \\right\\}\n",
    "$$"
   ]
  },
  {
   "cell_type": "markdown",
   "metadata": {},
   "source": [
    "Nous avons donc 5 termes à calculer:\n",
    "\n",
    "1. $\\tilde \\nabla u \\equiv \\frac{\\partial}{\\partial s} u(s,t)$ et $\\frac{\\partial}{\\partial t} u(s,t)$\n",
    "2. $\\tilde \\nabla v \\equiv \\frac{\\partial}{\\partial s} v(s,t)$ et $\\frac{\\partial}{\\partial t} v(s,t)$\n",
    "3. $[J(s,t)]^{-1}$"
   ]
  },
  {
   "cell_type": "markdown",
   "metadata": {},
   "source": [
    "## Calcul des gradients\n",
    "\n",
    "Les gradients en espace naturels se calculent en dérivant par rapport à $s$ et $t$ le champ de déplacement:\n",
    "\n",
    "$$\\tilde \\nabla u(s,t) \\equiv \\tilde \\nabla [N(s, t)]\\{d\\}$$"
   ]
  },
  {
   "cell_type": "markdown",
   "metadata": {},
   "source": [
    "---\n",
    "\n",
    "#### Question : \n",
    "Explicitez tous les termes derrière cette equation.\n",
    "Calculer ces coefficients pour le cas du Q4.\n",
    "\n",
    "Pour rappel :\n",
    "$$\\left\\{ \n",
    "\\begin{array}{c} \n",
    "u(s,t) \\\\ \n",
    "v(s,t) \n",
    "\\end{array} \n",
    "\\right\\} = \n",
    "\\begin{bmatrix}\n",
    "     N_1(s, t) & 0 & \\ldots & N_4(s, t) & 0  \\\\\n",
    "     0 & N_1(s, t) & \\ldots & 0 & N_4(s, t) \\\\\n",
    "\\end{bmatrix}\n",
    "\\left\\{ \n",
    "\\begin{array}{c} \n",
    "u_1 \\\\ v_1 \\\\ \\vdots \\\\ u_4 \\\\ v_4\n",
    "\\end{array} \n",
    "\\right\\}\n",
    "$$\n",
    "\n",
    "et\n",
    "$$\\begin{align}\n",
    "N_1(s,t) &= \\frac{1}{4} (1-s)(1-t) \\qquad &N_2(s,t) &= \\frac{1}{4} (1+s)(1-t)\\\\\n",
    "N_3(s,t) &= \\frac{1}{4} (1+s)(1+t) \\qquad &N_4(s,t) &= \\frac{1}{4} (1-s)(1+t)\\\\\n",
    "\\end{align}\n",
    "$$\n",
    "\n"
   ]
  },
  {
   "cell_type": "markdown",
   "metadata": {},
   "source": [
    "---\n",
    "\n",
    " **Place your answer here** \n",
    "\n",
    " ---\n",
    "\n"
   ]
  },
  {
   "cell_type": "markdown",
   "metadata": {},
   "source": [
    "En considérant les dérivées portant sur $v(s, t)$, on trouve la relation complète :\n",
    "\n",
    "\n",
    "$$\n",
    "\\left\\{ \n",
    "\\begin{array}{c} \n",
    "\\tilde \\nabla u(s,t) \\\\ \n",
    "\\tilde \\nabla v(s,t)\n",
    "\\end{array} \n",
    "\\right\\} = \n",
    "\\left\\{ \n",
    "\\begin{array}{c} \n",
    "\\frac{\\partial}{\\partial s} u(s,t) \\\\ \n",
    "\\frac{\\partial}{\\partial t} u(s,t) \\\\\n",
    "\\frac{\\partial}{\\partial s} v(s,t) \\\\\n",
    "\\frac{\\partial}{\\partial t} v(s,t) \\\\ \n",
    "\\end{array} \n",
    "\\right\\} = \\underbrace{\n",
    "\\begin{bmatrix}\n",
    "\\frac{\\partial}{\\partial s}N_1(s,t) & 0 & \\ldots & \\frac{\\partial}{\\partial s}N_4(s,t) & 0 \\\\\n",
    "\\frac{\\partial}{\\partial t}N_1(s,t) & 0 & \\ldots & \\frac{\\partial}{\\partial t}N_4(s,t) & 0 \\\\\n",
    "0 & \\frac{\\partial}{\\partial s}N_1(s,t) & \\ldots & 0 & \\frac{\\partial}{\\partial s}N_4(s,t)\\\\\n",
    "0 & \\frac{\\partial}{\\partial t}N_1(s,t) & \\ldots & 0 & \\frac{\\partial}{\\partial t}N_4(s,t)\\\\\n",
    "\\end{bmatrix}}_{C(s,t)}\n",
    "\\left\\{ \n",
    "\\begin{array}{c} \n",
    "u_1 \\\\ v_1 \\\\ \\vdots \\\\ u_4 \\\\ v_4\n",
    "\\end{array} \n",
    "\\right\\}\n",
    "$$"
   ]
  },
  {
   "cell_type": "markdown",
   "metadata": {},
   "source": [
    "\n",
    "\n",
    "La forme compacte d'un gradient dans l'espace naturel est donc:\n",
    "\n",
    "$$\\left\\{ \n",
    "\\begin{array}{c} \n",
    "\\tilde \\nabla u(s,t) \\\\ \n",
    "\\tilde \\nabla v(s,t)\n",
    "\\end{array} \n",
    "\\right\\} = [C(s, t)]\\left\\{ \n",
    "\\begin{array}{c} \n",
    "u_1 \\\\ v_1 \\\\ \\vdots \\\\ u_4 \\\\ v_4\n",
    "\\end{array} \n",
    "\\right\\}$$"
   ]
  },
  {
   "cell_type": "markdown",
   "metadata": {},
   "source": [
    "Pour notre Q4: \n",
    "\n",
    "$$C(s,t) = \\frac{1}{4} \n",
    "\\begin{bmatrix}\n",
    "t-1 & 0 & -t+1 & 0 & t+1 & 0 & -t-1 & 0 \\\\\n",
    "s-1 & 0 & -s-1 & 0 & s+1 & 0 & -s+1 & 0 \\\\\n",
    "0 & t-1 & 0 & -t+1 & 0 & t+1 & 0 & -t-1 \\\\\n",
    "0 & s-1 & 0 & -s-1 & 0 & s+1 & 0 & -s+1\n",
    "\\end{bmatrix}$$\n",
    "\n",
    "**Remarque: C(s,t) ne dépend pas des coordonnées réelles mais seulement des coordonnées naturelles**"
   ]
  },
  {
   "cell_type": "markdown",
   "metadata": {},
   "source": [
    "On obtient donc une définition de $[B]$:\n",
    "$$ \\left\\{\n",
    "\\begin{array}{c}\n",
    "     \\epsilon_{xx} \\\\ \\epsilon_{yy} \\\\ 2\\epsilon_{xy}\n",
    "\\end{array}\n",
    "\\right\\} \n",
    "= \\underbrace{\\begin{bmatrix}\n",
    "1 & 0 & 0 & 0 \\\\ 0 & 0 & 0 & 1 \\\\ 0 & 1 & 1 & 0 \n",
    "\\end{bmatrix}\n",
    "\\begin{bmatrix} J(s, t) & 0 \\\\ 0 & J(s, t) \\end{bmatrix}^{-1} \n",
    "\\begin{bmatrix} C(s, t) \\end{bmatrix}}_{B(s, t)}\n",
    "\\left\\{ \n",
    "\\begin{array}{c} \n",
    "u_1 \\\\ v_1 \\\\ \\vdots \\\\ u_4 \\\\ v_4\n",
    "\\end{array} \n",
    "\\right\\}\n",
    "$$\n"
   ]
  },
  {
   "cell_type": "markdown",
   "metadata": {},
   "source": [
    "## Matrice Jacobienne \n",
    "\n",
    "La matrice Jacobienne étant:\n",
    "\n",
    "\n",
    "$$\\begin{bmatrix} J(s,t) \\end{bmatrix}\n",
    "= \\begin{bmatrix} \\frac{\\partial x(s,t)}{\\partial s} & \\frac{\\partial y(s,t)}{\\partial s} \\\\ \\frac{\\partial x(s,t)}{\\partial t} & \\frac{\\partial y(s,t)}{\\partial t}\\end{bmatrix} = \n",
    "\\begin{bmatrix} \n",
    "\\tilde \\nabla x(s, t) & \\tilde \\nabla y(s,t )\n",
    "\\end{bmatrix}\n",
    "$$\n",
    "\n",
    "On va utiliser l'interpolation des coordonnées:\n",
    "$$\\left\\{ \n",
    "\\begin{array}{c} \n",
    "x(s,t) \\\\ \n",
    "y(s,t) \n",
    "\\end{array} \n",
    "\\right\\} = [N(s, t)]\\{d\\} = \n",
    "\\begin{bmatrix}\n",
    "     N_1(s, t) & 0 & \\ldots & N_4(s, t) & 0  \\\\\n",
    "     0 & N_1(s, t) & \\ldots & 0 & N_4(s, t) \\\\\n",
    "\\end{bmatrix}\n",
    "\\left\\{ \n",
    "\\begin{array}{c} \n",
    "x_1 \\\\ y_1 \\\\ \\vdots \\\\ x_4 \\\\ y_4\n",
    "\\end{array} \n",
    "\\right\\}\n",
    "$$"
   ]
  },
  {
   "cell_type": "markdown",
   "metadata": {},
   "source": [
    "Par le principe iso-paramétrique on obtient un résultat similaire à celui des gradients de déplacements:\n",
    "\n",
    "\n",
    "$$\\left\\{ \n",
    "\\begin{array}{c} \n",
    "\\tilde\\nabla x(s,t) \\\\ \n",
    "\\tilde\\nabla y(s,t) \n",
    "\\end{array} \n",
    "\\right\\} =  [C(s, t)]\\left\\{ \n",
    "\\begin{array}{c} \n",
    "x_1 \\\\ y_1 \\\\ \\vdots \\\\ x_4 \\\\ y_4\n",
    "\\end{array} \n",
    "\\right\\}$$"
   ]
  },
  {
   "cell_type": "markdown",
   "metadata": {},
   "source": [
    "Ce qui donne pour notre Q4:\n",
    "\n",
    "$$\\left\\{ \n",
    "\\begin{array}{c} \n",
    "\\tilde\\nabla x(s,t) \\\\ \n",
    "\\tilde\\nabla y(s,t) \n",
    "\\end{array} \n",
    "\\right\\} =\n",
    "\\frac{1}{4} \n",
    "\\begin{bmatrix}\n",
    "t-1 & 0 & -t+1 & 0 & t+1 & 0 & -t-1 & 0 \\\\\n",
    "s-1 & 0 & -s-1 & 0 & s+1 & 0 & -s+1 & 0 \\\\\n",
    "0 & t-1 & 0 & -t+1 & 0 & t+1 & 0 & -t-1 \\\\\n",
    "0 & s-1 & 0 & -s-1 & 0 & s+1 & 0 & -s+1\n",
    "\\end{bmatrix} \n",
    "\\left\\{ \n",
    "\\begin{array}{c} \n",
    "x_1 \\\\ y_1 \\\\ \\vdots \\\\ x_4 \\\\ y_4\n",
    "\\end{array} \n",
    "\\right\\}\n",
    "$$"
   ]
  },
  {
   "cell_type": "markdown",
   "metadata": {},
   "source": [
    "Ainsi, en replacant les termes dans la matrice Jacobienne on obtient:\n",
    "\n",
    "$$ \\begin{align}\n",
    "\\boldsymbol{J} &= \\begin{bmatrix} \n",
    "\\frac{\\partial}{\\partial s} x(s, t) & \\frac{\\partial}{\\partial s} y(s, t) \\\\\n",
    "\\frac{\\partial}{\\partial t} x(s, t) & \\frac{\\partial}{\\partial t} y(s, t)\n",
    "\\end{bmatrix} \\\\\n",
    "&= \\frac{1}{4}\n",
    "\\begin{bmatrix}\n",
    "x_1(t-1)+x_2(-t+1)+x_3(t+1)+x_4(-t-1) & y_1(t-1)+y_2(-t+1)+y_3(t+1)+y_4(-t-1) \\\\\n",
    "x_1(s-1)+x_2(-s-1)+x_3(s+1)+x_4(-s+1) & y_1(s-1)+y_2(-s-1)+y_3(s+1)+y_4(-s+1)\n",
    "\\end{bmatrix}\n",
    "\\end{align}\n",
    "$$"
   ]
  },
  {
   "cell_type": "markdown",
   "metadata": {},
   "source": [
    "---\n",
    "\n",
    "#### Question :\n",
    "\n",
    "Prenons le cas particuliers d'un Q4 de même taille que le Q4 naturel de référence du quad4. Par exemple avec les coordonnées des noeuds suivantes:\n",
    "\n",
    "- nœud 1 : x = 0 et y = 0\n",
    "- nœud 2 : x = 2 et y = 0\n",
    "- nœud 3 : x = 2 et y = 2\n",
    "- nœud 4 : x = 0 et y = 2\n",
    "\n",
    "Quelle est la matrice Jacobienne associée à cette structure ?"
   ]
  },
  {
   "cell_type": "code",
   "execution_count": null,
   "metadata": {},
   "outputs": [],
   "source": [
    "# implémentation de la formule trouvée plus haut\n",
    "def J(s, t, x):\n",
    "    x_1, y_1 = x[0, :]\n",
    "    x_2, y_2 = x[1, :]\n",
    "    x_3, y_3 = x[2, :]\n",
    "    x_4, y_4 = x[3, :]\n",
    "    \n",
    "    J = Matrix([\n",
    "        [x_1*(t-1)+x_2*(-t+1)+x_3*(t+1)+x_4*(-t-1) , y_1*(t-1)+y_2*(-t+1)+y_3*(t+1)+y_4*(-t-1)],\n",
    "        [x_1*(s-1)+x_2*(-s-1)+x_3*(s+1)+x_4*(-s+1) , y_1*(s-1)+y_2*(-s-1)+y_3*(s+1)+y_4*(-s+1)]])\n",
    "    J *= Rational(1, 4)\n",
    "    return simplify(J)\n",
    "    \n",
    "    \n",
    "noeuds = np.array([\n",
    "    [0, 0],\n",
    "    [2, 0],\n",
    "    [2, 2],\n",
    "    [0, 2]])\n",
    "\n",
    "\n",
    "s, t = symbols('s t')\n",
    "plot_matrix(J(s, t, noeuds), 'J')"
   ]
  },
  {
   "cell_type": "markdown",
   "metadata": {},
   "source": [
    "---\n",
    "\n",
    "#### Question :\n",
    "\n",
    "Que se passe-t-il si chaque coordonnée est multipliée par deux ? Quelle est votre interprétation physique ?"
   ]
  },
  {
   "cell_type": "code",
   "execution_count": null,
   "metadata": {},
   "outputs": [],
   "source": [
    "# Place your answer here"
   ]
  },
  {
   "cell_type": "markdown",
   "metadata": {},
   "source": [
    "---\n",
    "\n",
    "#### Question :\n",
    "\n",
    "Que se passe-t-il si les coordonnées subissent une rotation ? Quelle est votre interprétation physique ?"
   ]
  },
  {
   "cell_type": "code",
   "execution_count": null,
   "metadata": {},
   "outputs": [],
   "source": [
    "# Place your answer here"
   ]
  },
  {
   "cell_type": "markdown",
   "metadata": {},
   "source": [
    "---\n",
    "\n",
    " **Place your answer here** \n",
    "\n",
    " ---\n",
    "\n"
   ]
  },
  {
   "cell_type": "markdown",
   "metadata": {},
   "source": [
    "---\n",
    "\n",
    "#### Question :\n",
    "\n",
    "Quelle est votre interprétation physique de $det(J)$ ?"
   ]
  },
  {
   "cell_type": "markdown",
   "metadata": {},
   "source": [
    "---\n",
    "\n",
    " **Place your answer here** \n",
    "\n",
    " ---\n",
    "\n"
   ]
  },
  {
   "cell_type": "markdown",
   "metadata": {},
   "source": [
    "## Trouver la matrice de raideur $[k]$\n",
    "\n",
    "Dans l'espace des coordonnées naturelles, la matrice de raideur prend la forme donnée par changement de variable généralisée aux dimensions supérieures:\n",
    "\n",
    "$$[k] = \\iint [B(s,t)]^T [D] [B(s,t)] det(J(s,t)) ds dt$$\n",
    "\n",
    "Une telle intégration peut vite s'avérer difficile à la main. Des méthodes numériques sont nettement préférable, par exemple à l'aide de la quadrature de Gauss.\n"
   ]
  },
  {
   "cell_type": "markdown",
   "metadata": {},
   "source": [
    "### Algorithme général pour l'assemblage de la matrice de rigidité $K$ pour les éléments iso-paramétriques"
   ]
  },
  {
   "cell_type": "markdown",
   "metadata": {},
   "source": [
    "Ceci doit être fait via deux boucles imbriquées:\n",
    "\n",
    "1. une sur les éléments\n",
    "2. une sur les points de quadratures"
   ]
  },
  {
   "cell_type": "markdown",
   "metadata": {},
   "source": [
    "<img src=\"Images/algo-iso-parametrique3.svg\">"
   ]
  },
  {
   "cell_type": "code",
   "execution_count": null,
   "metadata": {},
   "outputs": [],
   "source": [
    "# par exemple pour un mesh de Q4\n",
    "\n",
    "def calculerMatriceRigiditeLocale(connectivite_element, coordonnees):\n",
    "       \n",
    "    quads = [[-1/sqrt(3), -1/sqrt(3)],\n",
    "             [1/sqrt(3),  -1/sqrt(3)],\n",
    "             [1/sqrt(3),  1/sqrt(3)],\n",
    "             [-1/sqrt(3),  1/sqrt(3)]]\n",
    "    \n",
    "    weights = [1, 1, 1, 1]\n",
    "    \n",
    "    for x_q, w_q in zip(quads, weights):\n",
    "        B = calculerB(x_q, coordonnees) # calcule B sur le point de quadrature x_q\n",
    "        J = calculerJ(x_q, coordonnees) # calcule J sur le point de quadrature x_q\n",
    "        detJ = np.linalg.det(J)         # calcule det(J) pour l'intégration\n",
    "        D = calculerD()                 # calcule la loi de constitution D\n",
    "        \n",
    "        \n",
    "        # somme la quadrature avec le poid w_q\n",
    "        K_local = Klocal + w_q * B.T@D@B * detJ\n",
    "        \n",
    "def assemblerMatriceRigidite(connectivite, coordonnees):\n",
    "\n",
    "    n_elem  = connectivite.shape[0]\n",
    "    n_nodes = coordonnees.shape[0]\n",
    "    numEq = calculerNumerosEquations(connectivite)\n",
    "\n",
    "    K = np.zeros((n_nodes*2, n_nodes*2))\n",
    "    for e in range(n_elem):\n",
    "        # On récupère les degrés de liberté de l'élément e\n",
    "        ddl = numEq[e, :]\n",
    "        # On récupère les noeuds de l'élément e\n",
    "        connectivite_element = connectivite[e, :]\n",
    "        # On calcule la matrice de rigidite locale de l'élément e\n",
    "        K_locale = calculerMatriceRigiditeLocale(connectivite_element, coordonnees)\n",
    "        # On assemble\n",
    "        for i, gi in enumerate(ddl):\n",
    "            for j, gj in enumerate(ddl):\n",
    "                K[gi, gj] += K_locale[i, j]\n",
    "    return K"
   ]
  },
  {
   "cell_type": "markdown",
   "metadata": {},
   "source": [
    "## Trouver les forces consistantes \n",
    "\n",
    "Dans l'espace des coordonnées naturelles, les forces consistantes s'expriment par :\n",
    "$$ \\{ f \\} = \\iint [N(s, t)]^T \\{X_b(s, t)\\} det(J(s,t)) ds dt$$"
   ]
  },
  {
   "cell_type": "markdown",
   "metadata": {},
   "source": [
    "---\n",
    "\n",
    "#### Question: \n",
    "\n",
    "Quel est l'algorithme iso-paramétrique pour le calcul des forces consistantes ?"
   ]
  },
  {
   "cell_type": "code",
   "execution_count": null,
   "metadata": {},
   "outputs": [],
   "source": []
  }
 ],
 "metadata": {
  "celltoolbar": "Slideshow",
  "hide_input": false,
  "kernelspec": {
   "display_name": "Python 3 (ipykernel)",
   "language": "python",
   "name": "python3"
  },
  "language_info": {
   "codemirror_mode": {
    "name": "ipython",
    "version": 3
   },
   "file_extension": ".py",
   "mimetype": "text/x-python",
   "name": "python",
   "nbconvert_exporter": "python",
   "pygments_lexer": "ipython3"
  },
  "rise": {
   "scroll": true
  },
  "toc": {
   "base_numbering": 1,
   "nav_menu": {},
   "number_sections": true,
   "sideBar": true,
   "skip_h1_title": false,
   "title_cell": "Table of Contents",
   "title_sidebar": "Contents",
   "toc_cell": false,
   "toc_position": {
    "height": "calc(100% - 180px)",
    "left": "10px",
    "top": "150px",
    "width": "273.188px"
   },
   "toc_section_display": true,
   "toc_window_display": true
  }
 },
 "nbformat": 4,
 "nbformat_minor": 4
}
