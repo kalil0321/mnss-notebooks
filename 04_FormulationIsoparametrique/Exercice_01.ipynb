{
 "cells": [
  {
   "cell_type": "markdown",
   "metadata": {},
   "source": [
    "<div style=\"border:1px solid black; padding:10px 10px;\">\n",
    "    <strong>CIVIL-321 \"Modélisation Numérique des Solides et Structures\"</strong><br/><br/>\n",
    "    <span style=\"text-decoration:underline;font-weight:bold;\">Comment utiliser ce Jupyter Notebook?\n",
    "    </span><br/><br/>\n",
    "    Ce <strong>Notebook</strong> est constitué de cellules de texte et de cellule de code. Les cellules de codes doivent être  <strong>executées</strong> pour voir le résultat du programme. Certaines cellules doivent être remplies par vos soins. Pour exécuter une cellule, cliquez dessus simplement et ensuite cliquez sur le bouton \"play\" (<span style=\"font: bold 12px/30px Arial, serif;\">&#9658;</span>) dans la barre de menu au dessus du notebook. Vous pouvez aussi taper la combinaison de touches <code>shift + enter</code>. Il est important d'éxécuter les cellules de code en respectant leur ordre d'arrivée dans le notebook.\n",
    "</div>"
   ]
  },
  {
   "cell_type": "markdown",
   "metadata": {},
   "source": [
    "On vous encourage à poser vos questions et donner votre feedback sur ce notebook sur la plateforme ED Discussion du cours accessible en cliquant sur ce bouton:\n",
    " \n",
    " \n",
    " \n",
    "<div class=\"container\" >\n",
    "        <a href=\"https://edstem.org/eu/courses/409/discussion?category=Exercices\">\n",
    "            <button class=\"btn btn-primary btn-lg\">Ed Discussion</button>\n",
    "        </a>\n",
    "</div>"
   ]
  },
  {
   "cell_type": "markdown",
   "metadata": {},
   "source": [
    "# Éléments isoparamétriques"
   ]
  },
  {
   "cell_type": "code",
   "execution_count": null,
   "metadata": {},
   "outputs": [],
   "source": [
    "import numpy as np\n",
    "import matplotlib.pyplot as plt\n",
    "from plot import *"
   ]
  },
  {
   "cell_type": "markdown",
   "metadata": {},
   "source": [
    "## Exercice 1 \n",
    "\n",
    "On considère l'élément 1D suivant (module de Young $E$, aire $A$):\n",
    "\n",
    "![](Images/fig1.png)\n"
   ]
  },
  {
   "cell_type": "markdown",
   "metadata": {},
   "source": [
    "1. Calculer, en utilisant les méthodes des exercices précédents:\n",
    "    - Les fonctions d'interpolation,\n",
    "    - La matrice $\\boldsymbol{B}$,\n",
    "    - La matrice de rigidité $\\boldsymbol{K}$."
   ]
  },
  {
   "cell_type": "markdown",
   "metadata": {},
   "source": [
    "---\n",
    "\n",
    " **Place your answer here** \n",
    "\n",
    " ---\n",
    "\n"
   ]
  },
  {
   "cell_type": "markdown",
   "metadata": {},
   "source": [
    "Cette solution va nous servir de référence pour calculer la matrice de ridigité en utilisant l'élément isoparamétrique suivant:\n",
    "\n",
    "![](Images/fig2.png)\n"
   ]
  },
  {
   "cell_type": "markdown",
   "metadata": {},
   "source": [
    "En se servant de cet élément, calculer:\n",
    "\n",
    "2. Les functions $u(s)$ et $x(s)$ en fonction des déplacements et respectivement, des coordonnnées de chaque nœud. "
   ]
  },
  {
   "cell_type": "markdown",
   "metadata": {},
   "source": [
    "---\n",
    "\n",
    " **Place your answer here** \n",
    "\n",
    " ---\n",
    "\n"
   ]
  },
  {
   "cell_type": "markdown",
   "metadata": {},
   "source": [
    "3. Écrivez le code python permettant de tracer la courbe du champ de déplacement en fonction de $s$. Tracer l'évolution du champ de déplacement en fonction de s, en condidérant $\\begin{bmatrix}u_1\\\\u_2\\\\u_3\\end{bmatrix} = \\begin{bmatrix} 0.5 \\\\ 2 \\\\ -1 \\end{bmatrix}$.\n",
    "\n",
    "*indice: toute fonction peut être programmée élégamment à l'aide de la commande lambda. La notation indicielle d'Einstein peut être exploitée grace à la routine `np.einsum`*"
   ]
  },
  {
   "cell_type": "code",
   "execution_count": null,
   "metadata": {},
   "outputs": [],
   "source": [
    "# Place your answer here"
   ]
  },
  {
   "cell_type": "markdown",
   "metadata": {},
   "source": [
    "4. La fonction $\\frac{\\mathrm{d}u}{\\mathrm{d}x}$ en fonction de $s$, la variable dans l'espace isoparamétrique. En déduire l'expression de $\\boldsymbol{B}$. Écrire une fonction donnant B en fonction de s, à l'aide de la commande lambda."
   ]
  },
  {
   "cell_type": "markdown",
   "metadata": {},
   "source": [
    "---\n",
    "\n",
    " **Place your answer here** \n",
    "\n",
    " ---\n",
    "\n"
   ]
  },
  {
   "cell_type": "markdown",
   "metadata": {},
   "source": [
    "5. Implémentez une routine python qui calule la matrice $B$"
   ]
  },
  {
   "cell_type": "code",
   "execution_count": null,
   "metadata": {},
   "outputs": [],
   "source": [
    "# Place your answer here"
   ]
  },
  {
   "cell_type": "markdown",
   "metadata": {},
   "source": [
    "4. Nous voulons à présent utiliser l'expression de la matrice de rigidité dans l'espace isoparamétrique:\n",
    "$ \\boldsymbol{K} = A\\int_{-1}^{1}B^TEBJds $ où $\\boldsymbol{J}$ est le jacobien du changement de variable $x(s)$. \n",
    "Développez l'expression $B^TEBJ$ en fonction de $s$"
   ]
  },
  {
   "cell_type": "markdown",
   "metadata": {},
   "source": [
    "---\n",
    "\n",
    " **Place your answer here** \n",
    "\n",
    " ---\n",
    "\n"
   ]
  },
  {
   "cell_type": "markdown",
   "metadata": {},
   "source": [
    "5. Implémentez une routine python qui calule le Jacobien $J$ et la matrice $EAB^TB$ avec pour $E = 210 \\times 10^6 [Pa]$ et $A = 1 [m^2]$"
   ]
  },
  {
   "cell_type": "code",
   "execution_count": null,
   "metadata": {},
   "outputs": [],
   "source": [
    "# Place your answer here"
   ]
  },
  {
   "cell_type": "markdown",
   "metadata": {},
   "source": [
    "6. On souhaite utiliser la quadrature de Gauss suivante:\n",
    "$$ \\begin{matrix}\n",
    "Position & -\\frac{1}{\\sqrt{3}} & \\frac{1}{\\sqrt{3}} \\\\\n",
    "Poids & 1 & 1\n",
    "\\end{matrix}$$\n",
    "\n",
    "Cette quadrature permet-t-elle d'intégrer exactement l'équation précédente ? Pourquoi ?"
   ]
  },
  {
   "cell_type": "markdown",
   "metadata": {},
   "source": [
    "---\n",
    "\n",
    " **Place your answer here** \n",
    "\n",
    " ---\n",
    "\n"
   ]
  },
  {
   "cell_type": "markdown",
   "metadata": {},
   "source": [
    "7. Implémentez l'intégration de Gauss "
   ]
  },
  {
   "cell_type": "code",
   "execution_count": null,
   "metadata": {},
   "outputs": [],
   "source": [
    "# Place your answer here"
   ]
  },
  {
   "cell_type": "markdown",
   "metadata": {},
   "source": [
    "6. Que faut-il changer à la figure 2 pour que la quadrature choisie intègre exactement la matrice de rigidité ?"
   ]
  },
  {
   "cell_type": "markdown",
   "metadata": {},
   "source": [
    "---\n",
    "\n",
    " **Place your answer here** \n",
    "\n",
    " ---\n",
    "\n"
   ]
  }
 ],
 "metadata": {
  "hide_input": false,
  "kernelspec": {
   "display_name": "Python 3 (ipykernel)",
   "language": "python",
   "name": "python3"
  },
  "language_info": {
   "codemirror_mode": {
    "name": "ipython",
    "version": 3
   },
   "file_extension": ".py",
   "mimetype": "text/x-python",
   "name": "python",
   "nbconvert_exporter": "python",
   "pygments_lexer": "ipython3"
  },
  "name": "04_Exercice.ipynb",
  "toc": {
   "base_numbering": 1,
   "nav_menu": {
    "height": "84px",
    "width": "252px"
   },
   "number_sections": true,
   "sideBar": true,
   "skip_h1_title": false,
   "title_cell": "Table of Contents",
   "title_sidebar": "Contents",
   "toc_cell": false,
   "toc_position": null,
   "toc_section_display": true,
   "toc_window_display": true
  }
 },
 "nbformat": 4,
 "nbformat_minor": 4
}
