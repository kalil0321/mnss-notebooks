{
 "cells": [
  {
   "cell_type": "markdown",
   "metadata": {},
   "source": [
    "<div style=\"border:1px solid black; padding:10px 10px;\">\n",
    "    <strong>CIVIL-321 \"Modélisation Numérique des Solides et Structures\"</strong><br/><br/>\n",
    "    <span style=\"text-decoration:underline;font-weight:bold;\">Comment utiliser ce Jupyter Notebook?\n",
    "    </span><br/><br/>\n",
    "    Ce <strong>Notebook</strong> est constitué de cellules de texte et de cellule de code. Les cellules de codes doivent être  <strong>executées</strong> pour voir le résultat du programme. Certaines cellules doivent être remplies par vos soins. Pour exécuter une cellule, cliquez dessus simplement et ensuite cliquez sur le bouton \"play\" (<span style=\"font: bold 12px/30px Arial, serif;\">&#9658;</span>) dans la barre de menu au dessus du notebook. Vous pouvez aussi taper la combinaison de touches <code>shift + enter</code>. Il est important d'éxécuter les cellules de code en respectant leur ordre d'arrivée dans le notebook.\n",
    "</div>"
   ]
  },
  {
   "cell_type": "markdown",
   "metadata": {},
   "source": [
    "On vous encourage à poser vos questions et donner votre feedback sur ce notebook sur la plateforme ED Discussion du cours accessible en cliquant sur ce bouton:\n",
    " \n",
    " \n",
    " \n",
    "<div class=\"container\" >\n",
    "        <a href=\"https://edstem.org/eu/courses/409/discussion?category=Exercices\">\n",
    "            <button class=\"btn btn-primary btn-lg\">Ed Discussion</button>\n",
    "        </a>\n",
    "</div>"
   ]
  },
  {
   "cell_type": "markdown",
   "metadata": {},
   "source": [
    "# Éléments isoparamétriques"
   ]
  },
  {
   "cell_type": "code",
   "execution_count": null,
   "metadata": {},
   "outputs": [],
   "source": [
    "import numpy as np\n",
    "import matplotlib.pyplot as plt\n",
    "from plot import *"
   ]
  },
  {
   "cell_type": "markdown",
   "metadata": {},
   "source": [
    "### Exercice 2 \n",
    "\n",
    "Soient les éléments suivants (état plan de contraintes, module de Young $E$, coefficient de Poisson $\\nu$, épaisseur $h$, masse volumique $\\rho$):\n",
    "\n",
    "![](Images/fig3.png)\n",
    "\n",
    "Nous utilisons la numérotation locale suivante :\n",
    "\n",
    "![](Images/fig4.png)\n",
    "\n",
    "Nous alons utiliser l’élément isoparamétrique pour calculer les matrices de rigidité et les forces consistantes.\n",
    "\n",
    "![](Images/fig5.png)"
   ]
  },
  {
   "cell_type": "markdown",
   "metadata": {},
   "source": [
    "Pour chaque élément:\n",
    "\n",
    "1. Exprimer analytiquement les champs $u$, $v$, $x$ et $y$ en fonction de s, t et N_1, N_2, N3."
   ]
  },
  {
   "cell_type": "markdown",
   "metadata": {},
   "source": [
    "---\n",
    "\n",
    " **Solution:**\n",
    "\n",
    " ---\n",
    "\n",
    "\n",
    "\n",
    "$$\\begin{align*}\n",
    "      u(s, t) & = & N_1(s, t)u_1 + N_2(s, t)u_2 + N_3(s, t)u_3\\\\\n",
    "      v(s, t) & = & N_1(s, t)v_1 + N_2(s, t)v_2 + N_3(s, t)v_3\\\\\n",
    "      x(s, t) & = & N_1(s, t)x_1 + N_2(s, t)x_2 + N_3(s, t)x_3\\\\\n",
    "      y(s, t) & = & N_1(s, t)y_1 + N_2(s, t)y_2 + N_3(s, t)y_3\n",
    "    \\end{align*}\n",
    "$$\n",
    "\n",
    "avec:\n",
    "\n",
    "$$\n",
    "\\begin{align}\n",
    "N_1(s,t) &= 1 - s - t\\\\\n",
    "N_2(s,t) &= s\\\\\n",
    "N_3(s,t) &= t\n",
    "\\end{align}$$"
   ]
  },
  {
   "cell_type": "markdown",
   "metadata": {},
   "source": [
    "2. Programmez les fonctions d'interpolation. Vérifier que la partition de l'unité est bien respectée, ainsi que les propriétés nodales $N_i(x_j) = \\delta_{ij}$"
   ]
  },
  {
   "cell_type": "code",
   "execution_count": null,
   "metadata": {},
   "outputs": [],
   "source": [
    "###########\n",
    "# Solution:\n",
    "##########\n",
    "\n",
    "\n",
    "# Définition des fonctions d'interpolation\n",
    "N = lambda s, t : np.array([\n",
    "    [1 - s - t],\n",
    "    [s],\n",
    "    [t]\n",
    "])\n",
    "\n",
    "# Vérification de la partition de l'unité\n",
    "# sur des coordonnées aléatoires\n",
    "s = 0.3456\n",
    "t = 0.11345\n",
    "somme = 0\n",
    "for j in range(3):\n",
    "    somme += N(s, t)[j]\n",
    "print(f\"Sum N_i{s, t} =\", somme)\n",
    "\n",
    "# ou bien en symbolique\n",
    "_s, _t =symbols('s t')\n",
    "somme = 0\n",
    "for j in range(3):\n",
    "    somme += N(_s, _t)[j]\n",
    "print(f\"Sum N_i{_s, _t} =\", somme)\n",
    "\n",
    "# Véfication des propriétés nodales\n",
    "coord = np.array([\n",
    "    [0, 0],\n",
    "    [1, 0],\n",
    "    [0, 1]\n",
    "])\n",
    "\n",
    "for i in range(3):\n",
    "    for j in range(3):\n",
    "        s = coord[j, 0]\n",
    "        t = coord[j, 1]\n",
    "        print(f\"N_{i}({s, t}) = \", N(s, t)[i])"
   ]
  },
  {
   "cell_type": "markdown",
   "metadata": {},
   "source": [
    "3. Calculer les dérivées partielles des fonctions d'interpolation $\\frac{\\partial N_i(s, t)}{\\partial s}$ et $\\frac{\\partial N_i(s, t)}{\\partial t}$"
   ]
  },
  {
   "cell_type": "markdown",
   "metadata": {},
   "source": [
    "---\n",
    "\n",
    " **Solution:**\n",
    "\n",
    " ---\n",
    "\n",
    "\n",
    "\n",
    "$$\\begin{align}\n",
    "\\frac{\\partial N_1(s, t)}{\\partial s} &= -1\n",
    "&\\frac{\\partial N_1(s, t)}{\\partial t} &= -1\\\\\n",
    "\\frac{\\partial N_2(s, t)}{\\partial s} &= 1\n",
    "&\\frac{\\partial N_2(s, t)}{\\partial t} &= 0\\\\\n",
    "\\frac{\\partial N_3(s, t)}{\\partial s} &= 0\n",
    "&\\frac{\\partial N_3(s, t)}{\\partial t} &= 1\n",
    "\\end{align}\n",
    "$$"
   ]
  },
  {
   "cell_type": "markdown",
   "metadata": {},
   "source": [
    "4. Programmez le calcul des matrices jacobiennes des élements 1 et 2 en fonction des coordonnées des noeuds. \n",
    "\n",
    "*Indice:* Vous pourrez calculer la matrice $C(s, t)$ dans un premier temps définie par la relation: \n",
    "\n",
    "$$ \n",
    "\\boldsymbol{J} = \\begin{bmatrix} \n",
    "\\frac{\\partial}{\\partial s} x(s, t) & \\frac{\\partial}{\\partial s} y(s, t) \\\\\n",
    "\\frac{\\partial}{\\partial t} x(s, t) & \\frac{\\partial}{\\partial t} y(s, t)\n",
    "\\end{bmatrix} \\qquad et \\qquad\n",
    "\\left\\{ \n",
    "\\begin{array}{c} \n",
    "\\frac{\\partial}{\\partial s} x(s, t) \\\\ \n",
    "\\frac{\\partial}{\\partial t} x(s, t) \\\\\n",
    "\\frac{\\partial}{\\partial s} y(s, t) \\\\\n",
    "\\frac{\\partial}{\\partial t} y(s, t)\n",
    "\\end{array} \n",
    "\\right\\} =  \\underbrace{\n",
    "\\begin{bmatrix}\n",
    "\\frac{\\partial}{\\partial s}N_1(s,t) & 0 & \\ldots & \\frac{\\partial}{\\partial s}N_3(s,t) & 0 \\\\\n",
    "\\frac{\\partial}{\\partial t}N_1(s,t) & 0 & \\ldots & \\frac{\\partial}{\\partial t}N_3(s,t) & 0 \\\\\n",
    "0 & \\frac{\\partial}{\\partial s}N_1(s,t) & \\ldots & 0 & \\frac{\\partial}{\\partial s}N_3(s,t)\\\\\n",
    "0 & \\frac{\\partial}{\\partial t}N_1(s,t) & \\ldots & 0 & \\frac{\\partial}{\\partial t}N_3(s,t)\\\\\n",
    "\\end{bmatrix}}_{C(s,t)}\\left\\{ \n",
    "\\begin{array}{c} \n",
    "x_1 \\\\ y_1 \\\\ \\vdots \\\\ x_3 \\\\ y_3\n",
    "\\end{array} \n",
    "\\right\\}$$"
   ]
  },
  {
   "cell_type": "code",
   "execution_count": null,
   "metadata": {},
   "outputs": [],
   "source": [
    "###########\n",
    "# Solution:\n",
    "##########\n",
    "\n",
    "\n",
    "N1s, N1t = [-1, -1]\n",
    "N2s, N2t = [1, 0]\n",
    "N3s, N3t = [0, 1]\n",
    "C = np.array([\n",
    "    [N1s, 0, N2s, 0, N3s, 0],\n",
    "    [N1t, 0, N2t, 0, N3t, 0],\n",
    "    [0, N1s, 0, N2s, 0, N3s],\n",
    "    [0, N1t, 0, N2t, 0, N3t]])\n",
    "       \n",
    "def calculerJ(noeuds):\n",
    "    grads = C@noeuds.ravel()\n",
    "    J = np.array([[grads[0], grads[2]],\n",
    "                  [grads[1], grads[3]]])\n",
    "    return J\n",
    "\n",
    "# Cordonnées des nœuds pour les éléments 1 et 2\n",
    "coord_1 = np.array([\n",
    "    [0, 0],\n",
    "    [1, 0],\n",
    "    [1, 1]\n",
    "])\n",
    "\n",
    "coord_2 = np.array([\n",
    "    [0, 0],\n",
    "    [1, 1],\n",
    "    [0, 1]\n",
    "])\n",
    "\n",
    "plot_matrix(calculerJ(coord_1), 'J_1')\n",
    "plot_matrix(calculerJ(coord_2), 'J_2')"
   ]
  },
  {
   "cell_type": "markdown",
   "metadata": {},
   "source": [
    "5. Le determinant des matrices jacobienne varie-t-elle selon l'orientation de l'élément ? De quoi est-elle fonction ?"
   ]
  },
  {
   "cell_type": "code",
   "execution_count": null,
   "metadata": {},
   "outputs": [],
   "source": [
    "###########\n",
    "# Solution:\n",
    "##########\n",
    "\n",
    "\n",
    "# Le determinant des matrices jacobienne ne change pas selon l'orientation de l'élément\n",
    "# tant que l'échelle est conservée.\n",
    "# En effet le déterminant est le ratio de volume entre l'élément réel et l'élément naturel"
   ]
  },
  {
   "cell_type": "markdown",
   "metadata": {},
   "source": [
    "4. Programmez la matrice $\\boldsymbol{B}$ pour les éléments 1 et 2. Pour rappel:\n",
    "\n",
    "$$\\begin{bmatrix} B \\end{bmatrix} = \\underbrace{ \\begin{bmatrix}\n",
    "1 & 0 & 0 & 0 \\\\ 0 & 0 & 0 & 1 \\\\ 0 & 1 & 1 & 0 \n",
    "\\end{bmatrix}}_{A}\n",
    "\\begin{bmatrix} J(s, t) & 0 \\\\ 0 & J(s, t) \\end{bmatrix}^{-1} \n",
    "\\underbrace{\\begin{bmatrix} \n",
    "\\frac{\\partial}{\\partial s}N_1(s,t) & 0 & \\ldots & \\frac{\\partial}{\\partial s}N_3(s,t) & 0 \\\\\n",
    "\\frac{\\partial}{\\partial t}N_1(s,t) & 0 & \\ldots & \\frac{\\partial}{\\partial t}N_3(s,t) & 0 \\\\\n",
    "0 & \\frac{\\partial}{\\partial s}N_1(s,t) & \\ldots & 0 & \\frac{\\partial}{\\partial s}N_3(s,t)\\\\\n",
    "0 & \\frac{\\partial}{\\partial t}N_1(s,t) & \\ldots & 0 & \\frac{\\partial}{\\partial t}N_3(s,t)\\\\\n",
    "\\end{bmatrix}}_{C(s, t)} $$\n",
    "\n",
    "    - Définir la matrice A sous forme de variable.\n",
    "    - Définir une fonction qui calcule B en fonction de coordonnées nodales."
   ]
  },
  {
   "cell_type": "code",
   "execution_count": null,
   "metadata": {},
   "outputs": [],
   "source": [
    "###########\n",
    "# Solution:\n",
    "##########\n",
    "\n",
    "\n",
    "# Définition de A\n",
    "A = np.array([\n",
    "    [1, 0, 0, 0],\n",
    "    [0, 0, 0, 1],\n",
    "    [0, 1, 1, 0]\n",
    "])\n",
    "\n",
    "# Définition de la matrice contenant les Jacobiennes\n",
    "def Mat_J(noeuds):\n",
    "    J = calculerJ(noeuds)\n",
    "    Jblock = np.zeros((4, 4))\n",
    "    Jblock[:2, :2] = J\n",
    "    Jblock[2:, 2:] = J\n",
    "    return np.linalg.inv(Jblock)\n",
    "    \n",
    "# Définition de B\n",
    "def calculerB(noeuds):\n",
    "    return A@Mat_J(noeuds)@C\n",
    "\n",
    "B1 = calculerB(coord_1)\n",
    "B2 = calculerB(coord_2)\n",
    "\n",
    "plot_matrix(B1, 'B_1')\n",
    "plot_matrix(B2, 'B_2')"
   ]
  },
  {
   "cell_type": "markdown",
   "metadata": {},
   "source": [
    "5. Quelle influence à l'échelle sur la matrice B ? Pour répondre, changer les coordonnées d'un élément en les multipliant par un facteur. Comparer la nouvelle matrice obtenue avec le résultat précédent."
   ]
  },
  {
   "cell_type": "code",
   "execution_count": null,
   "metadata": {},
   "outputs": [],
   "source": [
    "###########\n",
    "# Solution:\n",
    "##########\n",
    "\n",
    "\n",
    "# Par exemple, on multiplie les coordonnées de l'élément 1 par un facteur 2\n",
    "coord_scale2_1 = np.array([\n",
    "    [0, 0],\n",
    "    [2, 0],\n",
    "    [2, 2]\n",
    "])\n",
    "\n",
    "plot_matrix(calculerB(coord_scale2_1), 'B_{{1, scaled}}')\n",
    "\n",
    "# La matrice B est divisé par le facteur en question, à cause du terme ~ 1/J"
   ]
  },
  {
   "cell_type": "markdown",
   "metadata": {},
   "source": [
    "6. Vérifier que la somme des termes par lignes de la matrice B est nulle : $\\sum_j B(i, j) = 0$ où i : indice de ligne. D'où découle cette propriété ?"
   ]
  },
  {
   "cell_type": "code",
   "execution_count": null,
   "metadata": {},
   "outputs": [],
   "source": [
    "###########\n",
    "# Solution:\n",
    "##########\n",
    "\n",
    "\n",
    "# Cette propriété découle de la partition de l'unité des fonctions d'interpolation.\n",
    "\n",
    "B1[0, :].sum(), B1[1, :].sum(), B1[2, :].sum()"
   ]
  },
  {
   "cell_type": "markdown",
   "metadata": {},
   "source": [
    "7. Calculer la matrice de rigidité en utilisant la quadrature de Gauss (un point $(\\frac{1}{3}, \\frac{1}{3})$, poids 1/2). \n",
    "\n",
    "*Rappels:*\n",
    "\n",
    "On utilise l'intégration dans l'espace isoparamétrique:\n",
    "    $$ K = \\int_e{B^TDBdet(J)\\,\\mathrm{d}s\\mathrm{d}t} $$\n",
    "    \n",
    "avec\n",
    "    $$ D = \\frac{E}{1-\\nu^2}\n",
    "    \\begin{pmatrix}\n",
    "      1 & \\nu & 0\\\\\n",
    "      \\nu & 1 & 0\\\\\n",
    "      0 & 0 & \\frac{1-\\nu}{2}\n",
    "    \\end{pmatrix} $$\n",
    "\n",
    "Donnée: $E=210$ MPa et $\\nu=0.25$."
   ]
  },
  {
   "cell_type": "code",
   "execution_count": null,
   "metadata": {},
   "outputs": [],
   "source": [
    "###########\n",
    "# Solution:\n",
    "##########\n",
    "\n",
    "\n",
    "# Données\n",
    "E = 210*10**6 \n",
    "nu = 0.25 \n",
    "\n",
    "# Définition de la matrice D\n",
    "D = E/(1-nu**2)*np.array([\n",
    "        [1, nu, 0],\n",
    "        [nu, 1, 0],\n",
    "        [0, 0, (1-nu)/2]\n",
    "    ])\n",
    "\n",
    "def calculerMatriceRigiditeLocale(coordonnees):\n",
    "       \n",
    "    quad = [1/3, 1/3]\n",
    "    weight = 1/2\n",
    "    \n",
    "    ########################################################\n",
    "    # attention pas de boucle car un seul point de quadrature\n",
    "    ########################################################\n",
    "    \n",
    "    B = calculerB(coordonnees) # calcule B sur le point de quadrature\n",
    "    J = calculerJ(coordonnees) # calcule J sur le point de quadrature\n",
    "    detJ = np.linalg.det(J)    # calcule det(J) pour l'intégration\n",
    "         \n",
    "    # quadrature avec le poid weight\n",
    "    Klocal = weight * detJ * B.T@D@B\n",
    "    return Klocal\n",
    "\n",
    "K1 = calculerMatriceRigiditeLocale(coord_1)\n",
    "K2 = calculerMatriceRigiditeLocale(coord_2)\n",
    "\n",
    "plot_matrix(K1, 'K_1')\n",
    "plot_matrix(K2, 'K_2')"
   ]
  },
  {
   "cell_type": "markdown",
   "metadata": {},
   "source": [
    "8. Intégrer le vecteur des forces consistantes pour la gravité $\\boldsymbol{g}$ agissant vers le bas, en utilisant la même quadrature de Gauss que précédemment.\n",
    "\n",
    "*Rappel:*\n",
    "\n",
    "On intègre les forces dans l'espace isoparamétrique:\n",
    "    $$ F = \\rho\\int_e{N^T\\boldsymbol{g}det(J)\\,\\mathrm{d}s\\mathrm{d}t} $$\n",
    "Comme $\\boldsymbol{g}$ est dirigé vers le bas, on ne se soucie que des composantes verticales des forces. \n",
    "\n",
    "Donnée: $\\rho = 2500$ kg/m$^3$"
   ]
  },
  {
   "cell_type": "code",
   "execution_count": null,
   "metadata": {},
   "outputs": [],
   "source": [
    "###########\n",
    "# Solution:\n",
    "##########\n",
    "\n",
    "\n",
    "rho = 2500\n",
    "g = 9.81\n",
    "\n",
    "def calculerForceConsistante(coordonnees):\n",
    "    \n",
    "    quad = [1/3, 1/3]\n",
    "    weight = 1/2\n",
    "    \n",
    "    ########################################################\n",
    "    # attention pas de boucle car un seul point de quadrature\n",
    "    ########################################################\n",
    "    \n",
    "    J = calculerJ(coordonnees) # calcule J sur le point de quadrature\n",
    "    detJ = np.linalg.det(J)    # calcule det(J) pour l'intégration\n",
    "    \n",
    "    # quadrature avec le poid weight\n",
    "    F = weight*detJ*rho*g*N(*quad)\n",
    "    return F\n",
    "\n",
    "F_1 = calculerForceConsistante(coord_1)\n",
    "F_2 = calculerForceConsistante(coord_2)\n",
    "plot_matrix(F_1, 'F_1')\n",
    "plot_matrix(F_2, 'F_2')"
   ]
  },
  {
   "cell_type": "markdown",
   "metadata": {},
   "source": [
    "9. La quadrature choisie est-elle suffisante pour intégrer exactement les quantités ci-dessus ?"
   ]
  },
  {
   "cell_type": "markdown",
   "metadata": {},
   "source": [
    "---\n",
    "\n",
    " **Solution:**\n",
    "\n",
    " ---\n",
    "\n",
    "\n",
    "\n",
    "Ici, on intègre des fonctions linéaires, donc une quadrature à un point est suffisante pour obtenir la valeur exacte de l'intégrale."
   ]
  },
  {
   "cell_type": "markdown",
   "metadata": {},
   "source": [
    "#### Pour aller plus loin :\n",
    "Réfléchissez aux questions suivantes :\n",
    "\n",
    "- Quelles matrices seraient modifiées si l'on avait considéré un T6 ? \n",
    "- Quelles tailles auraient ces matrices ?\n",
    "- Pensez-vous que les forces volumiques appliquées à un T6 se distribuent de manière homogène entre les nœuds ?"
   ]
  },
  {
   "cell_type": "markdown",
   "metadata": {},
   "source": [
    "---\n",
    "\n",
    " **Solution:**\n",
    "\n",
    " ---\n",
    "\n",
    "\n",
    "\n",
    "- Pour un T6 les matrices impactées sont: $C$ (seulement une fois) et $J$ (pour chaque élément).\n",
    "- $C$ devient une $4\\times 12$, $J$ reste une $2 \\times 2$.\n",
    "- Non, il faut **absolument** calculer les forces consistantes."
   ]
  }
 ],
 "metadata": {
  "hide_input": false,
  "kernelspec": {
   "display_name": "Python3",
   "language": "python",
   "name": "python3"
  },
  "language_info": {
   "codemirror_mode": {
    "name": "ipython",
    "version": 3
   },
   "file_extension": ".py",
   "mimetype": "text/x-python",
   "name": "python",
   "nbconvert_exporter": "python",
   "pygments_lexer": "ipython3",
   "version": "3.12.3"
  },
  "name": "04_Exercice.ipynb",
  "toc": {
   "base_numbering": 1,
   "nav_menu": {
    "height": "84px",
    "width": "252px"
   },
   "number_sections": true,
   "sideBar": true,
   "skip_h1_title": false,
   "title_cell": "Table of Contents",
   "title_sidebar": "Contents",
   "toc_cell": false,
   "toc_position": null,
   "toc_section_display": true,
   "toc_window_display": true
  }
 },
 "nbformat": 4,
 "nbformat_minor": 4
}
