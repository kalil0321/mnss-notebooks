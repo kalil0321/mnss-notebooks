{
 "cells": [
  {
   "cell_type": "markdown",
   "id": "a9358433",
   "metadata": {},
   "source": [
    "<div style=\"border:1px solid black; padding:10px 10px;\">\n",
    "    <strong>CIVIL-321 \"Modélisation Numérique des Solides et Structures\"</strong><br/><br/>\n",
    "    <span style=\"text-decoration:underline;font-weight:bold;\">Comment utiliser ce Jupyter Notebook?\n",
    "    </span><br/><br/>\n",
    "    Ce <strong>Notebook</strong> est constitué de cellules de texte et de cellule de code. Les cellules de codes doivent être  <strong>executées</strong> pour voir le résultat du programme. Certaines cellules doivent être remplies par vos soins. Pour exécuter une cellule, cliquez dessus simplement et ensuite cliquez sur le bouton \"play\" (<span style=\"font: bold 12px/30px Arial, serif;\">&#9658;</span>) dans la barre de menu au dessus du notebook. Vous pouvez aussi taper la combinaison de touches <code>shift + enter</code>. Il est important d'éxécuter les cellules de code en respectant leur ordre d'arrivée dans le notebook.\n",
    "</div>"
   ]
  },
  {
   "cell_type": "markdown",
   "id": "2d1f2150",
   "metadata": {},
   "source": [
    "On vous encourage à poser vos questions et donner votre feedback sur ce notebook sur la plateforme ED Discussion du cours accessible en cliquant sur ce bouton:\n",
    " \n",
    " \n",
    " \n",
    "<div class=\"container\" >\n",
    "        <a href=\"https://edstem.org/eu/courses/409/discussion?category=Exercices\">\n",
    "            <button class=\"btn btn-primary btn-lg\">Ed Discussion</button>\n",
    "        </a>\n",
    "</div>"
   ]
  },
  {
   "cell_type": "code",
   "execution_count": null,
   "id": "1c4a0ef4",
   "metadata": {},
   "outputs": [],
   "source": [
    "import numpy as np\n",
    "import scipy.sparse.linalg\n",
    "import matplotlib.pyplot as plt\n",
    "from plot import *"
   ]
  },
  {
   "cell_type": "markdown",
   "id": "8b6d2c5f",
   "metadata": {},
   "source": [
    "# T3 iso-paramétrique complet\n",
    "\n",
    "Pour cet exercice, nous allons nous construire un code iso-paramétrique complet."
   ]
  },
  {
   "cell_type": "markdown",
   "id": "ab6331be",
   "metadata": {},
   "source": [
    "## Maillage\n",
    "\n",
    "![](Images/poutre_console.svg)\n",
    "<center>*Poutre à mailler. Épaisseur $t = 10$ mm. $E = 210$ GPa, $\\nu = 0.3$.*</center>\n",
    "\n",
    "#### Question \n",
    "\n",
    "A partir de cette description géométrique, veuillez créer un maillage de T3, à l'aide de la fonction `meshGeo`, puis affiche le avec la fonction `plotMesh`"
   ]
  },
  {
   "cell_type": "code",
   "execution_count": null,
   "id": "eec07153",
   "metadata": {},
   "outputs": [],
   "source": [
    "help(meshGeo)\n",
    "help(plotMesh)"
   ]
  },
  {
   "cell_type": "code",
   "execution_count": null,
   "id": "02a2ddb2",
   "metadata": {},
   "outputs": [],
   "source": [
    "# Place your answer here"
   ]
  },
  {
   "cell_type": "markdown",
   "id": "52a58d10",
   "metadata": {},
   "source": [
    "## Matrice de rigidité\n",
    "\n",
    "#### Question\n",
    "\n",
    "**La pluspart des routines ci-dessous vous sont données. Veuillez les lire avec attention!**\n",
    "\n",
    "Pour faire fonctionner le code avec les éléments T3, il faut:\n",
    "\n",
    "- implémenter l'intégration de Gauss de la matrice locale de rigidité (fonction `calculerMatriceRigiditeLocale`):\n",
    "\n",
    "$$[K] = \\iint_e [B]^T[D][B]det(J) ds dt$$\n",
    "\n",
    "  ce qui comprend `calculerD` (loi de constitution), `calculerC` (calcul des gradients dans l'espace naturel), `calculerBetJ` (calcul de la matrice $B$ et de la jacobienne $J$) et enfin `calculerMatriceRigiditeLocale` qui procède à l'intégration numérique."
   ]
  },
  {
   "cell_type": "code",
   "execution_count": null,
   "id": "fcb32f98",
   "metadata": {},
   "outputs": [],
   "source": [
    "def calculerD(contraintes_planes=True):\n",
    "    \n",
    "    E = 210e3 # 210GPa = 210e9 N/m^2 = 210e3 N/mm^2\n",
    "    nu = 0.3    \n",
    "\n",
    "    # On fait des contraintes planes par défaut\n",
    "    if contraintes_planes:\n",
    "        D = (E/(1-nu**2))* np.array(\n",
    "            [[1,  nu, 0],\n",
    "             [nu, 1,  0],\n",
    "             [0,  0,  (1-nu)/2]])\n",
    "    else:\n",
    "        raise RuntimeError('Déformations planes à implémenter!')\n",
    "    return D\n",
    "\n",
    "def calculerC():\n",
    "    N1s, N1t = [-1, -1]\n",
    "    N2s, N2t = [1, 0]\n",
    "    N3s, N3t = [0, 1]\n",
    "    C = np.array([\n",
    "        [N1s, 0, N2s, 0, N3s, 0],\n",
    "        [N1t, 0, N2t, 0, N3t, 0],\n",
    "        [0, N1s, 0, N2s, 0, N3s],\n",
    "        [0, N1t, 0, N2t, 0, N3t]])\n",
    "    return C\n",
    "\n",
    "def calculerBetJ(x, noeuds):\n",
    "    C = calculerC()\n",
    "\n",
    "    grads = C@noeuds.ravel()\n",
    "    J = np.array([[grads[0], grads[2]],\n",
    "                  [grads[1], grads[3]]])\n",
    "    \n",
    "    \n",
    "    # Définition de A\n",
    "    A = np.array([\n",
    "        [1, 0, 0, 0],\n",
    "        [0, 0, 0, 1],\n",
    "        [0, 1, 1, 0]\n",
    "    ])\n",
    "\n",
    "    # Définition de la matrice contenant les Jacobiennes\n",
    "    Jblock = np.zeros((4, 4))\n",
    "    Jblock[:2, :2] = J\n",
    "    Jblock[2:, 2:] = J\n",
    "    \n",
    "    Mat_J = np.linalg.inv(Jblock)\n",
    "    B = A@Mat_J@C\n",
    "    return B, J\n",
    "\n",
    "\n",
    "def calculerMatriceRigiditeLocale(connectivite_element, coordonnees):\n",
    "    \n",
    "    quads = [[1/3, 1/3]]\n",
    "    weights = [1/2]\n",
    "    \n",
    "    noeuds = coordonnees[connectivite_element.ravel(), :] # les noeuds de l'élément traité\n",
    "    K_local = np.zeros((6, 6)) # 6x6 for T3 only\n",
    "    \n",
    "    for x_q, w_q in zip(quads, weights):\n",
    "        B, J = calculerBetJ(x_q, noeuds)  # calcule B et J sur le point de quadrature x_q\n",
    "        detJ = np.linalg.det(J)           # calcule det(J) pour l'intégration\n",
    "        D = calculerD()                   # calcule la loi de constitution D\n",
    "           \n",
    "        # somme la quadrature avec le poid w_q\n",
    "        K_local = K_local + w_q * B.T@D@B * detJ\n",
    "        \n",
    "    # l'épaisseur\n",
    "    t = 10. # mm\n",
    "    \n",
    "    return t*K_local"
   ]
  },
  {
   "cell_type": "markdown",
   "id": "c1f2ceab",
   "metadata": {},
   "source": [
    "- Procéder à l'assemblage de la matrice de rigidité complète qui comprend le calcul des numéros d'équation (fonction `calculerNumerosEquations`), et l'assemblage lui même (fonction `assemblerMatriceRigidite`)"
   ]
  },
  {
   "cell_type": "code",
   "execution_count": null,
   "id": "a6433732",
   "metadata": {},
   "outputs": [],
   "source": [
    "        \n",
    "def calculerNumerosEquations(connectivite):\n",
    "\n",
    "    n_elem  = connectivite.shape[0]\n",
    "    n_nodes_per_elem = connectivite.shape[1]\n",
    "    numEq = np.zeros((n_elem, 2*n_nodes_per_elem), dtype=int)\n",
    "    for e in range(n_elem):\n",
    "        for i in range(n_nodes_per_elem):\n",
    "            numEq[e, 2*i]   = 2*connectivite[e, i];\n",
    "            numEq[e, 2*i+1] = 2*connectivite[e, i]+1;\n",
    "    return numEq\n",
    "\n",
    "def assemblerMatriceRigidite(connectivite, coordonnees):\n",
    "\n",
    "    n_elem  = connectivite.shape[0]\n",
    "    n_nodes = coordonnees.shape[0]\n",
    "    numEq = calculerNumerosEquations(connectivite)\n",
    "\n",
    "    K = np.zeros((n_nodes*2, n_nodes*2))\n",
    "    for e in range(n_elem):\n",
    "        # On récupère les degrés de liberté de l'élément e\n",
    "        ddl = numEq[e, :]\n",
    "        # On récupère les noeuds de l'élément e\n",
    "        connectivite_element = connectivite[e, :]\n",
    "        # On calcule la matrice de rigidite locale de l'élément e\n",
    "        K_locale = calculerMatriceRigiditeLocale(connectivite_element, coordonnees)\n",
    "        # On assemble\n",
    "        for i, gi in enumerate(ddl):\n",
    "            for j, gj in enumerate(ddl):\n",
    "                K[gi, gj] += K_locale[i, j]\n",
    "    return K"
   ]
  },
  {
   "cell_type": "markdown",
   "id": "958c9d5e",
   "metadata": {},
   "source": [
    "#### Question\n",
    "\n",
    "Construisez la matrice de rigidité et observez son profil (utilisez la fonction `plt.spy`)"
   ]
  },
  {
   "cell_type": "code",
   "execution_count": null,
   "id": "8d4a3353",
   "metadata": {},
   "outputs": [],
   "source": [
    "# Place your answer here"
   ]
  },
  {
   "cell_type": "markdown",
   "id": "4f7e47e0",
   "metadata": {},
   "source": [
    "## Resolution du problème\n",
    "\n",
    "#### Question \n",
    "\n",
    "Construire le vecteur des forces consistantes"
   ]
  },
  {
   "cell_type": "code",
   "execution_count": null,
   "id": "daccb737",
   "metadata": {},
   "outputs": [],
   "source": [
    "def calculerF(nodes):\n",
    "    n_nodes = nodes.shape[0]\n",
    "    # On connait à l'avance le nombre de ddl\n",
    "    F = np.zeros((n_nodes, 2), dtype=float)\n",
    "    # faire une boucle sur les noeuds et mettre la force au bon endroit\n",
    "    # ....\n",
    "        \n",
    "    return F.ravel()"
   ]
  },
  {
   "cell_type": "code",
   "execution_count": null,
   "id": "1f3659a6",
   "metadata": {},
   "outputs": [],
   "source": [
    "# Place your answer here"
   ]
  },
  {
   "cell_type": "markdown",
   "id": "0833240a",
   "metadata": {},
   "source": [
    "#### Question\n",
    "\n",
    "Construire le vecteur des blocages (fonction `calculerBlocages`)"
   ]
  },
  {
   "cell_type": "code",
   "execution_count": null,
   "id": "a06ca794",
   "metadata": {},
   "outputs": [],
   "source": [
    "def calculerBlocages(nodes):\n",
    "    n_nodes = nodes.shape[0]\n",
    "    # On connait à l'avance le nombre de ddl bloqués\n",
    "    blocages = np.zeros((n_nodes, 2), dtype=bool)\n",
    "    # faire une boucle sur les noeuds et mettre True quand bloqué\n",
    "    # ....\n",
    "        \n",
    "    return blocages.ravel()\n",
    "\n",
    "blocages = calculerBlocages(points)\n",
    "libres = np.logical_not(blocages)\n",
    "libres"
   ]
  },
  {
   "cell_type": "code",
   "execution_count": null,
   "id": "8ba89335",
   "metadata": {},
   "outputs": [],
   "source": [
    "# Place your answer here"
   ]
  },
  {
   "cell_type": "markdown",
   "id": "da06c24f",
   "metadata": {},
   "source": [
    "#### Question \n",
    "\n",
    "Résoudre le problème et affichez la déformée (avec la fonction `plotMesh`)"
   ]
  },
  {
   "cell_type": "code",
   "execution_count": null,
   "id": "c578c7b0",
   "metadata": {},
   "outputs": [],
   "source": [
    "# Résolution du système Ku=F avec conditions limites\n",
    "n_nodes = points.shape[0]\n",
    "u = np.zeros(n_nodes*2)\n",
    "u[libres] = np.linalg.solve(K[libres, :][:, libres], F[libres])\n",
    "\n",
    "plotMesh(points+u.reshape(n_nodes, 2)*1000, conn, u)"
   ]
  },
  {
   "cell_type": "markdown",
   "id": "25c486fb",
   "metadata": {},
   "source": [
    "# T3 Matrice de masse\n",
    "\n",
    "5. En modifiant les routines ci-dessous, implémentez l'assemblage de la matrice de masse\n",
    "\n",
    "Pour rappel, on a l'expression intégrale suivante:\n",
    "\n",
    "$$[M] =  \\iiint \\rho (s,t) det(J(s, t)) [N(s,t)]^T [N(s,t)] ds dt$$"
   ]
  },
  {
   "cell_type": "markdown",
   "id": "6e02ae69",
   "metadata": {},
   "source": [
    "#### Question\n",
    "\n",
    "Quel est l'ordre d'intégration nécéssaire pour réaliser cette intégrale ?"
   ]
  },
  {
   "cell_type": "markdown",
   "id": "60e50914",
   "metadata": {},
   "source": [
    "---\n",
    "\n",
    " **Place your answer here** \n",
    "\n",
    " ---\n",
    "\n"
   ]
  },
  {
   "cell_type": "markdown",
   "id": "e9abaafb",
   "metadata": {},
   "source": [
    "#### Question\n",
    "\n",
    "En vous inspirant de l'assemblage de la matrice de rigidité, faire l'assemblage de la matrice de masse.\n",
    "   \n",
    "*Indice: Quadrature de Gauss à trois points:*\n",
    "\n",
    "| Quad points | \\#1 | \\#2 | \\#3 |    \n",
    "|:---| :---: | :---: | :---: |    \n",
    "| Position $(s,t)$ | (1/6, 1/6) | (2/3, 1/6) | (1/6, 2/3) |\n",
    "| Poids                       | 1/6 | 1/6 | 1/6|\n"
   ]
  },
  {
   "cell_type": "code",
   "execution_count": null,
   "id": "b0b291d0",
   "metadata": {},
   "outputs": [],
   "source": [
    "\n",
    "def calculerMatriceMasseLocale(connectivite_element, coordonnees):\n",
    "    M_local = np.zeros((6, 6)) # 6x6 for T3 only\n",
    "\n",
    "    # .....\n",
    "    \n",
    "    return M_local\n",
    "\n",
    "def assemblerMatriceMasse(connectivite, coordonnees):\n",
    "\n",
    "    n_elem  = connectivite.shape[0]\n",
    "    n_nodes = coordonnees.shape[0]\n",
    "    numEq = calculerNumerosEquations(connectivite)\n",
    "\n",
    "    K = np.zeros((n_nodes*2, n_nodes*2))\n",
    "    for e in range(n_elem):\n",
    "        # On récupère les degrés de liberté de l'élément e\n",
    "        ddl = numEq[e, :]\n",
    "        # On récupère les noeuds de l'élément e\n",
    "        connectivite_element = connectivite[e, :]\n",
    "        # On calcule la matrice de rigidite locale de l'élément e\n",
    "        M_locale = calculerMatriceMasseLocale(connectivite_element, coordonnees)\n",
    "        # On assemble\n",
    "        for i, gi in enumerate(ddl):\n",
    "            for j, gj in enumerate(ddl):\n",
    "                M[gi, gj] += M_locale[i, j]\n",
    "    return M"
   ]
  },
  {
   "cell_type": "code",
   "execution_count": null,
   "id": "bb468d63",
   "metadata": {},
   "outputs": [],
   "source": [
    "# Place your answer here"
   ]
  },
  {
   "cell_type": "markdown",
   "id": "6008d16a",
   "metadata": {},
   "source": [
    "# Etude des modes propres\n",
    "\n",
    "Pour étudier les modes propres, il faut résoudre une équation du type:\n",
    "\n",
    "$$[M]^{-1}[K] \\{v\\} = \\lambda \\{v\\} \\qquad \\Rightarrow \\qquad [K] \\{v\\} = \\omega^2 [M]\\{v\\}$$\n",
    "\n",
    "avec la fréquence telle que $\\omega = 2\\pi f$\n",
    "\n",
    "En python la routine [scipy.sparse.linalg.eigs](https://docs.scipy.org/doc/scipy/reference/generated/scipy.sparse.linalg.eigs.html) peut résoudre ce type de problèmes sur des matrices creuses (plus rapide donc)"
   ]
  },
  {
   "cell_type": "markdown",
   "id": "794d2b72",
   "metadata": {},
   "source": [
    "#### Question\n",
    "\n",
    "Calculer les 5 premiers modes sans considérer les blocages. Affichez les avec la route `plotMesh`"
   ]
  },
  {
   "cell_type": "code",
   "execution_count": null,
   "id": "b828b27d",
   "metadata": {},
   "outputs": [],
   "source": [
    "# Place your answer here"
   ]
  },
  {
   "cell_type": "markdown",
   "id": "919fea92",
   "metadata": {},
   "source": [
    "#### Question\n",
    "\n",
    "Calculer les 5 premiers modes en considérerant les blocages. Affichez les avec la route `plotMesh`"
   ]
  },
  {
   "cell_type": "code",
   "execution_count": null,
   "id": "cd5d0ccc",
   "metadata": {},
   "outputs": [],
   "source": [
    "# Place your answer here"
   ]
  }
 ],
 "metadata": {
  "hide_input": false,
  "kernelspec": {
   "display_name": "Python 3 (ipykernel)",
   "language": "python",
   "name": "python3"
  },
  "language_info": {
   "codemirror_mode": {
    "name": "ipython",
    "version": 3
   },
   "file_extension": ".py",
   "mimetype": "text/x-python",
   "name": "python",
   "nbconvert_exporter": "python",
   "pygments_lexer": "ipython3"
  },
  "name": "05_Exercise.ipynb",
  "toc": {
   "base_numbering": 1,
   "nav_menu": {},
   "number_sections": true,
   "sideBar": true,
   "skip_h1_title": false,
   "title_cell": "Table of Contents",
   "title_sidebar": "Contents",
   "toc_cell": false,
   "toc_position": {},
   "toc_section_display": true,
   "toc_window_display": true
  }
 },
 "nbformat": 4,
 "nbformat_minor": 5
}
