{
 "cells": [
  {
   "cell_type": "markdown",
   "metadata": {},
   "source": [
    "<div style=\"border:1px solid black; padding:10px 10px;\">\n",
    "    <strong>CIVIL-321 \"Modélisation Numérique des Solides et Structures\"</strong><br/><br/>\n",
    "    <span style=\"text-decoration:underline;font-weight:bold;\">Comment utiliser ce Jupyter Notebook?\n",
    "    </span><br/><br/>\n",
    "    Ce <strong>Notebook</strong> est constitué de cellules de texte et de cellule de code. Les cellules de codes doivent être  <strong>executées</strong> pour voir le résultat du programme. Certaines cellules doivent être remplies par vos soins. Pour exécuter une cellule, cliquez dessus simplement et ensuite cliquez sur le bouton \"play\" (<span style=\"font: bold 12px/30px Arial, serif;\">&#9658;</span>) dans la barre de menu au dessus du notebook. Vous pouvez aussi taper la combinaison de touches <code>shift + enter</code>. Il est important d'éxécuter les cellules de code en respectant leur ordre d'arrivée dans le notebook.\n",
    "</div>"
   ]
  },
  {
   "cell_type": "markdown",
   "metadata": {},
   "source": [
    "Pour toute question ou feedback sur ce notebook, merci d'utiliser la plateforme *ED Discussion* du cours\n",
    "accessible **en cliquant sur ce bouton**:\n",
    " \n",
    " \n",
    " \n",
    "<div class=\"container\" >\n",
    "        <a href=\"https://edstem.org/eu/courses/409/discussion?category=Cours\">\n",
    "            <button class=\"btn btn-primary btn-lg\">Ed Discussion</button>\n",
    "        </a>\n",
    "</div>"
   ]
  },
  {
   "cell_type": "markdown",
   "metadata": {},
   "source": [
    "# Résolution d'un problème à plusieurs barres"
   ]
  },
  {
   "cell_type": "markdown",
   "metadata": {},
   "source": [
    "## Installation des modules"
   ]
  },
  {
   "cell_type": "code",
   "execution_count": null,
   "metadata": {},
   "outputs": [],
   "source": [
    "import numpy as np\n",
    "from plot import *"
   ]
  },
  {
   "cell_type": "markdown",
   "metadata": {},
   "source": [
    "## À lire avant de commencer\n",
    "\n",
    "- Les index sur Python commence à 0 (et non à 1 contrairement à Matlab). C'est pourquoi, nous fixerons nos premiers paramètres (nœuds, éléments, lignes et colonnes des matrices, etc) avec la valeur 0.\n",
    "\n",
    "- La fonction `plot_matrix(matrix, matrix_name)` permet de visualiser les matrices. Elle prend en entrée:\n",
    "        - matrix : le nom de la variable       \n",
    "        - matrix_name = 'nom_matrix'\n",
    "          - par exemple, matrix_name prendra les valeurs de `C` si on veut la matrice de connectivité."
   ]
  },
  {
   "cell_type": "code",
   "execution_count": null,
   "metadata": {},
   "outputs": [],
   "source": [
    "plot_matrix(eye(3), 'I')"
   ]
  },
  {
   "cell_type": "markdown",
   "metadata": {},
   "source": [
    "## Ce Notebook se décompose en 3 parties:\n",
    "        1. Matrice de connectivité\n",
    "        2. Matrice de numérotation d'équation\n",
    "        3. Matrice de raideur"
   ]
  },
  {
   "cell_type": "markdown",
   "metadata": {},
   "source": [
    "## 1. Matrice de connectivité\n",
    "\n",
    "Dans cette section, nous tacherons de\n",
    "\n",
    "- definir la matrice de connectivité\n",
    "- comprendre ce qui l'influençe"
   ]
  },
  {
   "cell_type": "markdown",
   "metadata": {},
   "source": [
    "Nous définissons une structure de référence à l'aide des matrices de positions et de connectivité"
   ]
  },
  {
   "cell_type": "code",
   "execution_count": null,
   "metadata": {},
   "outputs": [],
   "source": [
    "positions = np.array([\n",
    "    [0, -1],\n",
    "    [0, 0],\n",
    "    np.array([1, 1])/np.sqrt(2),\n",
    "    np.array([-1, 1])/np.sqrt(2)\n",
    "])\n",
    "plot_matrix(positions, 'Coord')\n",
    "\n",
    "conn = [\n",
    "    [0, 1],\n",
    "    [1, 2],\n",
    "    [1, 3]\n",
    "]\n",
    "plot_matrix(conn, 'C')"
   ]
  },
  {
   "cell_type": "code",
   "execution_count": null,
   "metadata": {},
   "outputs": [],
   "source": [
    "plot_structure(positions, conn)"
   ]
  },
  {
   "cell_type": "markdown",
   "metadata": {},
   "source": [
    "### 1.1.  Influence de la numérotation des éléments"
   ]
  },
  {
   "cell_type": "markdown",
   "metadata": {},
   "source": [
    "- Pour changer la numérotation des éléments, il suffit de permuter les lignes de la matrice de connectivité, sans changer la position des nœuds. \n",
    "- Par exemple :"
   ]
  },
  {
   "cell_type": "code",
   "execution_count": null,
   "metadata": {},
   "outputs": [],
   "source": [
    "conn = [\n",
    "    [1, 2],\n",
    "    [0, 1],\n",
    "    [1, 3]\n",
    "]\n",
    "\n",
    "plot_matrix(conn, 'C')\n",
    "\n",
    "positions = [\n",
    "    [0, -1],\n",
    "    [0, 0],\n",
    "    np.array([1, 1])/np.sqrt(2),\n",
    "    np.array([-1, 1])/np.sqrt(2)\n",
    "]\n",
    "\n",
    "plot_matrix(positions, 'Coords')"
   ]
  },
  {
   "cell_type": "markdown",
   "metadata": {},
   "source": [
    "**Question:**\n",
    "\n",
    "- Quel impact y a-t-il lorsque nous inversons les lignes de la matrice de connectivité sur la structure ? \n",
    "\n",
    "- Vérifier votre réponse en affichant la structure avec la fonction `plot_structure`."
   ]
  },
  {
   "cell_type": "code",
   "execution_count": null,
   "metadata": {},
   "outputs": [],
   "source": [
    "###########\n",
    "# Solution:\n",
    "##########\n",
    "\n",
    "\n",
    "# La structure reste inchangée en revanche, la numérotation des éléments barre est redéfinie.\n",
    "plot_structure(positions, conn)"
   ]
  },
  {
   "cell_type": "markdown",
   "metadata": {},
   "source": [
    "### 1.2. Influence de la position des nœuds"
   ]
  },
  {
   "cell_type": "markdown",
   "metadata": {},
   "source": [
    "- Pour changer la numérotation des noeuds, il suffit de changer leurs positions.\n",
    "- Par exemple, on peut permuter les noeuds 1 et 3 de la façon suivante :"
   ]
  },
  {
   "cell_type": "code",
   "execution_count": null,
   "metadata": {},
   "outputs": [],
   "source": [
    "positions = [\n",
    "    [0, -1],\n",
    "    np.array([-1, 1])/np.sqrt(2),\n",
    "    np.array([1, 1])/np.sqrt(2),\n",
    "    [0, 0]\n",
    "]"
   ]
  },
  {
   "cell_type": "markdown",
   "metadata": {},
   "source": [
    "- Modifier la matrice de connectivité associée à ce changement :"
   ]
  },
  {
   "cell_type": "code",
   "execution_count": null,
   "metadata": {},
   "outputs": [],
   "source": [
    "###########\n",
    "# Solution:\n",
    "##########\n",
    "\n",
    "\n",
    "conn = [\n",
    "    [0, 3],\n",
    "    [3, 2],\n",
    "    [3, 1]\n",
    "]\n",
    "\n",
    "plot_matrix(conn, 'C^{{permuted}}')"
   ]
  },
  {
   "cell_type": "markdown",
   "metadata": {},
   "source": [
    "- Vérification: les nœuds 1 et 3 ont bien permuté ?"
   ]
  },
  {
   "cell_type": "code",
   "execution_count": null,
   "metadata": {},
   "outputs": [],
   "source": [
    "plot_structure(positions, conn)"
   ]
  },
  {
   "cell_type": "markdown",
   "metadata": {},
   "source": [
    "**Question:**\n",
    "\n",
    "Quel impact y a-t-il lorsque l'on permutte les nœuds sur la matrice de connectivité ?"
   ]
  },
  {
   "cell_type": "markdown",
   "metadata": {},
   "source": [
    "---\n",
    "\n",
    " **Solution:**\n",
    "\n",
    " ---\n",
    "\n",
    "\n",
    "\n",
    "- La matrice de connectivité est complètement redéfinie. \n",
    "- Il n'existe pas de règle entre un changement dans la matrice de connectivité et une permutation des nœuds."
   ]
  },
  {
   "cell_type": "markdown",
   "metadata": {},
   "source": [
    "### 1.3. Influence des matrices positions et de connectivité sur la structure"
   ]
  },
  {
   "cell_type": "markdown",
   "metadata": {},
   "source": [
    "- Dessiner sur papier la structure obtenue pour la matrice C et la position des nœuds suivante:"
   ]
  },
  {
   "cell_type": "code",
   "execution_count": null,
   "metadata": {},
   "outputs": [],
   "source": [
    "positions = [\n",
    "    [0, 0],\n",
    "    [1, 0],\n",
    "    [1, 1],\n",
    "    [0, 1]\n",
    "]\n",
    "plot_matrix(positions, 'Coord')"
   ]
  },
  {
   "cell_type": "code",
   "execution_count": null,
   "metadata": {},
   "outputs": [],
   "source": [
    "conn = [\n",
    "    [0, 1],\n",
    "    [1, 2],\n",
    "    [2, 3],\n",
    "    [0, 3],\n",
    "    [0, 2],\n",
    "    [1, 3],\n",
    "]\n",
    "\n",
    "plot_matrix(conn, 'C')"
   ]
  },
  {
   "cell_type": "code",
   "execution_count": null,
   "metadata": {},
   "outputs": [],
   "source": [
    "###########\n",
    "# Solution:\n",
    "##########\n",
    "\n",
    "\n",
    "plot_structure(positions, conn)"
   ]
  },
  {
   "cell_type": "markdown",
   "metadata": {},
   "source": [
    "## 2. La matrice de numérotation d'équation"
   ]
  },
  {
   "cell_type": "markdown",
   "metadata": {},
   "source": [
    "- Dans cette section, nous allons introduire les degrés de libertés (ddl) de chaque nœud. \n",
    "- Chaque degré de liberté est associé à une équation. \n",
    "\n",
    "$$[K]\n",
    "\\left\\{\\begin{matrix}\n",
    "u_1\\\\\n",
    "\\vdots\\\\\n",
    "u_n\n",
    "\\end{matrix}\\right\\} = \n",
    "\\left\\{\\begin{matrix}\n",
    "f_1\\\\\n",
    "\\vdots\\\\\n",
    "f_n\n",
    "\\end{matrix}\\right\\} \\qquad\n",
    "\\begin{matrix}\n",
    "equation~\\#1\\\\\n",
    "\\vdots\\\\\n",
    "equation~\\#n\n",
    "\\end{matrix}\n",
    "$$\n",
    "- Pour chaque ddl $u_i$: a quel noeud correspond-t-il ? direction x ou y ?\n",
    "- La matrice de numérotation d'équation $\\boldsymbol{E_{qn}}$ stocke cette information\n",
    "\n",
    "*Rq: cette information sera vraiment utile lors de l'assemblage de la matrice de raideur $\\boldsymbol{K}$.*"
   ]
  },
  {
   "cell_type": "markdown",
   "metadata": {},
   "source": [
    "- Reprenons notre structure de référence. \n",
    "- On ajoute à l'affichage les indices des ddl $[i, j]$ pour chaque nœud $\\Rightarrow$"
   ]
  },
  {
   "cell_type": "code",
   "execution_count": null,
   "metadata": {},
   "outputs": [],
   "source": [
    "positions = [\n",
    "    [0, -1],\n",
    "    [0, 0],\n",
    "    np.array([1, 1])/np.sqrt(2),\n",
    "    np.array([-1, 1])/np.sqrt(2)\n",
    "]\n",
    "\n",
    "conn = [\n",
    "    [0, 1],\n",
    "    [1, 2],\n",
    "    [1, 3]\n",
    "]\n",
    "\n",
    "# La variable plot_eqn = 'packed' sert simplement à ajouter les ddl sur le plot. \n",
    "# La variable ret est utilisée pour sortir la matrice Eqn associée. \n",
    "\n",
    "ret = plot_structure(positions, conn, plot_eqn='packed')"
   ]
  },
  {
   "cell_type": "markdown",
   "metadata": {},
   "source": [
    "### 2.1. Définition de la matrice de numérotation par nœud $\\boldsymbol{E_{qn}}$\n",
    "\n",
    "- La matrice $\\boldsymbol{E_{qn}}$ associée est telle que :"
   ]
  },
  {
   "cell_type": "code",
   "execution_count": null,
   "metadata": {},
   "outputs": [],
   "source": [
    "plot_matrix(ret['eqn_node'], 'Eqn')"
   ]
  },
  {
   "cell_type": "markdown",
   "metadata": {},
   "source": [
    "**Question :**\n",
    "- Que représente cette matrice ? \n",
    "- Définir les lignes et les colonnes de cette matrice."
   ]
  },
  {
   "cell_type": "markdown",
   "metadata": {},
   "source": [
    "---\n",
    "\n",
    " **Solution:**\n",
    "\n",
    " ---\n",
    "\n",
    "\n",
    "\n",
    "- Elle permet de numeroter les ddls de chaque nœud. \n",
    "- Les lignes correspondent aux nœuds de la structure et les colonnes aux directions de l'espace (x ou y) associées."
   ]
  },
  {
   "cell_type": "markdown",
   "metadata": {},
   "source": [
    "### 2.2. Définition de la matrice de numérotation par éléments $\\boldsymbol{E_{qe}}$\n",
    "\n",
    "- La matrice $\\boldsymbol{E_{qe}}$ associée est :"
   ]
  },
  {
   "cell_type": "code",
   "execution_count": null,
   "metadata": {},
   "outputs": [],
   "source": [
    "plot_matrix(ret['eqn_elem'], 'Eqe')"
   ]
  },
  {
   "cell_type": "code",
   "execution_count": null,
   "metadata": {},
   "outputs": [],
   "source": [
    "ret = plot_structure(positions, conn, plot_eqn='packed')"
   ]
  },
  {
   "cell_type": "markdown",
   "metadata": {},
   "source": [
    "**Question:**\n",
    "\n",
    "- Que représente cette matrice ? \n",
    "\n",
    "- Définir les lignes et les colonnes de cette matrice afin de bien comprendre la différence entre $\\boldsymbol{E_{qn}}$ et $\\boldsymbol{E_{qe}}$."
   ]
  },
  {
   "cell_type": "markdown",
   "metadata": {},
   "source": [
    "---\n",
    "\n",
    " **Solution:**\n",
    "\n",
    " ---\n",
    "\n",
    "\n",
    "\n",
    "Concernant la matrice de numérotation des équations par élément:\n",
    "\n",
    "- Elle permet de localiser les ddls de chaque élément, triés par nœuds. \n",
    "- Les lignes correspondent aux éléments barres et les colonnes aux ddls de ces éléments. \n",
    "- Dans le cas 2D, nous avons deux ddls par nœuds. \n",
    "  - Ainsi, les deux premières colonnes correspondent au premier nœud de la barre \n",
    "  - alors que les deux dernières au deuxième nœud."
   ]
  },
  {
   "cell_type": "markdown",
   "metadata": {},
   "source": [
    "### 2.3. Influence de la définition des ddl associés à chacun des nœuds."
   ]
  },
  {
   "cell_type": "markdown",
   "metadata": {},
   "source": [
    "- Définir la matrice \" eqn_node \" comme variable telle que les lignes (0) et (1) soient inversées. Indication : définir la variable à l'aide de _np.array()_."
   ]
  },
  {
   "cell_type": "code",
   "execution_count": null,
   "metadata": {},
   "outputs": [],
   "source": [
    "###########\n",
    "# Solution:\n",
    "##########\n",
    "\n",
    "\n",
    "eqn_node = np.array([\n",
    "    [2, 3],\n",
    "    [0, 1],\n",
    "    [4, 5],\n",
    "    [6, 7]\n",
    "])\n",
    "\n",
    "plot_matrix(eqn_node, 'Eqn')"
   ]
  },
  {
   "cell_type": "markdown",
   "metadata": {},
   "source": [
    "- Visualiser la structure avec la nouvelle matrice $\\boldsymbol{E_{qn}}$ définie précédemment."
   ]
  },
  {
   "cell_type": "code",
   "execution_count": null,
   "metadata": {},
   "outputs": [],
   "source": [
    "ret = plot_structure(positions, conn, plot_eqn=eqn_node)"
   ]
  },
  {
   "cell_type": "markdown",
   "metadata": {},
   "source": [
    "**Question:**\n",
    "\n",
    "Quel impact cela aura-t-il sur la matrice de numéro d'équation par éléments ? Écrire la nouvelle matrice $\\boldsymbol{E_{qe}}$."
   ]
  },
  {
   "cell_type": "markdown",
   "metadata": {},
   "source": [
    "---\n",
    "\n",
    " **Solution:**\n",
    "\n",
    " ---\n",
    "\n",
    "\n",
    "\n",
    "Les ddls des nœuds 0 et 1 sont simplement inversés."
   ]
  },
  {
   "cell_type": "code",
   "execution_count": null,
   "metadata": {},
   "outputs": [],
   "source": [
    "###########\n",
    "# Solution:\n",
    "##########\n",
    "\n",
    "\n",
    "eqn_elem = np.array([\n",
    "    [2, 3, 0, 1],\n",
    "    [0, 1, 4, 5],\n",
    "    [0, 1, 6, 7]\n",
    "])\n",
    "\n",
    "plot_matrix(eqn_elem, 'Eqe')"
   ]
  },
  {
   "cell_type": "markdown",
   "metadata": {},
   "source": [
    "### 2.4. Influence de la position des nœuds"
   ]
  },
  {
   "cell_type": "markdown",
   "metadata": {},
   "source": [
    "- Nous permutons les nœuds 1 et 2 dans la matrice \"positions\"."
   ]
  },
  {
   "cell_type": "code",
   "execution_count": null,
   "metadata": {},
   "outputs": [],
   "source": [
    "positions = [\n",
    "    [0, -1],\n",
    "    np.array([1, 1])/np.sqrt(2),\n",
    "    [0, 0],\n",
    "    np.array([-1, 1])/np.sqrt(2)\n",
    "]"
   ]
  },
  {
   "cell_type": "markdown",
   "metadata": {},
   "source": [
    "- Écrire la matrice de connectivité associée à ce changement."
   ]
  },
  {
   "cell_type": "code",
   "execution_count": null,
   "metadata": {},
   "outputs": [],
   "source": [
    "###########\n",
    "# Solution:\n",
    "##########\n",
    "\n",
    "\n",
    "conn = [\n",
    "    [0, 2],\n",
    "    [2, 1],\n",
    "    [2, 3]\n",
    "]"
   ]
  },
  {
   "cell_type": "markdown",
   "metadata": {},
   "source": [
    "- Vérifier sur la figure ci-dessous que les nœuds 1 et 2 ont bien permuté."
   ]
  },
  {
   "cell_type": "code",
   "execution_count": null,
   "metadata": {},
   "outputs": [],
   "source": [
    "ret = plot_structure(positions, conn, plot_eqn=\"packed\")"
   ]
  },
  {
   "cell_type": "markdown",
   "metadata": {},
   "source": [
    "**Question:**\n",
    "\n",
    "Quel impact cela aura-t-il sur la matrice de numérotation d'équation par éléments $\\boldsymbol{E_{qe}}$ ? Écrire la nouvelle matrice $\\boldsymbol{E_{qe}}$."
   ]
  },
  {
   "cell_type": "markdown",
   "metadata": {},
   "source": [
    "---\n",
    "\n",
    " **Solution:**\n",
    "\n",
    " ---\n",
    "\n",
    "\n",
    "\n",
    "Les ddls des nœuds 0 et 1 sont simplement inversés."
   ]
  },
  {
   "cell_type": "code",
   "execution_count": null,
   "metadata": {},
   "outputs": [],
   "source": [
    "###########\n",
    "# Solution:\n",
    "##########\n",
    "\n",
    "\n",
    "plot_matrix(ret['eqn_elem'], 'Eqe')"
   ]
  },
  {
   "cell_type": "markdown",
   "metadata": {},
   "source": [
    "### 2.5. Sur la base de l'exemple 1.3. , comment définiriez vous les matrices $\\boldsymbol{E_{qn}}$ et $\\boldsymbol{E_{qe}}$?\n",
    "\n",
    "*Rq: Pour rappel, les matrices de connectivité et de positions sont les suivantes*"
   ]
  },
  {
   "cell_type": "code",
   "execution_count": null,
   "metadata": {},
   "outputs": [],
   "source": [
    "positions = [\n",
    "    [0, 0],\n",
    "    [1, 0],\n",
    "    [1, 1],\n",
    "    [0, 1]\n",
    "]\n",
    "\n",
    "conn = [\n",
    "    [0, 1],\n",
    "    [1, 2],\n",
    "    [2, 3],\n",
    "    [0, 3],\n",
    "    [0, 2],\n",
    "    [1, 3],\n",
    "]"
   ]
  },
  {
   "cell_type": "code",
   "execution_count": null,
   "metadata": {},
   "outputs": [],
   "source": [
    "plot_matrix(positions, 'Coords')\n",
    "plot_matrix(conn, 'C')"
   ]
  },
  {
   "cell_type": "code",
   "execution_count": null,
   "metadata": {},
   "outputs": [],
   "source": [
    "ret = plot_structure(positions, conn, plot_eqn=eqn_node)"
   ]
  },
  {
   "cell_type": "markdown",
   "metadata": {},
   "source": [
    "**Question:**\n",
    "\n",
    "Trouver les matrices des numéros d'équations par noeuds et par éléments"
   ]
  },
  {
   "cell_type": "code",
   "execution_count": null,
   "metadata": {},
   "outputs": [],
   "source": [
    "###########\n",
    "# Solution:\n",
    "##########\n",
    "\n",
    "\n",
    "plot_matrix(ret['eqn_node'], 'Eqn')\n",
    "plot_matrix(ret['eqn_elem'], 'Eqe')"
   ]
  },
  {
   "cell_type": "markdown",
   "metadata": {},
   "source": [
    "### 2.6. Influence du regroupement les ddl\n",
    "\n",
    "Reprenons notre structure de référence :"
   ]
  },
  {
   "cell_type": "code",
   "execution_count": null,
   "metadata": {},
   "outputs": [],
   "source": [
    "positions = [\n",
    "    [0, -1],\n",
    "    [0, 0],\n",
    "    np.array([1, 1])/np.sqrt(2),\n",
    "    np.array([-1, 1])/np.sqrt(2)\n",
    "]\n",
    "\n",
    "conn = [\n",
    "    [0, 1],\n",
    "    [1, 2],\n",
    "    [1, 3]\n",
    "]"
   ]
  },
  {
   "cell_type": "code",
   "execution_count": null,
   "metadata": {},
   "outputs": [],
   "source": [
    "ret = plot_structure(positions, conn, plot_eqn='packed')"
   ]
  },
  {
   "cell_type": "code",
   "execution_count": null,
   "metadata": {},
   "outputs": [],
   "source": [
    "plot_matrix(ret['eqn_node'], 'Eqn')\n",
    "plot_matrix(ret['eqn_elem'], 'Eqe')"
   ]
  },
  {
   "cell_type": "markdown",
   "metadata": {},
   "source": [
    "- Changeons la façon de grouper les ddls. \n",
    "- Nous choissisons de ne plus les grouper par nœuds, \n",
    "  - i.e. $(d_{1x}, d_{2x}, \\cdots, d_{1y}, d_{2y}) \\Rightarrow (d_{1x}, d_{1y}, \\cdots, d_{2x}, d_{2y})$."
   ]
  },
  {
   "cell_type": "markdown",
   "metadata": {},
   "source": [
    "**Question:**\n",
    "\n",
    "- Comment s'écrirait la matrice Eqe?"
   ]
  },
  {
   "cell_type": "code",
   "execution_count": null,
   "metadata": {},
   "outputs": [],
   "source": [
    "###########\n",
    "# Solution:\n",
    "##########\n",
    "\n",
    "ret = plot_structure(positions, conn, plot_eqn=\"stride\")\n",
    "eqn_elem = ret['eqn_elem']\n",
    "plot_matrix(ret['eqn_elem'], 'Eqe')"
   ]
  },
  {
   "cell_type": "markdown",
   "metadata": {},
   "source": [
    "## 3. Matrice de raideur"
   ]
  },
  {
   "cell_type": "markdown",
   "metadata": {},
   "source": [
    "### 3.1. Barre inclinée\n",
    "\n",
    "Dans le cas d'une barre de treillis tournée:"
   ]
  },
  {
   "cell_type": "code",
   "execution_count": null,
   "metadata": {},
   "outputs": [],
   "source": [
    "Image(filename = './Figures/barre_rotated.png',  width=300, height=300)"
   ]
  },
  {
   "cell_type": "markdown",
   "metadata": {},
   "source": [
    "- Afin de traiter cette partie dans le cas le plus général, nous utiliserons une **écriture symbolique**.\n",
    "- Pour cela, nous utilisons la fonction `Symbol` qui prend en entrée le nom de la variable et le type de variable (réelle, positive, etc). \n",
    "\n",
    "```python\n",
    "L = Symbol('L', real=True, positive=True)\n",
    "A = Symbol('A', real=True, positive=True)\n",
    "```\n",
    "\n",
    "- Les applications numériques pourront être calculées par substitution.\n",
    "\n",
    "```python\n",
    "(E*A/L).subs({L: 1, E: 1, A: 1})\n",
    "```"
   ]
  },
  {
   "cell_type": "markdown",
   "metadata": {},
   "source": [
    "On définit les symboles correspondant à l'angle $\\theta$ et à la longueur $L$ de la barre."
   ]
  },
  {
   "cell_type": "code",
   "execution_count": null,
   "metadata": {},
   "outputs": [],
   "source": [
    "theta = Symbol(r'\\theta', real=True)\n",
    "\n",
    "L = Symbol('L', real=True, positive=True)"
   ]
  },
  {
   "cell_type": "markdown",
   "metadata": {},
   "source": [
    "- Écrire la matrice de positions associée à l'exemple, sous la forme :\n",
    "    ```python\n",
    "    positions = Matrix([\n",
    "    ...\n",
    "    ])\n",
    "    ```\n",
    "- Exprimer la matrice de connectivité à partir des variables L et theta, sous la forme :\n",
    "    ```python\n",
    "conn = np.array([\n",
    "    ...\n",
    "    ])\n",
    "```"
   ]
  },
  {
   "cell_type": "code",
   "execution_count": null,
   "metadata": {},
   "outputs": [],
   "source": [
    "###########\n",
    "# Solution:\n",
    "##########\n",
    "\n",
    "\n",
    "positions = Matrix([\n",
    "    [0, 0],\n",
    "    [L*cos(theta), L*sin(theta)]\n",
    "])\n",
    "\n",
    "plot_matrix(positions, 'Coord')\n",
    "\n",
    "conn = np.array([\n",
    "    [0, 1]\n",
    "])\n",
    "\n",
    "plot_matrix(conn, 'C')"
   ]
  },
  {
   "cell_type": "markdown",
   "metadata": {},
   "source": [
    "#### Matrice de rotation"
   ]
  },
  {
   "cell_type": "markdown",
   "metadata": {},
   "source": [
    "La fonction `calculerMatriceRotation` permet de calculer \n",
    "  - la matrice de rotation $\\mathbf{r}$ en fonction de\n",
    "    - la position du nœud 0 (p0)\n",
    "    - la position du nœud 1 (p1) \n",
    "  - la longueur L de la barre. \n",
    "\n",
    "\n",
    "*Rq: La fonction `simplify` permet de simplifier une expression symbolique*"
   ]
  },
  {
   "cell_type": "code",
   "execution_count": null,
   "metadata": {},
   "outputs": [],
   "source": [
    "p0 = positions[0, :]\n",
    "p1 = positions[1, :]\n",
    "\n",
    "r, _L = calculerMatriceRotation(p0, p1)\n",
    "r = simplify(r)\n",
    "plot_matrix(r, 'r')"
   ]
  },
  {
   "cell_type": "markdown",
   "metadata": {},
   "source": [
    "### Calcul de la matrice de raideur (rigidité) d'une barre de treillis.\n",
    " \n",
    "#### Matrice de rotation de la raideur"
   ]
  },
  {
   "cell_type": "markdown",
   "metadata": {},
   "source": [
    "- La matrice de rotation $R$ (pour tourner $K$) est définie par $R = \\begin{bmatrix} r & 0 \\\\ 0 & r \\end{bmatrix}$."
   ]
  },
  {
   "cell_type": "code",
   "execution_count": null,
   "metadata": {},
   "outputs": [],
   "source": [
    "R = zeros(4, 4)\n",
    "R[0:2, 0:2] = r\n",
    "R[2:4, 2:4] = r\n",
    "\n",
    "plot_matrix(R, 'R')"
   ]
  },
  {
   "cell_type": "markdown",
   "metadata": {},
   "source": [
    "#### Matrice de raideur dans le repère de la barre"
   ]
  },
  {
   "cell_type": "markdown",
   "metadata": {},
   "source": [
    "- Définir des symboles pour le module d'elasticité $E$ et l'aire de la section $A$:\n",
    "\n",
    "- On pretera attention à préciser le type de variable considérée (réelle, positive, etc.)"
   ]
  },
  {
   "cell_type": "code",
   "execution_count": null,
   "metadata": {},
   "outputs": [],
   "source": [
    "E = Symbol('E', real=True, positive=True)\n",
    "A = Symbol('A', real=True, positive=True)"
   ]
  },
  {
   "cell_type": "markdown",
   "metadata": {},
   "source": [
    "- La fonction _calculerMatriceRigiditeLocale_ calcule la matrice de rigidité locale en prenant comme paramètre la rigidité de la barre k. \n",
    "- Écrire $k$ en fonction de $E$, $A$ et $L$."
   ]
  },
  {
   "cell_type": "code",
   "execution_count": null,
   "metadata": {},
   "outputs": [],
   "source": [
    "###########\n",
    "# Solution:\n",
    "##########\n",
    "\n",
    "k = E*A/L"
   ]
  },
  {
   "cell_type": "code",
   "execution_count": null,
   "metadata": {},
   "outputs": [],
   "source": [
    "Klocale = calculerMatriceRigiditeLocale(k)\n",
    "Klocale = Matrix(Klocale)\n",
    "\n",
    "Klocale = simplify(Klocale)\n",
    "plot_matrix(Klocale, 'Klocale')"
   ]
  },
  {
   "cell_type": "markdown",
   "metadata": {},
   "source": [
    "**Question :**\n",
    "\n",
    "Dans la partie précédente, les ddl ont été groupés par variables $(d_{1x}, d_{2x}, d_{1y}, d_{2y})$ et non plus par nœuds $(d_{1x}, d_{1y}, d_{2x}, d_{2y})$.\n",
    "\n",
    "- Quel est l'influence de ce changement sur la matrice de raideur K? \n",
    "\n",
    "- En quoi un tel changement serait utile?"
   ]
  },
  {
   "cell_type": "markdown",
   "metadata": {},
   "source": [
    "---\n",
    "\n",
    " **Solution:**\n",
    "\n",
    " ---\n",
    "\n",
    "\n",
    "\n",
    "- Les termes non nuls de la matrice de raideur $\\boldsymbol{K}$ sont tous regroupés sur un bloc. \n",
    "- Cela peut fortement diminuer le temps de calcul d'un code en éléments finis (simplification des produits matriciels, etc.)"
   ]
  },
  {
   "cell_type": "markdown",
   "metadata": {},
   "source": [
    "### Rotation de la matrice de raideur\n",
    "\n",
    "- Pour rappel, la matrice de rigidité dans le repère global s'exprime par : \n",
    "\n",
    "$$ K = R K^{locale} R^T $$\n",
    "\n",
    "D'où :"
   ]
  },
  {
   "cell_type": "code",
   "execution_count": null,
   "metadata": {},
   "outputs": [],
   "source": [
    "plot_matrix_product(R, Klocale, R.T, 'K')\n",
    "plot_matrix(simplify(R@Klocale@R.T), 'K')"
   ]
  },
  {
   "cell_type": "markdown",
   "metadata": {},
   "source": [
    "- La fonction `assemblerMatriceRigidite` assemble la matrice de rigidité en fonction de: \n",
    "  - la positions des nœuds\n",
    "  - la matrice de connectivité\n",
    "  - le produit $EA$ Dans la cas d'une seule barre\n",
    "  \n",
    "La matrice assemblée correspond à la matrice de rigidité $\\boldsymbol{K}$ précédente."
   ]
  },
  {
   "cell_type": "code",
   "execution_count": null,
   "metadata": {},
   "outputs": [],
   "source": [
    "K = assemblerMatriceRigidite(positions, conn, [E*A])\n",
    "K = simplify(K)\n",
    "plot_matrix(K, 'K')"
   ]
  },
  {
   "cell_type": "markdown",
   "metadata": {},
   "source": [
    "**Question :**\n",
    "\n",
    "Dans les cas particuliers de $\\theta = 90^\\circ$ et $\\theta = 180^\\circ$, comparer la matrice de raideur K avec la matrice de raideur locale d'une barre\n",
    "\n",
    "- *Rq: faites une application numérique, via `subs` , pour répondre à cette question*\n",
    "- *Rq2: vous pouvez aussi définir le module de Young $E$ et la section $A$*"
   ]
  },
  {
   "cell_type": "code",
   "execution_count": null,
   "metadata": {},
   "outputs": [],
   "source": [
    "###########\n",
    "# Solution:\n",
    "##########\n",
    "\n",
    "\n",
    "# theta = pi\n",
    "app_num = {theta:pi}\n",
    "plot_matrix(K.subs(app_num), 'K')\n",
    "\n",
    "# theta = pi/2\n",
    "app_num = {theta:pi/2}\n",
    "plot_matrix(K.subs(app_num), 'K')"
   ]
  },
  {
   "cell_type": "markdown",
   "metadata": {},
   "source": [
    "### 3.2. Treillis"
   ]
  },
  {
   "cell_type": "markdown",
   "metadata": {},
   "source": [
    "Passons au cas des treillis: i.e. des structures composées de plusieurs barres.\n",
    "\n",
    "- Definissez la positions de 4 nœuds selon votre choix : `positions = np.array([...])`\n",
    "- Définissez la matrice de connectivité selon votre choix : `conn = np.array([...])`\n",
    "- Afficher graphiquement la structure avec la fonction `plot_structure`"
   ]
  },
  {
   "cell_type": "code",
   "execution_count": null,
   "metadata": {},
   "outputs": [],
   "source": [
    "# Par exemple, on peut choisir :\n",
    "\n",
    "positions = np.array([\n",
    "    [-1., -.5],\n",
    "    [-.5, 0],\n",
    "    [.5, 0],\n",
    "    [1., -.5]\n",
    "])\n",
    "\n",
    "conn = np.array([\n",
    "    [0, 1],\n",
    "    [1, 2],\n",
    "    [2, 3]\n",
    "])\n",
    "\n",
    "plot_structure(positions, conn)"
   ]
  },
  {
   "cell_type": "markdown",
   "metadata": {},
   "source": [
    "La fonction `plot_bloc_stiffness` permet de visualiser les étapes d'assemblage\n",
    "\n",
    "- Barre après barre (1 barre une couleur ou superposition)\n",
    "- Seules les composantes non nulles apparaissent."
   ]
  },
  {
   "cell_type": "code",
   "execution_count": null,
   "metadata": {},
   "outputs": [],
   "source": [
    "# Le module d'élasticité et l'aire sont définis comme :\n",
    "E = 210e6\n",
    "A = 1 \n",
    "\n",
    "plot_bloc_stiffness(positions, conn, E, A, nb_barre=len(conn))"
   ]
  },
  {
   "cell_type": "markdown",
   "metadata": {},
   "source": [
    "**Question:**\n",
    "\n",
    "- Pourquoi le bloc central n'est pas plein (contient des éléments nuls) ?"
   ]
  },
  {
   "cell_type": "markdown",
   "metadata": {},
   "source": [
    "---\n",
    "\n",
    " **Solution:**\n",
    "\n",
    " ---\n",
    "\n",
    "\n",
    "\n",
    "- Pour la barre horizontale des déplacements horizontaux ne créent pas d'efforts verticaux \n",
    "- Comparable à la matrice de raideur exprimée dans l'axe de la barre"
   ]
  },
  {
   "cell_type": "markdown",
   "metadata": {},
   "source": [
    "**Question**\n",
    "\n",
    "- Ajouter une barre entre deux nœuds qui ne sont pas déjà reliés (faites le en changeant la matrice de connectivité). \n",
    "- Tentez de prédire le profile de la matrice de raideur\n",
    "- Vérifiez avec la fonction `plot_bloc_stiffness`"
   ]
  },
  {
   "cell_type": "code",
   "execution_count": null,
   "metadata": {},
   "outputs": [],
   "source": [
    "###########\n",
    "# Solution:\n",
    "##########\n",
    "\n",
    "\n",
    "# Dans notre exemple, on peut relier les nœuds 1 et 3 :\n",
    "\n",
    "conn = np.array([\n",
    "    [0, 1],\n",
    "    [1, 2],\n",
    "    [2, 3],\n",
    "    [1, 3]\n",
    "])\n",
    "\n",
    "\n",
    "plot_bloc_stiffness(positions, conn, E, A, nb_barre=len(conn))"
   ]
  }
 ],
 "metadata": {
  "celltoolbar": "Slideshow",
  "hide_input": false,
  "kernelspec": {
   "display_name": "Python 3 (ipykernel)",
   "language": "python",
   "name": "python3"
  },
  "language_info": {
   "codemirror_mode": {
    "name": "ipython",
    "version": 3
   },
   "file_extension": ".py",
   "mimetype": "text/x-python",
   "name": "python",
   "nbconvert_exporter": "python",
   "pygments_lexer": "ipython3"
  },
  "rise": {
   "scroll": true
  },
  "toc": {
   "base_numbering": 1,
   "nav_menu": {},
   "number_sections": true,
   "sideBar": true,
   "skip_h1_title": false,
   "title_cell": "Table of Contents",
   "title_sidebar": "Contents",
   "toc_cell": false,
   "toc_position": {
    "height": "calc(100% - 180px)",
    "left": "10px",
    "top": "150px",
    "width": "273.183px"
   },
   "toc_section_display": true,
   "toc_window_display": false
  }
 },
 "nbformat": 4,
 "nbformat_minor": 4
}
