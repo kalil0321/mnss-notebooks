{
 "cells": [
  {
   "cell_type": "markdown",
   "id": "52d5e565",
   "metadata": {},
   "source": [
    "<div style=\"border:1px solid black; padding:10px 10px;\">\n",
    "    <strong>CIVIL-321 \"Modélisation Numérique des Solides et Structures\"</strong><br/><br/>\n",
    "    <span style=\"text-decoration:underline;font-weight:bold;\">Comment utiliser ce Jupyter Notebook?\n",
    "    </span><br/><br/>\n",
    "    Ce <strong>Notebook</strong> est constitué de cellules de texte et de cellule de code. Les cellules de codes doivent être  <strong>executées</strong> pour voir le résultat du programme. Certaines cellules doivent être remplies par vos soins. Pour exécuter une cellule, cliquez dessus simplement et ensuite cliquez sur le bouton \"play\" (<span style=\"font: bold 12px/30px Arial, serif;\">&#9658;</span>) dans la barre de menu au dessus du notebook. Vous pouvez aussi taper la combinaison de touches <code>shift + enter</code>. Il est important d'éxécuter les cellules de code en respectant leur ordre d'arrivée dans le notebook.\n",
    "</div>"
   ]
  },
  {
   "cell_type": "markdown",
   "id": "9b5682b7",
   "metadata": {},
   "source": [
    "On vous encourage à poser vos questions et donner votre feedback sur ce notebook sur la plateforme ED Discussion du cours accessible en cliquant sur ce bouton:\n",
    " \n",
    " \n",
    " \n",
    "<div class=\"container\" >\n",
    "        <a href=\"https://edstem.org/eu/courses/409/discussion?category=Exercices\">\n",
    "            <button class=\"btn btn-primary btn-lg\">Ed Discussion</button>\n",
    "        </a>\n",
    "</div>"
   ]
  },
  {
   "cell_type": "markdown",
   "id": "e99056e6",
   "metadata": {},
   "source": [
    "# Série d'exercices : Résolution d'un problème à plusieurs barres"
   ]
  },
  {
   "cell_type": "markdown",
   "id": "a1302620",
   "metadata": {},
   "source": [
    "## Introduction\n",
    "\n",
    "Cette séance d'exercice se fait exclusivement sur Python. Les concepts utilisés dans le Notebook du cours \"Barres et treillis\" sont censés être maîtrisés. Tout d'abord, importer les modules suivants :"
   ]
  },
  {
   "cell_type": "code",
   "execution_count": null,
   "id": "1b618ad3",
   "metadata": {},
   "outputs": [],
   "source": [
    "import numpy as np\n",
    "from plot import *\n",
    "import math as m"
   ]
  },
  {
   "cell_type": "markdown",
   "id": "33d957cf",
   "metadata": {},
   "source": [
    "## Exercice 1 : un exemple complet"
   ]
  },
  {
   "cell_type": "markdown",
   "id": "0ea4ae29",
   "metadata": {},
   "source": [
    "### Données :\n",
    "\n",
    "- L'aire de la barre 0 et 1 : $A = 6\\times 10^{-4}$ m$^2$\n",
    "- Module d'élasticité des barres 0 et 1 : $E = 210\\times10^6$ [kN/m$^2$]\n",
    "- Force au nœud 0 : $P$ = 1000 [kN] (direction -$y$)"
   ]
  },
  {
   "cell_type": "code",
   "execution_count": null,
   "id": "b33c09e2",
   "metadata": {},
   "outputs": [],
   "source": [
    "Image(filename = './Figures/exemple.png',  width=200, height=200)"
   ]
  },
  {
   "cell_type": "markdown",
   "id": "2e8fc2e1",
   "metadata": {},
   "source": [
    "### Objectif "
   ]
  },
  {
   "cell_type": "markdown",
   "id": "5853ba29",
   "metadata": {},
   "source": [
    "On souhaite connaître le déplacement de chacun des nœuds ainsi que les forces agissant sur ces nœuds dans la direction x et y. Dans ce but, nous détaillerons les étapes de résolution. "
   ]
  },
  {
   "cell_type": "markdown",
   "id": "8fa83371",
   "metadata": {},
   "source": [
    "#### Étape 1 : Définition des variables du problème\n",
    "\n",
    "Expliciter :\n",
    "- La matrice de position des nœuds : _positions = np.array([...])_\n",
    "- La matrice de connectivité du problème : _conn = np.array([...])_\n",
    "- La matrice de numérotation d'équation par nœud : _eqn_node = np.array([...])_ \n",
    "- La matrice de numérotation d'équation par élément : _eqn_elem = np.array([...])_"
   ]
  },
  {
   "cell_type": "code",
   "execution_count": null,
   "id": "24a9d74a",
   "metadata": {},
   "outputs": [],
   "source": [
    "# Place your answer here"
   ]
  },
  {
   "cell_type": "markdown",
   "id": "47bc322a",
   "metadata": {},
   "source": [
    "- Exprimez la rigidité $k_0$ et $k_1$ des barres 0 et 1 respectivement, à partir des propriétés de la barre. "
   ]
  },
  {
   "cell_type": "code",
   "execution_count": null,
   "id": "4ee5b0df",
   "metadata": {},
   "outputs": [],
   "source": [
    "# Place your answer here"
   ]
  },
  {
   "cell_type": "markdown",
   "id": "0e18bcfc",
   "metadata": {},
   "source": [
    "- Définissez le vecteur de rigidité $k_{vec}$ = [$k_0$, $k_1$, etc] contenant les rigidités des barres."
   ]
  },
  {
   "cell_type": "code",
   "execution_count": null,
   "id": "e0b6d095",
   "metadata": {},
   "outputs": [],
   "source": [
    "# Place your answer here"
   ]
  },
  {
   "cell_type": "markdown",
   "id": "b0c28758",
   "metadata": {},
   "source": [
    "- Écrire une fonction calculant la matrice de raideur locale $K_{l}$ d'une barre, en prenant comme entrée la rigidité de la barre $k$. Attention, par rapport à la semaine dernière, nous considérons désormais un espace à deux dimensions, chaque noeud a donc 2 degrés de liberté."
   ]
  },
  {
   "cell_type": "code",
   "execution_count": null,
   "id": "b12c73e7",
   "metadata": {},
   "outputs": [],
   "source": [
    "# Place your answer here"
   ]
  },
  {
   "cell_type": "markdown",
   "id": "86e3d465",
   "metadata": {},
   "source": [
    "- Expliciter cette matrice pour les barres 0 et 1."
   ]
  },
  {
   "cell_type": "code",
   "execution_count": null,
   "id": "6707cacb",
   "metadata": {},
   "outputs": [],
   "source": [
    "# Place your answer here"
   ]
  },
  {
   "cell_type": "markdown",
   "id": "ffd4f3ee",
   "metadata": {},
   "source": [
    "- Écrire une fonction permettant de calculer la matrice de rotation $\\boldsymbol{R}$, connaissant la position des nœuds, la matrice de connectivité ainsi que l'élément e considéré. \n",
    "\n",
    "    Pour rappel :\n",
    "$\\boldsymbol{R} = \\begin{bmatrix} \n",
    "\\boldsymbol{r} & 0 \\\\\n",
    "0 & \\boldsymbol{r}\n",
    "\\end{bmatrix}$ et  $\\boldsymbol{r} =\\frac{1}{l} \\begin{bmatrix} \n",
    "x_1 - x_0 & -(y_1-y_0) \\\\\n",
    "y_1-y_0 & x_1 - x_0\n",
    "\\end{bmatrix}\n",
    "$\n",
    "où $l = \\sqrt{(x_1 - x_0)^2 + (y_1 - y_0)^2}.$"
   ]
  },
  {
   "cell_type": "code",
   "execution_count": null,
   "id": "a0815daf",
   "metadata": {},
   "outputs": [],
   "source": [
    "# Place your answer here"
   ]
  },
  {
   "cell_type": "markdown",
   "id": "7331866e",
   "metadata": {},
   "source": [
    "- Vérifier l'exactitude de votre fonction en l'appliquant pour la barre 0 et 1."
   ]
  },
  {
   "cell_type": "code",
   "execution_count": null,
   "id": "d4ba0419",
   "metadata": {},
   "outputs": [],
   "source": [
    "# Place your answer here"
   ]
  },
  {
   "cell_type": "markdown",
   "id": "31d2969e",
   "metadata": {},
   "source": [
    "#### Étape 3 : Assemblage de la matrice de rigidité\n",
    "\n",
    "- Écrire une fonction permettant d'assembler les matrices de rigidités locales dans la matrice de rigidité globale en prenant en compte: \n",
    "    - la rigidité des barres (k_vec)\n",
    "    - la positions des nœuds, la matrice de connectivité (conn)\n",
    "    - le nombre d'élément (nb_elem)\n",
    "    - le nombre de degrés de liberté total (nb_ddl) \n",
    "    - la matrice de numérotation par élément (eqn_elem)."
   ]
  },
  {
   "cell_type": "code",
   "execution_count": null,
   "id": "86f7770d",
   "metadata": {},
   "outputs": [],
   "source": [
    "# Place your answer here"
   ]
  },
  {
   "cell_type": "markdown",
   "id": "c4b7dd8a",
   "metadata": {},
   "source": [
    "- Vérifier que la position des zéros dans la matrice $\\boldsymbol{K}$ est cohérente avec les ddl."
   ]
  },
  {
   "cell_type": "markdown",
   "id": "02d4a1ea",
   "metadata": {},
   "source": [
    "#### Étape 4 : Conditions aux limites et calcul des réactions\n",
    "\n",
    "- Définir les conditions aux limites (6 conditions) en force et déplacement."
   ]
  },
  {
   "cell_type": "markdown",
   "id": "1059e7fb",
   "metadata": {},
   "source": [
    "---\n",
    "\n",
    " **Place your answer here** \n",
    "\n",
    " ---\n",
    "\n"
   ]
  },
  {
   "cell_type": "markdown",
   "id": "95c864d0",
   "metadata": {},
   "source": [
    "- Calculer le déplacement de la composante restante (non nulle)."
   ]
  },
  {
   "cell_type": "code",
   "execution_count": null,
   "id": "d6ac5fe1",
   "metadata": {},
   "outputs": [],
   "source": [
    "# Place your answer here"
   ]
  },
  {
   "cell_type": "markdown",
   "id": "fa53d2be",
   "metadata": {},
   "source": [
    "- Calculer les réactions $\\lbrace f \\rbrace$ grâce à la formule $\\lbrace f \\rbrace$ = $[K] \\lbrace d \\rbrace$."
   ]
  },
  {
   "cell_type": "code",
   "execution_count": null,
   "id": "657b9379",
   "metadata": {},
   "outputs": [],
   "source": [
    "# Place your answer here"
   ]
  },
  {
   "cell_type": "markdown",
   "id": "29798e30",
   "metadata": {},
   "source": [
    "## Exercice 2 : Assemblage d'un système de ressorts\n",
    "\n",
    "Lors de l’exercice 2 de la série 1, nous avons vu comment résoudre numériquement un système de ressorts assemblés en série. L’objectif de cet exercice est de standardiser le code afin de pouvoir assembler n’importe quelle configuration de ressorts. Cette standardisation est réalisée en définissant une matrice de connectivité. Le rôle de la matrice de connectivité est de lier la numérotation globale des nœuds (sur la structure entière) à la numérotation locale (sur un seul élément).\n",
    "\n",
    "1. Considérons la numérotation locale de la figure suivante correspondant à un ressort de rigidité $k^e$ à deux degrés de liberté $u^e_1$ et $u^e_2$. Écrivez une fonction calculant la matrice de rigidité locale $\\boldsymbol{K^l_{ij}}$ (2x2) pour cet élément ressort."
   ]
  },
  {
   "cell_type": "code",
   "execution_count": null,
   "id": "1b60414d",
   "metadata": {},
   "outputs": [],
   "source": [
    "Image(filename = './Figures/assemblage_ressort.png',  width=300, height=300)"
   ]
  },
  {
   "cell_type": "code",
   "execution_count": null,
   "id": "609fa42b",
   "metadata": {},
   "outputs": [],
   "source": [
    "# Place your answer here"
   ]
  },
  {
   "cell_type": "markdown",
   "id": "9a50111a",
   "metadata": {},
   "source": [
    "2. Nous allons à présent modéliser le système de ressorts suivant composé de 4 éléments et de 5 nœuds. Exprimez la matrice de connectivité $\\boldsymbol{C}$ (4x2) du système de la figure suivante :"
   ]
  },
  {
   "cell_type": "code",
   "execution_count": null,
   "id": "ec5370e0",
   "metadata": {},
   "outputs": [],
   "source": [
    "Image(filename = './Figures/systeme_ressort.png',  width=500, height=500)"
   ]
  },
  {
   "cell_type": "code",
   "execution_count": null,
   "id": "9ac76a42",
   "metadata": {},
   "outputs": [],
   "source": [
    "# Place your answer here"
   ]
  },
  {
   "cell_type": "markdown",
   "id": "fd4f61af",
   "metadata": {},
   "source": [
    "3. La matrice de connectivité permet ainsi de standardiser l'assemblage de matrices de rigidité locales $\\boldsymbol{K^l}$ dans la matrice de rigidité du système $\\boldsymbol{K}$. La fonction d'assemblage a été définie dans l'exercice précédemment. Une simplification de cette fonction dans le cas d'éléments non inclinés est telle que : "
   ]
  },
  {
   "cell_type": "code",
   "execution_count": null,
   "id": "e9bcbdb7",
   "metadata": {},
   "outputs": [],
   "source": [
    "def AssemblerMatriceRigidite_ex2(ki, nb_elem, nb_ddl, conn):\n",
    "    K = np.zeros((nb_ddl, nb_ddl))\n",
    "    for e in range(nb_elem):\n",
    "        Kl = CalculerMatriceRigiditeLocale_ex2(ki)\n",
    "        idx = conn[e, :]\n",
    "        for i, gi in enumerate(idx):\n",
    "            for j, gj in enumerate(idx):\n",
    "                K[gi, gj] += Kl[i, j]\n",
    "    return K\n"
   ]
  },
  {
   "cell_type": "markdown",
   "id": "f7586d84",
   "metadata": {},
   "source": [
    "Vérifiez que la matrice de rigidité assemblée correspondent à celle prédite analytiquement lors de l’exercice 3.4 de la série 1 avec $k_i$=4."
   ]
  },
  {
   "cell_type": "code",
   "execution_count": null,
   "id": "41732ead",
   "metadata": {},
   "outputs": [],
   "source": [
    "# Place your answer here"
   ]
  },
  {
   "cell_type": "markdown",
   "id": "52df9c6b",
   "metadata": {},
   "source": [
    "4. Appliquez les conditions limites du système $u_4$ = $u_5$ = 0 et résolvez numériquement le système pour $k_i$ = 4, $F_1$ = 12, $F_2$ = 0 et $F_3$ = −9."
   ]
  },
  {
   "cell_type": "code",
   "execution_count": null,
   "id": "47e85786",
   "metadata": {},
   "outputs": [],
   "source": [
    "# Place your answer here"
   ]
  },
  {
   "cell_type": "markdown",
   "id": "7556e5b7",
   "metadata": {},
   "source": [
    "## Exercice 3 : Modélisation d'une structure en treillis\n",
    "\n",
    "Pour cette exercice, nous souhaitons étudier la déformation d’un pont ferroviaire en treillis à l’aide du code développé dans l’exercice 1. "
   ]
  },
  {
   "cell_type": "code",
   "execution_count": null,
   "id": "b85f00d7",
   "metadata": {},
   "outputs": [],
   "source": [
    "Image(filename = './Figures/exercice1.png',  width=400, height=400)"
   ]
  },
  {
   "cell_type": "markdown",
   "id": "11228a00",
   "metadata": {},
   "source": [
    "avec :\n",
    "   - $E$ = 210 GPa \n",
    "   - $A_1$ = 20 000 $mm^2$ \n",
    "   - $A_2$ = 10 000 $mm^2$ \n",
    "   - $f$ = 100 kN"
   ]
  },
  {
   "cell_type": "markdown",
   "id": "048fe45f",
   "metadata": {},
   "source": [
    "On donne la matrice de connectivité et les positions des nœuds définis comme suit :"
   ]
  },
  {
   "cell_type": "code",
   "execution_count": null,
   "id": "3e25c7e2",
   "metadata": {},
   "outputs": [],
   "source": [
    "positions = np.array([\n",
    "    [0, 0],\n",
    "    [4, 0],\n",
    "    [8, 0],\n",
    "    [12, 0],\n",
    "    [16, 0],\n",
    "    [20, 0],\n",
    "    [24, 0],\n",
    "    [4, 6],\n",
    "    [8, 6],\n",
    "    [16, 6],\n",
    "    [20, 6]\n",
    "])\n",
    "\n",
    "conn = np.array([\n",
    "    [0, 1],\n",
    "    [1, 2],\n",
    "    [2, 3],\n",
    "    [3, 4],\n",
    "    [4, 5],\n",
    "    [5, 6],\n",
    "    [0, 7],\n",
    "    [7, 8],\n",
    "    [8, 9],\n",
    "    [9, 10],\n",
    "    [10, 6],\n",
    "    [1, 7],\n",
    "    [2, 8],\n",
    "    [4, 9],\n",
    "    [5, 10],\n",
    "    [2, 7],\n",
    "    [3, 8],\n",
    "    [3, 9],\n",
    "    [4, 10],\n",
    "])"
   ]
  },
  {
   "cell_type": "markdown",
   "id": "4c7479b6",
   "metadata": {},
   "source": [
    "1. Cette structure est discrétisée à l’aide d’éléments barres dont la rigidité hors plan est supposée nulle. Écrire l’expression de la matrice de rigidité locale pour l’élément barre présenté à la figure suivante :"
   ]
  },
  {
   "cell_type": "code",
   "execution_count": null,
   "id": "6b7a7c51",
   "metadata": {},
   "outputs": [],
   "source": [
    "Image(filename = './Figures/exercice1_q1.png',  width=300, height=300)"
   ]
  },
  {
   "cell_type": "markdown",
   "id": "ae9d4241",
   "metadata": {},
   "source": [
    "---\n",
    "\n",
    " **Place your answer here** \n",
    "\n",
    " ---\n",
    "\n"
   ]
  },
  {
   "cell_type": "markdown",
   "id": "131b5b0e",
   "metadata": {},
   "source": [
    "2. Construisez une fonction calculant la matrice de numérotation par élément $E_{qe}$ à partir de la matrice de connectivité prenannt en entrée :\n",
    "    - la matrice de connectivité ;\n",
    "    - le nombre d'éléments ;\n",
    "    - le nombre de ddl ;\n",
    "    - le nombre de nœuds par élément ;\n",
    "    - le nombre de ddl par nœuds.\n",
    "    \n",
    "Vérifiez le résultat obtenu."
   ]
  },
  {
   "cell_type": "code",
   "execution_count": null,
   "id": "5acb6471",
   "metadata": {},
   "outputs": [],
   "source": [
    "# Place your answer here"
   ]
  },
  {
   "cell_type": "markdown",
   "id": "63105d8a",
   "metadata": {},
   "source": [
    "3. Une fois la matrice de raideur $K$ définie grâce à la fonction _AssemblerMatriceRigidite_, il est possible d'afficher son profil avec le commande :\n",
    "\n",
    "    _mh.ColoredMatrix(K).profile(remove_zeros=True)_\n",
    "   \n",
    "Étant donné que nous nous intéressons pas aux valeurs exactes des coefficients, nous fixons la rigidité de chaque barre arbitrairement à 1. Commenter le profil obtenu."
   ]
  },
  {
   "cell_type": "code",
   "execution_count": null,
   "id": "ad011b19",
   "metadata": {},
   "outputs": [],
   "source": [
    "# Place your answer here"
   ]
  },
  {
   "cell_type": "markdown",
   "id": "e970d6ea",
   "metadata": {},
   "source": [
    "---\n",
    "\n",
    " **Place your answer here** \n",
    "\n",
    " ---\n",
    "\n"
   ]
  },
  {
   "cell_type": "markdown",
   "id": "67dcd630",
   "metadata": {},
   "source": [
    "4. Appliquez les conditions d'appuis et calculez les déplacements ainsi que les forces en chacun des nœuds."
   ]
  },
  {
   "cell_type": "code",
   "execution_count": null,
   "id": "efb2b106",
   "metadata": {},
   "outputs": [],
   "source": [
    "# Place your answer here"
   ]
  },
  {
   "cell_type": "code",
   "execution_count": null,
   "id": "ebaf33ad",
   "metadata": {},
   "outputs": [],
   "source": [
    "# Place your answer here"
   ]
  },
  {
   "cell_type": "code",
   "execution_count": null,
   "id": "773cdaa0",
   "metadata": {},
   "outputs": [],
   "source": []
  }
 ],
 "metadata": {
  "hide_input": false,
  "kernelspec": {
   "display_name": "Python 3 (ipykernel)",
   "language": "python",
   "name": "python3"
  },
  "language_info": {
   "codemirror_mode": {
    "name": "ipython",
    "version": 3
   },
   "file_extension": ".py",
   "mimetype": "text/x-python",
   "name": "python",
   "nbconvert_exporter": "python",
   "pygments_lexer": "ipython3",
   "version": "3.11.2"
  },
  "toc": {
   "base_numbering": 1,
   "nav_menu": {},
   "number_sections": true,
   "sideBar": true,
   "skip_h1_title": false,
   "title_cell": "Table of Contents",
   "title_sidebar": "Contents",
   "toc_cell": false,
   "toc_position": {},
   "toc_section_display": true,
   "toc_window_display": false
  },
  "unianalytics_cell_mapping": [
   [
    "52d5e565",
    "52d5e565"
   ],
   [
    "9b5682b7",
    "9b5682b7"
   ],
   [
    "e99056e6",
    "e99056e6"
   ],
   [
    "a1302620",
    "a1302620"
   ],
   [
    "1b618ad3",
    "1b618ad3"
   ],
   [
    "33d957cf",
    "33d957cf"
   ],
   [
    "0ea4ae29",
    "0ea4ae29"
   ],
   [
    "b33c09e2",
    "b33c09e2"
   ],
   [
    "2e8fc2e1",
    "2e8fc2e1"
   ],
   [
    "5853ba29",
    "5853ba29"
   ],
   [
    "8fa83371",
    "8fa83371"
   ],
   [
    "24a9d74a",
    "24a9d74a"
   ],
   [
    "47bc322a",
    "47bc322a"
   ],
   [
    "4ee5b0df",
    "4ee5b0df"
   ],
   [
    "0e18bcfc",
    "0e18bcfc"
   ],
   [
    "e0b6d095",
    "e0b6d095"
   ],
   [
    "b0c28758",
    "b0c28758"
   ],
   [
    "b12c73e7",
    "b12c73e7"
   ],
   [
    "86e3d465",
    "86e3d465"
   ],
   [
    "6707cacb",
    "6707cacb"
   ],
   [
    "ffd4f3ee",
    "ffd4f3ee"
   ],
   [
    "a0815daf",
    "a0815daf"
   ],
   [
    "7331866e",
    "7331866e"
   ],
   [
    "d4ba0419",
    "d4ba0419"
   ],
   [
    "31d2969e",
    "31d2969e"
   ],
   [
    "86f7770d",
    "86f7770d"
   ],
   [
    "c4b7dd8a",
    "c4b7dd8a"
   ],
   [
    "02d4a1ea",
    "02d4a1ea"
   ],
   [
    "1059e7fb",
    "1059e7fb"
   ],
   [
    "95c864d0",
    "95c864d0"
   ],
   [
    "d6ac5fe1",
    "d6ac5fe1"
   ],
   [
    "fa53d2be",
    "fa53d2be"
   ],
   [
    "657b9379",
    "657b9379"
   ],
   [
    "29798e30",
    "29798e30"
   ],
   [
    "1b60414d",
    "1b60414d"
   ],
   [
    "609fa42b",
    "609fa42b"
   ],
   [
    "9a50111a",
    "9a50111a"
   ],
   [
    "ec5370e0",
    "ec5370e0"
   ],
   [
    "9ac76a42",
    "9ac76a42"
   ],
   [
    "fd4f61af",
    "fd4f61af"
   ],
   [
    "e9bcbdb7",
    "e9bcbdb7"
   ],
   [
    "f7586d84",
    "f7586d84"
   ],
   [
    "41732ead",
    "41732ead"
   ],
   [
    "52df9c6b",
    "52df9c6b"
   ],
   [
    "47e85786",
    "47e85786"
   ],
   [
    "7556e5b7",
    "7556e5b7"
   ],
   [
    "b85f00d7",
    "b85f00d7"
   ],
   [
    "11228a00",
    "11228a00"
   ],
   [
    "048fe45f",
    "048fe45f"
   ],
   [
    "3e25c7e2",
    "3e25c7e2"
   ],
   [
    "4c7479b6",
    "4c7479b6"
   ],
   [
    "6b7a7c51",
    "6b7a7c51"
   ],
   [
    "ae9d4241",
    "ae9d4241"
   ],
   [
    "131b5b0e",
    "131b5b0e"
   ],
   [
    "5acb6471",
    "5acb6471"
   ],
   [
    "63105d8a",
    "63105d8a"
   ],
   [
    "ad011b19",
    "ad011b19"
   ],
   [
    "e970d6ea",
    "e970d6ea"
   ],
   [
    "67dcd630",
    "67dcd630"
   ],
   [
    "efb2b106",
    "efb2b106"
   ],
   [
    "ebaf33ad",
    "ebaf33ad"
   ],
   [
    "773cdaa0",
    "773cdaa0"
   ]
  ],
  "unianalytics_notebook_id": "997716fb-97a9-4d7a-87d8-afe65f6ac0b6"
 },
 "nbformat": 4,
 "nbformat_minor": 5
}
