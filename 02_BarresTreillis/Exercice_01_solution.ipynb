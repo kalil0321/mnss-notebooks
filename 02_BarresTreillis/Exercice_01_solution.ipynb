{
 "cells": [
  {
   "cell_type": "markdown",
   "metadata": {},
   "source": [
    "<div style=\"border:1px solid black; padding:10px 10px;\">\n",
    "    <strong>CIVIL-321 \"Modélisation Numérique des Solides et Structures\"</strong><br/><br/>\n",
    "    <span style=\"text-decoration:underline;font-weight:bold;\">Comment utiliser ce Jupyter Notebook?\n",
    "    </span><br/><br/>\n",
    "    Ce <strong>Notebook</strong> est constitué de cellules de texte et de cellule de code. Les cellules de codes doivent être  <strong>executées</strong> pour voir le résultat du programme. Certaines cellules doivent être remplies par vos soins. Pour exécuter une cellule, cliquez dessus simplement et ensuite cliquez sur le bouton \"play\" (<span style=\"font: bold 12px/30px Arial, serif;\">&#9658;</span>) dans la barre de menu au dessus du notebook. Vous pouvez aussi taper la combinaison de touches <code>shift + enter</code>. Il est important d'éxécuter les cellules de code en respectant leur ordre d'arrivée dans le notebook.\n",
    "</div>"
   ]
  },
  {
   "cell_type": "markdown",
   "metadata": {},
   "source": [
    "On vous encourage à poser vos questions et donner votre feedback sur ce notebook sur la plateforme ED Discussion du cours accessible en cliquant sur ce bouton:\n",
    " \n",
    " \n",
    " \n",
    "<div class=\"container\" >\n",
    "        <a href=\"https://edstem.org/eu/courses/409/discussion?category=Exercices\">\n",
    "            <button class=\"btn btn-primary btn-lg\">Ed Discussion</button>\n",
    "        </a>\n",
    "</div>"
   ]
  },
  {
   "cell_type": "markdown",
   "metadata": {},
   "source": [
    "# Série d'exercices : Résolution d'un problème à plusieurs barres"
   ]
  },
  {
   "cell_type": "markdown",
   "metadata": {},
   "source": [
    "## Introduction\n",
    "\n",
    "Cette séance d'exercice se fait exclusivement sur Python. Les concepts utilisés dans le Notebook du cours \"Barres et treillis\" sont censés être maîtrisés. Tout d'abord, importer les modules suivants :"
   ]
  },
  {
   "cell_type": "code",
   "execution_count": null,
   "metadata": {},
   "outputs": [],
   "source": [
    "import numpy as np\n",
    "from plot import *\n",
    "import math as m"
   ]
  },
  {
   "cell_type": "markdown",
   "metadata": {},
   "source": [
    "## Exercice 1 : un exemple complet"
   ]
  },
  {
   "cell_type": "markdown",
   "metadata": {},
   "source": [
    "### Données :\n",
    "\n",
    "- L'aire de la barre 0 et 1 : $A = 6\\times 10^{-4}$ m$^2$\n",
    "- Module d'élasticité des barres 0 et 1 : $E = 210\\times10^6$ [kN/m$^2$]\n",
    "- Force au nœud 0 : $P$ = 1000 [kN] (direction -$y$)"
   ]
  },
  {
   "cell_type": "code",
   "execution_count": null,
   "metadata": {},
   "outputs": [],
   "source": [
    "Image(filename = './Figures/exemple.png',  width=200, height=200)"
   ]
  },
  {
   "cell_type": "markdown",
   "metadata": {},
   "source": [
    "### Objectif"
   ]
  },
  {
   "cell_type": "markdown",
   "metadata": {},
   "source": [
    "On souhaite connaître le déplacement de chacun des nœuds ainsi que les forces agissant sur ces nœuds dans la direction x et y. Dans ce but, nous détaillerons les étapes de résolution."
   ]
  },
  {
   "cell_type": "markdown",
   "metadata": {},
   "source": [
    "#### Étape 1 : Définition des variables du problème\n",
    "\n",
    "Expliciter :\n",
    "- La matrice de position des nœuds : _positions = np.array([...])_\n",
    "- La matrice de connectivité du problème : _conn = np.array([...])_\n",
    "- La matrice de numérotation d'équation par nœud : _eqn_node = np.array([...])_ \n",
    "- La matrice de numérotation d'équation par élément : _eqn_elem = np.array([...])_"
   ]
  },
  {
   "cell_type": "code",
   "execution_count": null,
   "metadata": {},
   "outputs": [],
   "source": [
    "###########\n",
    "# Solution:\n",
    "##########\n",
    "\n",
    "\n",
    "positions = np.array([\n",
    "    [0, 0],\n",
    "    [3, 4],\n",
    "    [0, 4]\n",
    "])\n",
    "\n",
    "conn = np.array([\n",
    "    [0, 1],\n",
    "    [0, 2]\n",
    "])\n",
    "\n",
    "eqn_node = np.array([\n",
    "    [0, 1],\n",
    "    [2, 3],\n",
    "    [4, 5]\n",
    "])\n",
    "\n",
    "eqn_elem = np.array([\n",
    "    [0, 1, 2, 3],\n",
    "    [0, 1, 4, 5]\n",
    "])\n",
    "\n",
    "plot_structure(positions, conn)"
   ]
  },
  {
   "cell_type": "markdown",
   "metadata": {},
   "source": [
    "- Exprimez la rigidité $k_0$ et $k_1$ des barres 0 et 1 respectivement, à partir des propriétés de la barre."
   ]
  },
  {
   "cell_type": "code",
   "execution_count": null,
   "metadata": {},
   "outputs": [],
   "source": [
    "###########\n",
    "# Solution:\n",
    "##########\n",
    "\n",
    "\n",
    "E = 210e6 # kN/m^2\n",
    "A = 6e-4  # m^2\n",
    "\n",
    "x0 = positions[0, 0]\n",
    "x1 = positions[1, 0]\n",
    "x2 = positions[2, 0]\n",
    "\n",
    "y0 = positions[0, 1]\n",
    "y1 = positions[1, 1]\n",
    "y2 = positions[2, 1]\n",
    "\n",
    "L0 = np.sqrt((x1-x0)**2+(y1-y0)**2)\n",
    "L1 = np.sqrt((x2-x0)**2+(y2-y0)**2)\n",
    "\n",
    "k0 = E*A/L0\n",
    "k1 = E*A/L1"
   ]
  },
  {
   "cell_type": "markdown",
   "metadata": {},
   "source": [
    "- Définissez le vecteur de rigidité $k_{vec}$ = [$k_0$, $k_1$, etc] contenant les rigidités des barres."
   ]
  },
  {
   "cell_type": "code",
   "execution_count": null,
   "metadata": {},
   "outputs": [],
   "source": [
    "###########\n",
    "# Solution:\n",
    "##########\n",
    "\n",
    "\n",
    "k_vec = [k0, k1]"
   ]
  },
  {
   "cell_type": "markdown",
   "metadata": {},
   "source": [
    "- Écrire une fonction calculant la matrice de raideur locale $K_{l}$ d'une barre, en prenant comme entrée la rigidité de la barre $k$. Attention, par rapport à la semaine dernière, nous considérons désormais un espace à deux dimensions, chaque noeud a donc 2 degrés de liberté."
   ]
  },
  {
   "cell_type": "code",
   "execution_count": null,
   "metadata": {},
   "outputs": [],
   "source": [
    "###########\n",
    "# Solution:\n",
    "##########\n",
    "\n",
    "\n",
    "def CalculerMatriceRigiditeLocale(k):\n",
    "    \n",
    "    Kl = k*Matrix([[1, 0, -1, 0],\n",
    "                   [0, 0, 0, 0],\n",
    "                   [- 1, 0, 1, 0],\n",
    "                   [0, 0, 0, 0]])\n",
    "    \n",
    "    return(Kl)"
   ]
  },
  {
   "cell_type": "markdown",
   "metadata": {},
   "source": [
    "- Expliciter cette matrice pour les barres 0 et 1."
   ]
  },
  {
   "cell_type": "code",
   "execution_count": null,
   "metadata": {},
   "outputs": [],
   "source": [
    "###########\n",
    "# Solution:\n",
    "##########\n",
    "\n",
    "\n",
    "Kl0 = CalculerMatriceRigiditeLocale(k0)\n",
    "plot_matrix(Kl0, 'Kl0')\n",
    "\n",
    "Kl1 = CalculerMatriceRigiditeLocale(k1)\n",
    "plot_matrix(Kl1, 'Kl1')"
   ]
  },
  {
   "cell_type": "markdown",
   "metadata": {},
   "source": [
    "- Écrire une fonction permettant de calculer la matrice de rotation $\\boldsymbol{R}$, connaissant la position des nœuds, la matrice de connectivité ainsi que l'élément e considéré. \n",
    "\n",
    "    Pour rappel :\n",
    "$\\boldsymbol{R} = \\begin{bmatrix} \n",
    "\\boldsymbol{r} & 0 \\\\\n",
    "0 & \\boldsymbol{r}\n",
    "\\end{bmatrix}$ et  $\\boldsymbol{r} =\\frac{1}{l} \\begin{bmatrix} \n",
    "x_1 - x_0 & -(y_1-y_0) \\\\\n",
    "y_1-y_0 & x_1 - x_0\n",
    "\\end{bmatrix}\n",
    "$\n",
    "où $l = \\sqrt{(x_1 - x_0)^2 + (y_1 - y_0)^2}.$"
   ]
  },
  {
   "cell_type": "code",
   "execution_count": null,
   "metadata": {},
   "outputs": [],
   "source": [
    "###########\n",
    "# Solution:\n",
    "##########\n",
    "\n",
    "\n",
    "def CalculerMatriceRotation(e, positions, conn):\n",
    "    \n",
    "    n_1 = positions[conn[e, 0], :]\n",
    "    n_2 = positions[conn[e, 1], :]\n",
    "    \n",
    "    barre = n_2 - n_1\n",
    "    \n",
    "    l = np.linalg.norm(barre)\n",
    "    \n",
    "    r = np.array([\n",
    "        [barre[0]/l, -barre[1]/l],\n",
    "        [barre[1]/l, barre[0]/l]\n",
    "    ])\n",
    "    \n",
    "    R = np.zeros((4,4))\n",
    "    R[0:2, 0:2] = r\n",
    "    R[2:, 2:] = r\n",
    "        \n",
    "    return R"
   ]
  },
  {
   "cell_type": "markdown",
   "metadata": {},
   "source": [
    "- Vérifier l'exactitude de votre fonction en l'appliquant pour la barre 0 et 1."
   ]
  },
  {
   "cell_type": "code",
   "execution_count": null,
   "metadata": {},
   "outputs": [],
   "source": [
    "###########\n",
    "# Solution:\n",
    "##########\n",
    "\n",
    "\n",
    "R0 = CalculerMatriceRotation(0, positions, conn)\n",
    "plot_matrix(R0, 'R0')\n",
    "\n",
    "R1 = CalculerMatriceRotation(1, positions, conn)\n",
    "plot_matrix(R1, 'R1')"
   ]
  },
  {
   "cell_type": "markdown",
   "metadata": {},
   "source": [
    "#### Étape 3 : Assemblage de la matrice de rigidité\n",
    "\n",
    "- Écrire une fonction permettant d'assembler les matrices de rigidités locales dans la matrice de rigidité globale en prenant en compte: \n",
    "    - la rigidité des barres (k_vec)\n",
    "    - la positions des nœuds, la matrice de connectivité (conn)\n",
    "    - le nombre d'élément (nb_elem)\n",
    "    - le nombre de degrés de liberté total (nb_ddl) \n",
    "    - la matrice de numérotation par élément (eqn_elem)."
   ]
  },
  {
   "cell_type": "code",
   "execution_count": null,
   "metadata": {},
   "outputs": [],
   "source": [
    "#SolutionToRemove\n",
    "\n",
    "def AssemblerMatriceRigidite(k_vec, positions, conn, nb_elem, nb_ddl_tot, eqn_elem):\n",
    "    K = np.zeros((nb_ddl_tot, nb_ddl_tot))\n",
    "    \n",
    "    for e in range(nb_elem):\n",
    "        # Construction de la matrice de rigidité locale\n",
    "        Kl = calculerMatriceRigiditeLocale(k_vec[e])\n",
    "        # Construction de la matrice de rotation\n",
    "        R = CalculerMatriceRotation(e, positions, conn)\n",
    "        # Rotation de la matrice dans le système global de coordonnée\n",
    "        Klrot = R@Kl@R.T\n",
    "        \n",
    "        # Assemblage dans la matrice de rigidité du système à l'aide des\n",
    "        idx = eqn_elem[e, :]\n",
    "        for i, global_i in enumerate(idx):\n",
    "            for j, global_j in enumerate(idx):\n",
    "                K[global_i, global_j] += Klrot[i, j]\n",
    "    return K\n",
    "\n",
    "# entrer nb_elem et nb_ddl pour ce problème\n",
    "nb_elem = 2\n",
    "nb_ddl_tot = 6\n",
    "\n",
    "K = AssemblerMatriceRigidite(k_vec, positions, conn, nb_elem, nb_ddl_tot, eqn_elem)\n",
    "\n",
    "plot_matrix(K, 'K')"
   ]
  },
  {
   "cell_type": "markdown",
   "metadata": {},
   "source": [
    "- Vérifier que la position des zéros dans la matrice $\\boldsymbol{K}$ est cohérente avec les ddl."
   ]
  },
  {
   "cell_type": "markdown",
   "metadata": {},
   "source": [
    "#### Étape 4 : Conditions aux limites et calcul des réactions\n",
    "\n",
    "- Définir les conditions aux limites (6 conditions) en force et déplacement."
   ]
  },
  {
   "cell_type": "markdown",
   "metadata": {},
   "source": [
    "---\n",
    "\n",
    " **Solution:**\n",
    "\n",
    " ---\n",
    "\n",
    "\n",
    "\n",
    "- $d_{0x} = 0$\n",
    "- $f_{0y} = -P$\n",
    "- $d_{1x} = d_{1y} = 0$\n",
    "- $d_{2x} = d_{2y} = 0$"
   ]
  },
  {
   "cell_type": "markdown",
   "metadata": {},
   "source": [
    "- Calculer le déplacement de la composante restante (non nulle)."
   ]
  },
  {
   "cell_type": "code",
   "execution_count": null,
   "metadata": {},
   "outputs": [],
   "source": [
    "###########\n",
    "# Solution:\n",
    "##########\n",
    "\n",
    "\n",
    "P = 1000\n",
    "\n",
    "d0y = -P/K[1, 1]\n",
    "print(f'd0y = {d0y} m')"
   ]
  },
  {
   "cell_type": "markdown",
   "metadata": {},
   "source": [
    "- Calculer les réactions $\\lbrace f \\rbrace$ grâce à la formule $\\lbrace f \\rbrace$ = $[K] \\lbrace d \\rbrace$."
   ]
  },
  {
   "cell_type": "code",
   "execution_count": null,
   "metadata": {},
   "outputs": [],
   "source": [
    "###########\n",
    "# Solution:\n",
    "##########\n",
    "\n",
    "\n",
    "d = np.array([\n",
    "    [0],\n",
    "    [d0y],\n",
    "    [0],\n",
    "    [0],\n",
    "    [0],\n",
    "    [0]\n",
    "])\n",
    "\n",
    "f = np.dot(K, d)\n",
    "plot_matrix(f, 'f')"
   ]
  },
  {
   "cell_type": "markdown",
   "metadata": {},
   "source": [
    "## Exercice 2 : Assemblage d'un système de ressorts\n",
    "\n",
    "Lors de l’exercice 2 de la série 1, nous avons vu comment résoudre numériquement un système de ressorts assemblés en série. L’objectif de cet exercice est de standardiser le code afin de pouvoir assembler n’importe quelle configuration de ressorts. Cette standardisation est réalisée en définissant une matrice de connectivité. Le rôle de la matrice de connectivité est de lier la numérotation globale des nœuds (sur la structure entière) à la numérotation locale (sur un seul élément).\n",
    "\n",
    "1. Considérons la numérotation locale de la figure suivante correspondant à un ressort de rigidité $k^e$ à deux degrés de liberté $u^e_1$ et $u^e_2$. Écrivez une fonction calculant la matrice de rigidité locale $\\boldsymbol{K^l_{ij}}$ (2x2) pour cet élément ressort."
   ]
  },
  {
   "cell_type": "code",
   "execution_count": null,
   "metadata": {},
   "outputs": [],
   "source": [
    "Image(filename = './Figures/assemblage_ressort.png',  width=300, height=300)"
   ]
  },
  {
   "cell_type": "code",
   "execution_count": null,
   "metadata": {},
   "outputs": [],
   "source": [
    "###########\n",
    "# Solution:\n",
    "##########\n",
    "\n",
    "\n",
    "def CalculerMatriceRigiditeLocale_ex2(k):\n",
    "    \n",
    "    Kl = k*Matrix([[1, -1],\n",
    "                   [-1, 1]])\n",
    "    return(Kl)"
   ]
  },
  {
   "cell_type": "markdown",
   "metadata": {},
   "source": [
    "2. Nous allons à présent modéliser le système de ressorts suivant composé de 4 éléments et de 5 nœuds. Exprimez la matrice de connectivité $\\boldsymbol{C}$ (4x2) du système de la figure suivante :"
   ]
  },
  {
   "cell_type": "code",
   "execution_count": null,
   "metadata": {},
   "outputs": [],
   "source": [
    "Image(filename = './Figures/systeme_ressort.png',  width=500, height=500)"
   ]
  },
  {
   "cell_type": "code",
   "execution_count": null,
   "metadata": {},
   "outputs": [],
   "source": [
    "###########\n",
    "# Solution:\n",
    "##########\n",
    "\n",
    "\n",
    "conn = np.array([\n",
    "    [1, 0],\n",
    "    [3, 1],\n",
    "    [1, 2],\n",
    "    [2, 4]\n",
    "])"
   ]
  },
  {
   "cell_type": "markdown",
   "metadata": {},
   "source": [
    "3. La matrice de connectivité permet ainsi de standardiser l'assemblage de matrices de rigidité locales $\\boldsymbol{K^l}$ dans la matrice de rigidité du système $\\boldsymbol{K}$. La fonction d'assemblage a été définie dans l'exercice précédemment. Une simplification de cette fonction dans le cas d'éléments non inclinés est telle que :"
   ]
  },
  {
   "cell_type": "code",
   "execution_count": null,
   "metadata": {},
   "outputs": [],
   "source": [
    "def AssemblerMatriceRigidite_ex2(ki, nb_elem, nb_ddl, conn):\n",
    "    K = np.zeros((nb_ddl, nb_ddl))\n",
    "    for e in range(nb_elem):\n",
    "        Kl = CalculerMatriceRigiditeLocale_ex2(ki)\n",
    "        idx = conn[e, :]\n",
    "        for i, gi in enumerate(idx):\n",
    "            for j, gj in enumerate(idx):\n",
    "                K[gi, gj] += Kl[i, j]\n",
    "    return K"
   ]
  },
  {
   "cell_type": "markdown",
   "metadata": {},
   "source": [
    "Vérifiez que la matrice de rigidité assemblée correspondent à celle prédite analytiquement lors de l’exercice 3.4 de la série 1 avec $k_i$=4."
   ]
  },
  {
   "cell_type": "code",
   "execution_count": null,
   "metadata": {},
   "outputs": [],
   "source": [
    "###########\n",
    "# Solution:\n",
    "##########\n",
    "\n",
    "\n",
    "# entrer nb_elem et nb_ddl pour ce problème ainsi que la rigidité de chaque ressort ki\n",
    "nb_elem = 4\n",
    "nb_ddl_tot = 5\n",
    "ki = 4\n",
    "\n",
    "K = AssemblerMatriceRigidite_ex2(ki, nb_elem, nb_ddl_tot, conn)\n",
    "plot_matrix(K, 'K')"
   ]
  },
  {
   "cell_type": "markdown",
   "metadata": {},
   "source": [
    "4. Appliquez les conditions limites du système $u_4$ = $u_5$ = 0 et résolvez numériquement le système pour $k_i$ = 4, $F_1$ = 12, $F_2$ = 0 et $F_3$ = −9."
   ]
  },
  {
   "cell_type": "code",
   "execution_count": null,
   "metadata": {},
   "outputs": [],
   "source": [
    "###########\n",
    "# Solution:\n",
    "##########\n",
    "\n",
    "\n",
    "# Application des conditions aux limites\n",
    "    # En force :\n",
    "F = np.zeros((nb_ddl_tot, 1))\n",
    "\n",
    "F[0] = 12\n",
    "F[1] = 0\n",
    "F[2] = -9\n",
    "\n",
    "    # En déplacement :\n",
    "u3 = 0 # ddl 3\n",
    "u4 = 0 # ddl 4\n",
    "\n",
    "    # ddl libres :\n",
    "ddl_libres = [i for i in range(0, nb_ddl_tot)]\n",
    "ddl_libres.remove(3)\n",
    "ddl_libres.remove(4)\n",
    "\n",
    "# Résolution du système\n",
    "K_libre = K[ddl_libres, :][:, ddl_libres]\n",
    "F_libre = F[ddl_libres]\n",
    "u_libre = np.linalg.solve(K_libre, F_libre)\n",
    "\n",
    "# Solution \n",
    "u = np.zeros((nb_ddl_tot, 1))\n",
    "u[ddl_libres] = u_libre\n",
    "plot_matrix(u, 'u')\n",
    "\n",
    "F = K@u\n",
    "plot_matrix(F, 'F')"
   ]
  },
  {
   "cell_type": "markdown",
   "metadata": {},
   "source": [
    "## Exercice 3 : Modélisation d'une structure en treillis\n",
    "\n",
    "Pour cette exercice, nous souhaitons étudier la déformation d’un pont ferroviaire en treillis à l’aide du code développé dans l’exercice 1."
   ]
  },
  {
   "cell_type": "code",
   "execution_count": null,
   "metadata": {},
   "outputs": [],
   "source": [
    "Image(filename = './Figures/exercice1.png',  width=400, height=400)"
   ]
  },
  {
   "cell_type": "markdown",
   "metadata": {},
   "source": [
    "avec :\n",
    "   - $E$ = 210 GPa \n",
    "   - $A_1$ = 20 000 $mm^2$ \n",
    "   - $A_2$ = 10 000 $mm^2$ \n",
    "   - $f$ = 100 kN"
   ]
  },
  {
   "cell_type": "markdown",
   "metadata": {},
   "source": [
    "On donne la matrice de connectivité et les positions des nœuds définis comme suit :"
   ]
  },
  {
   "cell_type": "code",
   "execution_count": null,
   "metadata": {},
   "outputs": [],
   "source": [
    "positions = np.array([\n",
    "    [0, 0],\n",
    "    [4, 0],\n",
    "    [8, 0],\n",
    "    [12, 0],\n",
    "    [16, 0],\n",
    "    [20, 0],\n",
    "    [24, 0],\n",
    "    [4, 6],\n",
    "    [8, 6],\n",
    "    [16, 6],\n",
    "    [20, 6]\n",
    "])\n",
    "\n",
    "conn = np.array([\n",
    "    [0, 1],\n",
    "    [1, 2],\n",
    "    [2, 3],\n",
    "    [3, 4],\n",
    "    [4, 5],\n",
    "    [5, 6],\n",
    "    [0, 7],\n",
    "    [7, 8],\n",
    "    [8, 9],\n",
    "    [9, 10],\n",
    "    [10, 6],\n",
    "    [1, 7],\n",
    "    [2, 8],\n",
    "    [4, 9],\n",
    "    [5, 10],\n",
    "    [2, 7],\n",
    "    [3, 8],\n",
    "    [3, 9],\n",
    "    [4, 10],\n",
    "])"
   ]
  },
  {
   "cell_type": "markdown",
   "metadata": {},
   "source": [
    "1. Cette structure est discrétisée à l’aide d’éléments barres dont la rigidité hors plan est supposée nulle. Écrire l’expression de la matrice de rigidité locale pour l’élément barre présenté à la figure suivante :"
   ]
  },
  {
   "cell_type": "code",
   "execution_count": null,
   "metadata": {},
   "outputs": [],
   "source": [
    "Image(filename = './Figures/exercice1_q1.png',  width=300, height=300)"
   ]
  },
  {
   "cell_type": "markdown",
   "metadata": {},
   "source": [
    "---\n",
    "\n",
    " **Solution:**\n",
    "\n",
    " ---\n",
    "\n",
    "\n",
    "\n",
    "Dans une barre, les déplacements hors plan n’ont aucune rigidité associée et la matrice de rigidité\n",
    "s’écrit donc : \n",
    "    \n",
    "$\\begin{equation} \\boldsymbol{K^l} = \\frac{EA}{l}\n",
    "   \\left[\\begin{array}{cccc}\n",
    "     1  & 0  & -1  & 0  \\\\\n",
    "     0  & 0  &  0  & 0 \\\\\n",
    "    -1  & 0  &  1  & 0  \\\\\n",
    "     0  & 0  &  0  & 0  \n",
    "   \\end{array}\\right].\n",
    "   \\end{equation}$"
   ]
  },
  {
   "cell_type": "markdown",
   "metadata": {},
   "source": [
    "2. Construisez une fonction calculant la matrice de numérotation par élément $E_{qe}$ à partir de la matrice de connectivité prenannt en entrée :\n",
    "    - la matrice de connectivité ;\n",
    "    - le nombre d'éléments ;\n",
    "    - le nombre de ddl ;\n",
    "    - le nombre de nœuds par élément ;\n",
    "    - le nombre de ddl par nœuds.\n",
    "    \n",
    "Vérifiez le résultat obtenu."
   ]
  },
  {
   "cell_type": "code",
   "execution_count": null,
   "metadata": {},
   "outputs": [],
   "source": [
    "###########\n",
    "# Solution:\n",
    "##########\n",
    "\n",
    "\n",
    "def precalculerNumeroEquation(conn, nb_elem, nb_ddl, nb_noeuds_p_elem, nb_ddl_p_noeuds):\n",
    "    eqn_elem = np.zeros((nb_elem, nb_ddl), dtype=int)\n",
    "    for e in range(nb_elem):\n",
    "        for n in range(nb_noeuds_p_elem):\n",
    "            for d in range(nb_ddl_p_noeuds):\n",
    "                eqn_elem[e, n*nb_ddl_p_noeuds+d]=conn[e,n]*nb_ddl_p_noeuds+d\n",
    "    return eqn_elem\n",
    "\n",
    "# application\n",
    "\n",
    "nb_elem = len(conn)\n",
    "nb_nodes = len(positions)\n",
    "nb_ddl = 4\n",
    "nb_noeuds_p_elem = 2\n",
    "nb_ddl_p_noeuds = 2\n",
    "\n",
    "eqn_elem = precalculerNumeroEquation(conn, nb_elem, nb_ddl, nb_noeuds_p_elem, nb_ddl_p_noeuds)\n",
    "plot_matrix(eqn_elem, 'Eqe')"
   ]
  },
  {
   "cell_type": "markdown",
   "metadata": {},
   "source": [
    "3. Une fois la matrice de raideur $K$ définie grâce à la fonction _AssemblerMatriceRigidite_, il est possible d'afficher son profil avec le commande :\n",
    "\n",
    "    _mh.ColoredMatrix(K).profile(remove_zeros=True)_\n",
    "   \n",
    "Étant donné que nous nous intéressons pas aux valeurs exactes des coefficients, nous fixons la rigidité de chaque barre arbitrairement à 1. Commenter le profil obtenu."
   ]
  },
  {
   "cell_type": "code",
   "execution_count": null,
   "metadata": {},
   "outputs": [],
   "source": [
    "###########\n",
    "# Solution:\n",
    "##########\n",
    "\n",
    "\n",
    "nb_elem = len(conn)\n",
    "\n",
    "nb_nodes = len(positions)\n",
    "nb_ddl_tot = 2*nb_nodes\n",
    "\n",
    "E = 210*10**9\n",
    "\n",
    "k_vec = np.zeros(nb_elem)\n",
    "for i in range(nb_elem):\n",
    "    k_vec[i] = 1\n",
    "\n",
    "K = AssemblerMatriceRigidite(k_vec, positions, conn, nb_elem, nb_ddl_tot, eqn_elem)\n",
    "mh.ColoredMatrix(K).profile(remove_zeros=True)"
   ]
  },
  {
   "cell_type": "markdown",
   "metadata": {},
   "source": [
    "---\n",
    "\n",
    " **Solution:**\n",
    "\n",
    " ---\n",
    "\n",
    "\n",
    "\n",
    "Dans la plupart des modèles éléments finis, les éléments sont uniquement connectés à leur voisins géométriques proches et la matrice de rigidité est donc éparse (peu de coefficients non-nuls)."
   ]
  },
  {
   "cell_type": "markdown",
   "metadata": {},
   "source": [
    "4. Appliquez les conditions d'appuis et calculez les déplacements ainsi que les forces en chacun des nœuds."
   ]
  },
  {
   "cell_type": "code",
   "execution_count": null,
   "metadata": {},
   "outputs": [],
   "source": [
    "###########\n",
    "# Solution:\n",
    "##########\n",
    "\n",
    "\n",
    "# Données :\n",
    "A1 = 20*10**(-3)\n",
    "A2 = 10*10**(-3)\n",
    "E = 210*10**9\n",
    "f = 100*10**3\n",
    "\n",
    "# Vecteur de rigidité \n",
    "k_vec = []\n",
    "for e in range(0, nb_elem):\n",
    "    n_1 = positions[conn[e, 0], :]\n",
    "    n_2 = positions[conn[e, 1], :]\n",
    "    barre = n_2 - n_1\n",
    "    l = np.linalg.norm(barre)\n",
    "    \n",
    "    if e < 11 :\n",
    "        k_vec.append(E*A1/l)\n",
    "    else :\n",
    "        k_vec.append(E*A2/l)\n",
    "\n",
    "# Matrice de raideur\n",
    "K = AssemblerMatriceRigidite(k_vec, positions, conn, nb_elem, nb_ddl_tot, eqn_elem)\n",
    "\n",
    "# Application des conditions aux limites\n",
    "    # En force :\n",
    "F = np.zeros((nb_ddl_tot, 1))\n",
    "\n",
    "nb_ddl_p_noeuds = 2\n",
    "F[1*nb_ddl_p_noeuds+1] = -f    \n",
    "F[2*nb_ddl_p_noeuds+1] = -f    \n",
    "F[3*nb_ddl_p_noeuds+1] = -f    \n",
    "F[4*nb_ddl_p_noeuds+1] = -f    \n",
    "F[5*nb_ddl_p_noeuds+1] = -f   \n",
    "\n",
    "    # En déplacement :\n",
    "u0x = 0 # ddl 0\n",
    "u0y = 0 # ddl 1\n",
    "u6y = 0 # ddl 13\n",
    "\n",
    "    # ddl libres :\n",
    "ddl_libres = [i for i in range(0, nb_ddl_tot)]\n",
    "ddl_libres.remove(0)\n",
    "ddl_libres.remove(1)\n",
    "ddl_libres.remove(13)\n",
    "\n",
    "# Résolution du système\n",
    "K_libre = K[ddl_libres, :][:, ddl_libres]\n",
    "F_libre = F[ddl_libres]\n",
    "u_libre = np.linalg.solve(K_libre, F_libre)\n",
    "\n",
    "# Solution \n",
    "u = np.zeros((nb_ddl_tot, 1))\n",
    "u[ddl_libres] = u_libre\n",
    "plot_matrix(u, 'u')\n",
    "\n",
    "F = K@u\n",
    "plot_matrix(F, 'F')"
   ]
  },
  {
   "cell_type": "code",
   "execution_count": null,
   "metadata": {},
   "outputs": [],
   "source": [
    "###########\n",
    "# Solution:\n",
    "##########\n",
    "\n",
    "\n",
    "# Déformation de la structure amplifiée 500 fois.\n",
    "\n",
    "plt.rcParams['figure.figsize'] = [10, 10]\n",
    "fig, ax = plt.subplots()\n",
    "ret = plot_structure(positions, conn, show_elem_indexes=False, show_nodes=False, linestyle='--', ax=ax)\n",
    "ret = plot_structure(positions+500*u.reshape(11, 2), conn, show_elem_indexes=False, ax=ax)"
   ]
  },
  {
   "cell_type": "code",
   "execution_count": null,
   "metadata": {},
   "outputs": [],
   "source": []
  }
 ],
 "metadata": {
  "hide_input": false,
  "kernelspec": {
   "display_name": "Python 3 (ipykernel)",
   "language": "python",
   "name": "python3"
  },
  "language_info": {
   "codemirror_mode": {
    "name": "ipython",
    "version": 3
   },
   "file_extension": ".py",
   "mimetype": "text/x-python",
   "name": "python",
   "nbconvert_exporter": "python",
   "pygments_lexer": "ipython3"
  },
  "toc": {
   "base_numbering": 1,
   "nav_menu": {},
   "number_sections": true,
   "sideBar": true,
   "skip_h1_title": false,
   "title_cell": "Table of Contents",
   "title_sidebar": "Contents",
   "toc_cell": false,
   "toc_position": {},
   "toc_section_display": true,
   "toc_window_display": false
  }
 },
 "nbformat": 4,
 "nbformat_minor": 4
}
