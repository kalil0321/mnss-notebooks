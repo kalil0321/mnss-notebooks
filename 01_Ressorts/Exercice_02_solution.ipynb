{
 "cells": [
  {
   "cell_type": "markdown",
   "id": "29a3860d",
   "metadata": {},
   "source": [
    "<div style=\"border:1px solid black; padding:10px 10px;\">\n",
    "    <strong>CIVIL-321 \"Modélisation Numérique des Solides et Structures\"</strong><br/><br/>\n",
    "    <span style=\"text-decoration:underline;font-weight:bold;\">Comment utiliser ce Jupyter Notebook?\n",
    "    </span><br/><br/>\n",
    "    Ce <strong>Notebook</strong> est constitué de cellules de texte et de cellule de code. Les cellules de codes doivent être  <strong>executées</strong> pour voir le résultat du programme. Certaines cellules doivent être remplies par vos soins. Pour exécuter une cellule, cliquez dessus simplement et ensuite cliquez sur le bouton \"play\" (<span style=\"font: bold 12px/30px Arial, serif;\">&#9658;</span>) dans la barre de menu au dessus du notebook. Vous pouvez aussi taper la combinaison de touches <code>shift + enter</code>. Il est important d'éxécuter les cellules de code en respectant leur ordre d'arrivée dans le notebook.\n",
    "</div>"
   ]
  },
  {
   "cell_type": "markdown",
   "id": "9ae7632b",
   "metadata": {},
   "source": [
    "On vous encourage à poser vos questions et donner votre feedback sur ce notebook sur la plateforme ED Discussion du cours accessible en cliquant sur ce bouton:\n",
    " \n",
    " \n",
    " \n",
    "<div class=\"container\" >\n",
    "        <a href=\"https://edstem.org/eu/courses/409/discussion?category=Exercices\">\n",
    "            <button class=\"btn btn-primary btn-lg\">Ed Discussion</button>\n",
    "        </a>\n",
    "</div>"
   ]
  },
  {
   "cell_type": "code",
   "execution_count": null,
   "id": "aed7f5ba",
   "metadata": {},
   "outputs": [],
   "source": [
    "from plot import *"
   ]
  },
  {
   "cell_type": "markdown",
   "id": "4829a872",
   "metadata": {},
   "source": [
    "# Série d'exercices : Minimization de l'énergie potentielle"
   ]
  },
  {
   "cell_type": "markdown",
   "id": "6d0b4349",
   "metadata": {},
   "source": [
    "Considérons le barreau uni-dimensionnel élastique linéaire de la figure ci dessous. Les efforts volumiques sont négligés. Le barreau est modélisé avec un élément à trois noeuds.\n",
    "\n",
    "![](Figures/ex4.svg)\n",
    "\n",
    "Supposons une évolution polynomiale du champ de déplacement~$u$ sous la forme suivante:\n",
    "  \n",
    "$$u^h(x) = a_1 + a_2 x + a_3 x^2$$"
   ]
  },
  {
   "cell_type": "markdown",
   "id": "a4c6dcaa",
   "metadata": {},
   "source": [
    "1. Quelles sont les conditions sur $a_1$, $a_2$ et $a_3$ pour que $u^h$ satisfasse les conditions limites?"
   ]
  },
  {
   "cell_type": "markdown",
   "id": "0b8a6eff",
   "metadata": {},
   "source": [
    "---\n",
    "\n",
    " **Solution:**\n",
    "\n",
    " ---\n",
    "\n",
    "\n",
    "\n",
    "Déterminons les constantes de ce polynôme à partir des conditions aux limites.\n",
    "\n",
    "$$    \\begin{align*}\n",
    "      u^h(x=0) = 0 &\\Rightarrow a_1 = 0 \\\\\n",
    "      u^h(x=L) = 0 &\\Rightarrow a_2 = - 2 a_3\n",
    "    \\end{align*}\n",
    "$$"
   ]
  },
  {
   "cell_type": "markdown",
   "id": "ec3d13c0",
   "metadata": {},
   "source": [
    "2. Écrire l'énergie potentielle totale du système en fonction de $a_1$, $a_2$ et $a_3$. Rappel de l'expression de l'énergie potentielle pour une barre:\n",
    "    \n",
    "    $$\\Pi = \\frac{1}{2}\\int_0^L{EA\\left(\\frac{\\text{d}u}{\\text{d}x}\\right)^2\\,\\text{d}x} - Fu\\left(\\frac{L}{2}\\right)$$"
   ]
  },
  {
   "cell_type": "markdown",
   "id": "8fe197f1",
   "metadata": {},
   "source": [
    "---\n",
    "\n",
    " **Solution:**\n",
    "\n",
    " ---\n",
    "\n",
    "\n",
    "\n",
    "L'approximation polynomiale peut donc être exprimées seulement en\n",
    "    fonction de la constante~$a_3$ :\n",
    "\n",
    "$$\\begin{equation*}\n",
    "u^h = a_3 \\left( -2x + x^2 \\right).\n",
    "\\end{equation*}$$\n",
    "\n",
    "On peut interpréter~$a_3$ comme le déplacement en $x=L/2$ : $u^h(x=L/2) = u_{L/2} = -a_3$\n",
    "\n",
    "On peut alors exprimer la dérivée du déplacement approchée $u^h(x)$\n",
    "en fonction de l'abscisse~$x$,\n",
    "\n",
    "$$\\begin{equation*}\n",
    "\\frac{du^h}{dx} = 2 a_3 \\left( -1 + x \\right).\n",
    "\\end{equation*}$$\n",
    "\n",
    "En injectant cette expression dans l'énergie potentielle totale\n",
    "définie précédemment, on obtient un polynôme en $a_3$\n",
    "\n",
    "$$\\begin{equation*}\n",
    "\\Pi = \\frac{1}{2} \\int_0^2 4 {a_3}^2 \\left( -1 + x\\right)^2 dx + 2 a_3 = \\frac{4 {a_3}^2}{3} + 2 a_3\n",
    "\\end{equation*}$$"
   ]
  },
  {
   "cell_type": "markdown",
   "id": "fffae008",
   "metadata": {},
   "source": [
    "3. Déterminer $u^h(x)$ qui minimise l'énergie potentielle totale du système (trouver les valeurs des constantes $a_i$)."
   ]
  },
  {
   "cell_type": "markdown",
   "id": "faaa27e8",
   "metadata": {},
   "source": [
    "---\n",
    "\n",
    " **Solution:**\n",
    "\n",
    " ---\n",
    "\n",
    "\n",
    "\n",
    "La valeur de la constante $a_3$ peut être obtenue par la minimisation de cette expression\n",
    "\n",
    "$$\\begin{equation*}\n",
    "\\frac{\\partial \\Pi}{\\partial a_3} = \\frac{8 a_3}{3} + 2 = 0\n",
    "\\end{equation*}$$\n",
    "\n",
    "Le déplacement approché $u_h$ est donc de la forme\n",
    "\n",
    "$$\\begin{equation*}\n",
    "u^h = \\frac{3}{4} \\left( 2x - x^2 \\right).\n",
    "\\end{equation*}$$\n",
    "\n",
    "On peut en déduire l'expression de la contrainte dans la barre en\n",
    "utilisant\n",
    "\n",
    "$$\\begin{equation*}\n",
    "\\sigma^h = E\\frac{du^h}{dx} = \\frac{3}{2} \\left( 1 - x \\right).\n",
    "\\end{equation*}$$"
   ]
  },
  {
   "cell_type": "markdown",
   "id": "4244e976",
   "metadata": {},
   "source": [
    "4. Déterminer la solution exacte et la comparer à la solution polynomiale approchée."
   ]
  },
  {
   "cell_type": "markdown",
   "id": "cd4aeab2",
   "metadata": {},
   "source": [
    "---\n",
    "\n",
    " **Solution:**\n",
    "\n",
    " ---\n",
    "\n",
    "\n",
    "\n",
    "Le diagramme des efforts normaux dans la barre est présenté ci-dessous:\n",
    "\n",
    "![](Figures/ex4-1.svg)\n",
    "\n",
    "Le déplacement exact s'écrit:\n",
    "\n",
    "$$\\begin{equation*}\n",
    "u(x) = \\int\\frac{N(x)}{EA}\\,\\text{d}x\n",
    "\\end{equation*}$$\n",
    "\n",
    "$$u(x) =\n",
    "  \\begin{cases}\n",
    "    \\int 1\\,\\text{d}x = x + C_1 &\\quad 0 \\le x \\le 1\\\\\n",
    "    \\int -1\\,\\text{d}x = -x + C_2 &\\quad 1 \\le x \\le 2\n",
    "  \\end{cases}\n",
    "$$\n",
    "\n",
    "On utilise les conditions limites pour trouver les constantes $C_1$ et $C_2$:\n",
    "\n",
    "$$\\begin{eqnarray*}\n",
    "    u(0) = 0 & \\Rightarrow & C_1 = 0\\\\\n",
    "    u(2) = 0 & \\Rightarrow & C_2 = 2\n",
    "  \\end{eqnarray*}$$\n",
    "  \n",
    "La comparaison avec les solutions exactes est représentée sur les courbes ci-dessous:\n",
    "\n",
    "![](Figures/ex4-2.svg) ![](Figures/ex4-3.svg)"
   ]
  },
  {
   "cell_type": "markdown",
   "id": "0a2c56c5",
   "metadata": {},
   "source": [
    "Discrétisons le domaine en deux parties égales (compatibles avec le chargement), et utilisons l'approximation polynomiale par morceaux définie comme suit (le barreau est maintenant modélisé avec deux éléments qui ont chacun deux noeuds). Notez que le champ $u^h$ doit être continu à $x = \\frac{L}{2}$.\n",
    "\n",
    "$$u^h(x) =\n",
    "  \\begin{cases}\n",
    "    a_1 + a_2 x  \\quad 0 \\le x \\le L/2\\\\\n",
    "    a_3 + a_4 x  \\quad L/2 \\le x \\le L\n",
    "  \\end{cases}\n",
    "$$\n",
    "\n",
    "5. Identifier les valeurs de $a_1$, $a_2$, $a_3$ et $a_4$ qui minimisent l'énergie potentielle, satisfont les conditions limites et la condition de continuité, puis comparer avec la solution exacte."
   ]
  },
  {
   "cell_type": "markdown",
   "id": "a7fd4d4d",
   "metadata": {},
   "source": [
    "---\n",
    "\n",
    " **Solution:**\n",
    "\n",
    " ---\n",
    "\n",
    "\n",
    "\n",
    "Appliquons la même démarche. D'abord, identifions les constantes à\n",
    "partir des conditions aux limites\n",
    "\n",
    "$$\\begin{align*}\n",
    "      u^h(x=0) = 0 &\\Rightarrow a_1 = 0 \\\\\n",
    "      u^h(x=L) = 0 &\\Rightarrow a_3 = -2 a_4 \\\\\n",
    "      u^h(x=L/2) = u_{L/2} &\\Rightarrow u_{L/2} = a_1 + a_2 = a_2 \\\\\n",
    "      &\\Rightarrow u_{L/2} = a_3 + a_4 = -a_4\n",
    "\\end{align*}$$\n",
    "\n",
    "À partir des ces trois équations, le polynôme peut être écrit en\n",
    "fonction d'une inconnue. Nous pouvons par exemple choisir de\n",
    "l'écrire en fonction de~$a_4$\n",
    "\n",
    "$$\\begin{align*}\n",
    "      u^h(x) = \\left\\{\n",
    "      \\begin{array}{lr}\n",
    "        -a_4 x  &: 0 \\le x \\le L/2\\\\\n",
    "        -2 a_4 + a_4 x &: L/2 \\le x \\le L\n",
    "      \\end{array}\n",
    "      \\right.\n",
    "    \\end{align*}$$\n",
    "    \n",
    "La dérivée sera de la forme\n",
    "\n",
    "$$\\begin{align*}\n",
    "      \\frac{du^h(x)}{dx} = \\left\\{\n",
    "      \\begin{array}{lr}\n",
    "        -a_4 &: 0 \\le x < L/2\\\\\n",
    "        a_4  &: L/2 < x \\le L\n",
    "      \\end{array}\n",
    "      \\right.\n",
    "    \\end{align*}$$\n",
    "    \n",
    "L'énergie potentielle est donc\n",
    "\n",
    "$$\\begin{equation*}\n",
    "      \\Pi = \\frac{1}{2} \\left[ \\int_0^1 {a_4}^2  dx +\n",
    "        \\int_1^2 {a_4}^2 dx \\right] + 2 a_4 = {a_4}^2 + 2 a_4.\n",
    "    \\end{equation*}$$\n",
    "\n",
    "On peut identifier $a_4$ en minimisant cette énergie potentielle totale:\n",
    "\n",
    "$$\\begin{equation*}\n",
    "      \\frac{\\partial \\Pi}{\\partial a_4} = 2a_4 + 2 = 0 \\Rightarrow a_4 = -1\n",
    "    \\end{equation*}$$\n",
    "\n",
    "Ce qui nous donne\n",
    "\n",
    "$$\\begin{align*}\n",
    "        u^h(x) = \\left\\{\n",
    "        \\begin{array}{lr}\n",
    "          x  &: 0 \\le x \\le 1\\\\\n",
    "          2 - x &: 1 \\le x \\le 2\n",
    "        \\end{array}\n",
    "        \\right.\n",
    "      \\end{align*}$$\n",
    "$$\\begin{align*}\n",
    "        \\sigma^h(x) = E\\frac{du^h}{dx} = \\left\\{\n",
    "        \\begin{array}{lr}\n",
    "          1  &: 0 \\le x < 1\\\\\n",
    "          -1 &: 1 < x \\le 2\n",
    "        \\end{array}\n",
    "        \\right.\n",
    "      \\end{align*}$$\n",
    "      \n",
    "Comme illustré ci dessous, dans ce cas spécifique, l'approximation\n",
    "polynomiale par morceau permet d'obtenir la solution exacte.\n",
    "\n",
    "![](Figures/ex4-4.svg) ![](Figures/ex4-5.svg)"
   ]
  }
 ],
 "metadata": {
  "hide_input": false,
  "kernelspec": {
   "display_name": "Python 3 (ipykernel)",
   "language": "python",
   "name": "python3"
  },
  "language_info": {
   "codemirror_mode": {
    "name": "ipython",
    "version": 3
   },
   "file_extension": ".py",
   "mimetype": "text/x-python",
   "name": "python",
   "nbconvert_exporter": "python",
   "pygments_lexer": "ipython3"
  },
  "toc": {
   "base_numbering": 1,
   "nav_menu": {},
   "number_sections": true,
   "sideBar": true,
   "skip_h1_title": false,
   "title_cell": "Table of Contents",
   "title_sidebar": "Contents",
   "toc_cell": false,
   "toc_position": {},
   "toc_section_display": true,
   "toc_window_display": false
  }
 },
 "nbformat": 4,
 "nbformat_minor": 5
}
