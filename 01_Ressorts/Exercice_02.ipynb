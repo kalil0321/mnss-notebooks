{
 "cells": [
  {
   "cell_type": "markdown",
   "id": "48d71771",
   "metadata": {},
   "source": [
    "<div style=\"border:1px solid black; padding:10px 10px;\">\n",
    "    <strong>CIVIL-321 \"Modélisation Numérique des Solides et Structures\"</strong><br/><br/>\n",
    "    <span style=\"text-decoration:underline;font-weight:bold;\">Comment utiliser ce Jupyter Notebook?\n",
    "    </span><br/><br/>\n",
    "    Ce <strong>Notebook</strong> est constitué de cellules de texte et de cellule de code. Les cellules de codes doivent être  <strong>executées</strong> pour voir le résultat du programme. Certaines cellules doivent être remplies par vos soins. Pour exécuter une cellule, cliquez dessus simplement et ensuite cliquez sur le bouton \"play\" (<span style=\"font: bold 12px/30px Arial, serif;\">&#9658;</span>) dans la barre de menu au dessus du notebook. Vous pouvez aussi taper la combinaison de touches <code>shift + enter</code>. Il est important d'éxécuter les cellules de code en respectant leur ordre d'arrivée dans le notebook.\n",
    "</div>"
   ]
  },
  {
   "cell_type": "markdown",
   "id": "729dba7f",
   "metadata": {},
   "source": [
    "On vous encourage à poser vos questions et donner votre feedback sur ce notebook sur la plateforme ED Discussion du cours accessible en cliquant sur ce bouton:\n",
    " \n",
    " \n",
    " \n",
    "<div class=\"container\" >\n",
    "        <a href=\"https://edstem.org/eu/courses/409/discussion?category=Exercices\">\n",
    "            <button class=\"btn btn-primary btn-lg\">Ed Discussion</button>\n",
    "        </a>\n",
    "</div>"
   ]
  },
  {
   "cell_type": "code",
   "execution_count": null,
   "id": "8b244dd4",
   "metadata": {},
   "outputs": [],
   "source": [
    "from plot import *"
   ]
  },
  {
   "cell_type": "markdown",
   "id": "2c0a2d79",
   "metadata": {},
   "source": [
    "# Série d'exercices : Minimization de l'énergie potentielle"
   ]
  },
  {
   "cell_type": "markdown",
   "id": "30ad1858",
   "metadata": {},
   "source": [
    "Considérons le barreau uni-dimensionnel élastique linéaire de la figure ci dessous. Les efforts volumiques sont négligés. Le barreau est modélisé avec un élément à trois noeuds.\n",
    "\n",
    "![](Figures/ex4.svg)\n",
    "\n",
    "Supposons une évolution polynomiale du champ de déplacement~$u$ sous la forme suivante:\n",
    "  \n",
    "$$u^h(x) = a_1 + a_2 x + a_3 x^2$$"
   ]
  },
  {
   "cell_type": "markdown",
   "id": "f15a5188",
   "metadata": {},
   "source": [
    " 1. Quelles sont les conditions sur $a_1$, $a_2$ et $a_3$ pour que $u^h$ satisfasse les conditions limites?"
   ]
  },
  {
   "cell_type": "markdown",
   "id": "cea97637",
   "metadata": {},
   "source": [
    "---\n",
    "\n",
    " **Place your answer here** \n",
    "\n",
    " ---\n",
    "\n"
   ]
  },
  {
   "cell_type": "markdown",
   "id": "86fa5cc6",
   "metadata": {},
   "source": [
    " 2. Écrire l'énergie potentielle totale du système en fonction de $a_1$, $a_2$ et $a_3$. Rappel de l'expression de l'énergie potentielle pour une barre:\n",
    "    \n",
    "    $$\\Pi = \\frac{1}{2}\\int_0^L{EA\\left(\\frac{\\text{d}u}{\\text{d}x}\\right)^2\\,\\text{d}x} - Fu\\left(\\frac{L}{2}\\right)$$"
   ]
  },
  {
   "cell_type": "markdown",
   "id": "d64b21f3",
   "metadata": {},
   "source": [
    "---\n",
    "\n",
    " **Place your answer here** \n",
    "\n",
    " ---\n",
    "\n"
   ]
  },
  {
   "cell_type": "markdown",
   "id": "3546c41f",
   "metadata": {},
   "source": [
    " 3. Déterminer $u^h(x)$ qui minimise l'énergie potentielle totale du système (trouver les valeurs des constantes $a_i$)."
   ]
  },
  {
   "cell_type": "markdown",
   "id": "a82afa12",
   "metadata": {},
   "source": [
    "---\n",
    "\n",
    " **Place your answer here** \n",
    "\n",
    " ---\n",
    "\n"
   ]
  },
  {
   "cell_type": "markdown",
   "id": "f4908b36",
   "metadata": {},
   "source": [
    "4. Déterminer la solution exacte et la comparer à la solution polynomiale approchée."
   ]
  },
  {
   "cell_type": "markdown",
   "id": "d370ed26",
   "metadata": {},
   "source": [
    "---\n",
    "\n",
    " **Place your answer here** \n",
    "\n",
    " ---\n",
    "\n"
   ]
  },
  {
   "cell_type": "markdown",
   "id": "dd53db7a",
   "metadata": {},
   "source": [
    "Discrétisons le domaine en deux parties égales (compatibles avec le chargement), et utilisons l'approximation polynomiale par morceaux définie comme suit (le barreau est maintenant modélisé avec deux éléments qui ont chacun deux noeuds). Notez que le champ $u^h$ doit être continu à $x = \\frac{L}{2}$.\n",
    "\n",
    "$$u^h(x) =\n",
    "  \\begin{cases}\n",
    "    a_1 + a_2 x  \\quad 0 \\le x \\le L/2\\\\\n",
    "    a_3 + a_4 x  \\quad L/2 \\le x \\le L\n",
    "  \\end{cases}\n",
    "$$\n",
    "\n",
    "5. Identifier les valeurs de $a_1$, $a_2$, $a_3$ et $a_4$ qui minimisent l'énergie potentielle, satisfont les conditions limites et la condition de continuité, puis comparer avec la solution exacte."
   ]
  },
  {
   "cell_type": "markdown",
   "id": "cb8c3172",
   "metadata": {},
   "source": [
    "---\n",
    "\n",
    " **Place your answer here** \n",
    "\n",
    " ---\n",
    "\n"
   ]
  }
 ],
 "metadata": {
  "hide_input": false,
  "kernelspec": {
   "display_name": "Python 3",
   "language": "python",
   "name": "python3"
  },
  "language_info": {
   "codemirror_mode": {
    "name": "ipython",
    "version": 3
   },
   "file_extension": ".py",
   "mimetype": "text/x-python",
   "name": "python",
   "nbconvert_exporter": "python",
   "pygments_lexer": "ipython3"
  },
  "toc": {
   "base_numbering": 1,
   "nav_menu": {},
   "number_sections": true,
   "sideBar": true,
   "skip_h1_title": false,
   "title_cell": "Table of Contents",
   "title_sidebar": "Contents",
   "toc_cell": false,
   "toc_position": {},
   "toc_section_display": true,
   "toc_window_display": false
  }
 },
 "nbformat": 4,
 "nbformat_minor": 5
}
