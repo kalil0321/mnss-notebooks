{
 "cells": [
  {
   "cell_type": "markdown",
   "metadata": {},
   "source": [
    "<div style=\"border:1px solid black; padding:10px 10px;\">\n",
    "    <strong>CIVIL-321 \"Modélisation Numérique des Solides et Structures\"</strong><br/><br/>\n",
    "    <span style=\"text-decoration:underline;font-weight:bold;\">Comment utiliser ce Jupyter Notebook?\n",
    "    </span><br/><br/>\n",
    "    Ce <strong>Notebook</strong> est constitué de cellules de texte et de cellule de code. Les cellules de codes doivent être  <strong>executées</strong> pour voir le résultat du programme. Certaines cellules doivent être remplies par vos soins. Pour exécuter une cellule, cliquez dessus simplement et ensuite cliquez sur le bouton \"play\" (<span style=\"font: bold 12px/30px Arial, serif;\">&#9658;</span>) dans la barre de menu au dessus du notebook. Vous pouvez aussi taper la combinaison de touches <code>shift + enter</code>. Il est important d'éxécuter les cellules de code en respectant leur ordre d'arrivée dans le notebook.\n",
    "</div>"
   ]
  },
  {
   "cell_type": "markdown",
   "metadata": {},
   "source": [
    "On vous encourage à poser vos questions et donner votre feedback sur ce notebook sur la plateforme ED Discussion du cours accessible en cliquant sur ce bouton:\n",
    " \n",
    " \n",
    " \n",
    "<div class=\"container\" >\n",
    "        <a href=\"https://edstem.org/eu/courses/409/discussion?category=Exercices\">\n",
    "            <button class=\"btn btn-primary btn-lg\">Ed Discussion</button>\n",
    "        </a>\n",
    "</div>"
   ]
  },
  {
   "cell_type": "markdown",
   "metadata": {},
   "source": [
    "# Série d'exercices : Éléments solides 2D - Triangles"
   ]
  },
  {
   "cell_type": "code",
   "execution_count": null,
   "metadata": {},
   "outputs": [],
   "source": [
    "import numpy as np\n",
    "import math as m\n",
    "from plot import *\n",
    "from IPython.display import Image"
   ]
  },
  {
   "cell_type": "markdown",
   "metadata": {},
   "source": [
    "#### Exercice 1 \n",
    "\n",
    "On considère le barrage suivant :"
   ]
  },
  {
   "cell_type": "markdown",
   "metadata": {},
   "source": [
    "![](Images/modele_barrage.png)"
   ]
  },
  {
   "cell_type": "markdown",
   "metadata": {},
   "source": [
    "On approxime la structure de ce barrage avec un élément linéaire triangulaire, d'épaisseur $w$, avec des appuis indiqués sur le schéma ci-dessus et une loi de constitution linéaire élastique et isotrope avec $\\lambda$ et $\\mu$ les coefficients de Lamé. Le bord $1-3$ est libre tandis que le bord $2-3$ subit la traction $t_e$ imposée par l'eau qui est linéaire par morceaux :\n",
    "\n",
    "$$\n",
    "t_e(y) = \\begin{cases}\n",
    "  - w \\rho_e g \\left( h_e - y \\right) & \\text{si } y < h_e \\\\\n",
    "  0 & \\text{si } y \\geq h_e\n",
    "\\end{cases}\n",
    "$$\n",
    "\n",
    "avec $\\rho_e$ la masse volumique de l'eau et $g$ la constante de gravité."
   ]
  },
  {
   "cell_type": "markdown",
   "metadata": {},
   "source": [
    "1. Donner le tableau des conditions aux limites pour ce problème."
   ]
  },
  {
   "cell_type": "markdown",
   "metadata": {},
   "source": [
    "---\n",
    "\n",
    " **Solution:**\n",
    "\n",
    " ---\n",
    "\n",
    "\n",
    "\n",
    "![](Images/TableauBC.png)"
   ]
  },
  {
   "cell_type": "markdown",
   "metadata": {},
   "source": [
    "2. Calculez les fonctions d'interpolation de l'élément $123$ en utilisant le système d'axe proposé."
   ]
  },
  {
   "cell_type": "markdown",
   "metadata": {},
   "source": [
    "---\n",
    "\n",
    " **Solution:**\n",
    "\n",
    " ---\n",
    "\n",
    "\n",
    "\n",
    "$$ N_1 = - \\frac{x}{L} $$\n",
    "$$ N_2 = 1 + \\frac{x}{L} - \\frac{y}{h} $$\n",
    "$$ N_3 = \\frac{y}{h} $$"
   ]
  },
  {
   "cell_type": "markdown",
   "metadata": {},
   "source": [
    "3. Calculez la force consistante s'appliquant aux noeuds de l'élément (en négligeant le poids propre du barrage)."
   ]
  },
  {
   "cell_type": "markdown",
   "metadata": {},
   "source": [
    "---\n",
    "\n",
    " **Solution:**\n",
    "\n",
    " ---\n",
    "\n",
    "\n",
    "\n",
    "$$\n",
    "t_{i,x} = \\int_0^h t(y)N_i(y)dY=\\int_0^{h_e} t(y)N_i(y)dY \n",
    "$$\n",
    "\n",
    "$$\n",
    "\\begin{bmatrix}\n",
    "t_{2,x} \\\\ \n",
    "t_{3,x}\n",
    "\\end{bmatrix}\n",
    "= \n",
    "\\begin{bmatrix}\n",
    "\\frac{w \\rho_e g h_e^3}{6h} -\\frac{w}{2}\\rho_e gh_e^2 \\\\ \n",
    "-\\frac{w \\rho_e g h_e^3}{6h}\n",
    "\\end{bmatrix}\n",
    "$$"
   ]
  },
  {
   "cell_type": "markdown",
   "metadata": {},
   "source": [
    "4. Calculez la matrice $B(x,y)$."
   ]
  },
  {
   "cell_type": "markdown",
   "metadata": {},
   "source": [
    "---\n",
    "\n",
    " **Solution:**\n",
    "\n",
    " ---\n",
    "\n",
    "\n",
    "$$\n",
    "B=\\begin{bmatrix}\n",
    "        \\frac{\\partial N_1}{\\partial x} & 0 & \\frac{\\partial N_2}{\\partial x} & 0 & \\frac{\\partial N_3}{\\partial x} & 0  \\\\[0.3em]\n",
    "        0 & \\frac{\\partial N_1}{\\partial y } & 0 & \\frac{\\partial N_2}{\\partial y} & 0 & \\frac{\\partial N_3}{\\partial y} \\\\[0.3em]\n",
    "        \\frac{\\partial N_1}{\\partial y} & \\frac{\\partial N_1}{\\partial x} & \\frac{\\partial N_2}{\\partial y} & \\frac{\\partial N_2}{\\partial x} & \\frac{\\partial N_3}{\\partial y} & \\frac{\\partial N_3}{\\partial x}\n",
    "\\end{bmatrix}\n",
    "=\n",
    "\\begin{bmatrix}\n",
    "      -\\frac{1}{L} & 0 & \\frac{1}{L} & 0 & 0 & 0 \\\\[0.3em]\n",
    "      0 & 0 & 0 & -\\frac{1}{h} & 0 & \\frac{1}{h} \\\\[0.3em]\n",
    "      0 & -\\frac{1}{L} & -\\frac{1}{h} & \\frac{1}{L} & \\frac{1}{h} & 0\n",
    "\\end{bmatrix}\n",
    "$$"
   ]
  },
  {
   "cell_type": "markdown",
   "metadata": {},
   "source": [
    "#### Exercice 2\n",
    "\n",
    "Le but de cet exercice est de calculer les fonctions d'interpolation pour un triangle\n",
    "en utilisant la technique des monomes. On rappelle ci-dessous le principe de cette méthode.\n",
    "\n",
    "![](Images/Exo2_exemple.png)"
   ]
  },
  {
   "cell_type": "markdown",
   "metadata": {},
   "source": [
    "En faisant l'hypothèse d'une interpolation polynomial, on peut décrire tout champ sous la forme:\n",
    "$$\n",
    "\\begin{align*}\n",
    "P(x,y)  &= a_0 + a_1 x + a_2 y + a_3 x^2 + a_4 xy + a_5 y^2 + ... = \\{M(x,y)^t \\} \\cdot \\{A\\}\\\\\n",
    "\\{M(x,y)^t\\} &= \\left\\{ 1, x, y, x^2, xy, y^2,  ... \\right\\} \\qquad \n",
    "\\{A^t\\} = \\left\\{ a_0, a_1, a_2, a_3, a_4, a_5,  ... \\right\\}                    \n",
    "\\end{align*}\n",
    "$$\n",
    "\n",
    "les monômes dans $\\{ M \\}$ sont donnés par le triangle de Pascal et $\\{A\\}$ est le vecteur des coefficients polynômiaux. La valeur de $P(x, y)$ interpolée sur les noeuds du triangle doit donner la valeur nodale du champ $P$. Pour les trois noeuds on obtient:\n",
    "$$\n",
    "\\begin{equation*}\n",
    "  \\{ M(0, 0)^t \\} \\cdot \\{A\\} = P_1 ,\\qquad   \\{ M(1, 0)^t \\} \\cdot \\{A\\} = P_2 , \\qquad  \\{ M(0, 1)^t \\} \\cdot \\{A\\} = P_3\n",
    "\\end{equation*}\n",
    "$$\n",
    "\n",
    "Ce qui donne en matriciel:\n",
    "$$\n",
    "\\begin{equation*}\n",
    "\\underbrace{\n",
    "\\left(\n",
    "\\begin{array}{c}\n",
    "  \\{ M(0,0)^t \\} \\\\\n",
    "  \\{ M(1,0)^t \\} \\\\\n",
    "  \\{ M(0,1)^t \\} \\\\\n",
    "\\end{array}\n",
    "\\right)}_{[C]} \\cdot \\{A\\} = \\left\\{\n",
    "\\begin{array}{c}\n",
    "  P_1 \\\\\n",
    "  P_2 \\\\\n",
    "  P_3 \\\\\n",
    "\\end{array}\n",
    "\\right\\}\n",
    "\\end{equation*}\n",
    "$$\n",
    "Pour que ce système soit inversible, $[C]$ doit être carrée: on considèrere seulement les premiers monômes $(1, x, y)$. On en déduit le vecteur $\\{A\\}$ qui caractérise les fonctions d'interpolations du champ $P(x, y)$:\n",
    "$$\n",
    "\\begin{equation*}\n",
    "\\{A\\} = [ C^{-1} ] \\cdot \\left\\{\n",
    "\\begin{array}{c}\n",
    "  P_1  \\\\\n",
    "  P_2  \\\\\n",
    "  P_3 \n",
    "\\end{array}\n",
    "\\right\\} \\quad \\Longrightarrow\n",
    "P(x,y)  = \\underbrace{ \\{M(x,y)^t\\} \\cdot [C^{-1}] }_{\\{N^t(x, y)\\}}\\cdot \\left\\{\n",
    "\\begin{array}{c}\n",
    "  P_1 \\\\\n",
    "  P_2 \\\\\n",
    "  P_3 \n",
    "\\end{array}\n",
    "\\right\\} = \\{ N_1(x, y) \\quad N_2(x, y) \\quad N_3(x, y)\\}  \\cdot \\left\\{\n",
    "\\begin{array}{c}\n",
    "  P_1 \\\\\n",
    "  P_2 \\\\\n",
    "  P_3 \n",
    "\\end{array}\\right\\}\n",
    "\\end{equation*}\n",
    "$$\n",
    "Cette expression fait apparaître le vecteur $\\{N\\}$ des fonctions d'interpolations: les colonnes de la matrice $[C^{-1}]$ sont les coefficients polynomiaux de chaque fonction d'interpolation."
   ]
  },
  {
   "cell_type": "markdown",
   "metadata": {},
   "source": [
    "1. Programmez le calcul des coefficients polynomiaux M(x, y) des fonctions d'interpolation pour un triangle quelconque. (indice: faites une fonction)"
   ]
  },
  {
   "cell_type": "code",
   "execution_count": null,
   "metadata": {},
   "outputs": [],
   "source": [
    "###########\n",
    "# Solution:\n",
    "##########\n",
    "\n",
    "\n",
    "# Définition de la fonction M\n",
    "M = lambda x, y: np.array([[1, x, y]])"
   ]
  },
  {
   "cell_type": "markdown",
   "metadata": {},
   "source": [
    "2. Programmez en Python le calcul de la matrice $[C]$ en fonction des coordonnées des trois points du triangle."
   ]
  },
  {
   "cell_type": "code",
   "execution_count": null,
   "metadata": {},
   "outputs": [],
   "source": [
    "###########\n",
    "# Solution:\n",
    "##########\n",
    "\n",
    "\n",
    "coord = np.array([\n",
    "    [0, 0],\n",
    "    [1, 0],\n",
    "    [0, 1]\n",
    "])\n",
    "\n",
    "# C est construit en évaluant M en chaque point de l'élément\n",
    "nb_point = 3\n",
    "C = np.zeros([nb_point, nb_point])\n",
    "\n",
    "for i in range(nb_point):\n",
    "    x = coord[i, 0]\n",
    "    y = coord[i, 1]\n",
    "    C[i, :] = M(x, y)"
   ]
  },
  {
   "cell_type": "markdown",
   "metadata": {},
   "source": [
    "3. Programmez les fonctions d'interpolation du triangle rectangle ci-dessus."
   ]
  },
  {
   "cell_type": "code",
   "execution_count": null,
   "metadata": {},
   "outputs": [],
   "source": [
    "###########\n",
    "# Solution:\n",
    "##########\n",
    "\n",
    "\n",
    "C_inv = np.linalg.inv(C)\n",
    "N = {}\n",
    "\n",
    "for i in range(nb_point):\n",
    "    N[i] = lambda x, y, i=i : M(x, y).dot(C_inv[:, i])"
   ]
  },
  {
   "cell_type": "markdown",
   "metadata": {},
   "source": [
    "4. Programmez une vérification de la partition de l'unité: $\\sum_i N_i(x, y) = 1$. Dans notre cas, ce critère est-il bien respecté partout?"
   ]
  },
  {
   "cell_type": "code",
   "execution_count": null,
   "metadata": {},
   "outputs": [],
   "source": [
    "###########\n",
    "# Solution:\n",
    "##########\n",
    "\n",
    "\n",
    "for i in range(nb_point):\n",
    "    x = coord[i, 0]\n",
    "    y = coord[i, 1]\n",
    "    somme = 0\n",
    "    for j in range(nb_point):\n",
    "        somme += N[j](x, y)\n",
    "    print(f\"Sum N_i({x, y}) =\", somme)"
   ]
  },
  {
   "cell_type": "markdown",
   "metadata": {},
   "source": [
    "5. Programmez une vérification des propriétés nodales: $N_i(x_j) = \\delta_{ij}$."
   ]
  },
  {
   "cell_type": "code",
   "execution_count": null,
   "metadata": {},
   "outputs": [],
   "source": [
    "###########\n",
    "# Solution:\n",
    "##########\n",
    "\n",
    "\n",
    "for i in range(nb_point):\n",
    "    for j in range(nb_point):\n",
    "        x = coord[j, 0]\n",
    "        y = coord[j, 1]\n",
    "        print(f\"N_{i}({x, y}) = \", N[i](x, y))"
   ]
  },
  {
   "cell_type": "markdown",
   "metadata": {},
   "source": [
    "6. Utilisez votre programme pour calculer les fonctions d'interpolation d'un triangle de votre choix."
   ]
  },
  {
   "cell_type": "code",
   "execution_count": null,
   "metadata": {},
   "outputs": [],
   "source": [
    "###########\n",
    "# Solution:\n",
    "##########\n",
    "\n",
    "\n",
    "# Seules les coordonnées doivent être modifiées. Prenons par exemple, un triangle équilatéral dont les côtés valent 4 :\n",
    "\n",
    "coord = np.array([\n",
    "    [0, 0],\n",
    "    [4, 0],\n",
    "    [2, 2*np.sqrt(3)]\n",
    "])\n",
    "\n",
    "nb_point = 3\n",
    "C = np.zeros([nb_point, nb_point])\n",
    "\n",
    "for i in range(nb_point):\n",
    "    x = coord[i, 0]\n",
    "    y = coord[i, 1]\n",
    "    C[i, :] = M(x, y)\n",
    "\n",
    "C_inv = np.linalg.inv(C)\n",
    "\n",
    "N = {}\n",
    "for i in range(nb_point):\n",
    "    N[i] = lambda x, y, i=i : (M(x, y).dot(C_inv[:, i]))[0]\n",
    "\n",
    "\n",
    "x, y = symbols('x y')\n",
    "Matrix((N[0](x, y), N[1](x, y), N[2](x, y)))"
   ]
  },
  {
   "cell_type": "markdown",
   "metadata": {},
   "source": [
    "7. Comment adapteriez vous votre code pour des éléments finis carrés à quatre noeuds ?"
   ]
  },
  {
   "cell_type": "markdown",
   "metadata": {},
   "source": [
    "---\n",
    "\n",
    " **Solution:**\n",
    "\n",
    " ---\n",
    "\n",
    "\n",
    "\n",
    "Le nombre de nœuds doit être adapté, ainsi que la matrice des monômes $M(x, y)$ qui doit contenir des coefficients xy."
   ]
  }
 ],
 "metadata": {
  "hide_input": false,
  "kernelspec": {
   "display_name": "Python 3 (ipykernel)",
   "language": "python",
   "name": "python3"
  },
  "language_info": {
   "codemirror_mode": {
    "name": "ipython",
    "version": 3
   },
   "file_extension": ".py",
   "mimetype": "text/x-python",
   "name": "python",
   "nbconvert_exporter": "python",
   "pygments_lexer": "ipython3"
  },
  "toc": {
   "base_numbering": 1,
   "nav_menu": {},
   "number_sections": true,
   "sideBar": true,
   "skip_h1_title": false,
   "title_cell": "Table of Contents",
   "title_sidebar": "Contents",
   "toc_cell": false,
   "toc_position": {},
   "toc_section_display": true,
   "toc_window_display": false
  }
 },
 "nbformat": 4,
 "nbformat_minor": 4
}
