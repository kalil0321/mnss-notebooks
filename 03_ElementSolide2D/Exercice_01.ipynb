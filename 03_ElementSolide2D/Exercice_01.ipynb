{
 "cells": [
  {
   "cell_type": "markdown",
   "id": "d6ef3afa",
   "metadata": {},
   "source": [
    "<div style=\"border:1px solid black; padding:10px 10px;\">\n",
    "    <strong>CIVIL-321 \"Modélisation Numérique des Solides et Structures\"</strong><br/><br/>\n",
    "    <span style=\"text-decoration:underline;font-weight:bold;\">Comment utiliser ce Jupyter Notebook?\n",
    "    </span><br/><br/>\n",
    "    Ce <strong>Notebook</strong> est constitué de cellules de texte et de cellule de code. Les cellules de codes doivent être  <strong>executées</strong> pour voir le résultat du programme. Certaines cellules doivent être remplies par vos soins. Pour exécuter une cellule, cliquez dessus simplement et ensuite cliquez sur le bouton \"play\" (<span style=\"font: bold 12px/30px Arial, serif;\">&#9658;</span>) dans la barre de menu au dessus du notebook. Vous pouvez aussi taper la combinaison de touches <code>shift + enter</code>. Il est important d'éxécuter les cellules de code en respectant leur ordre d'arrivée dans le notebook.\n",
    "</div>"
   ]
  },
  {
   "cell_type": "markdown",
   "id": "15b6aa70",
   "metadata": {},
   "source": [
    "On vous encourage à poser vos questions et donner votre feedback sur ce notebook sur la plateforme ED Discussion du cours accessible en cliquant sur ce bouton:\n",
    " \n",
    " \n",
    " \n",
    "<div class=\"container\" >\n",
    "        <a href=\"https://edstem.org/eu/courses/409/discussion?category=Exercices\">\n",
    "            <button class=\"btn btn-primary btn-lg\">Ed Discussion</button>\n",
    "        </a>\n",
    "</div>"
   ]
  },
  {
   "cell_type": "markdown",
   "id": "7b513772",
   "metadata": {},
   "source": [
    "# Série d'exercices : Éléments solides 2D - Triangles"
   ]
  },
  {
   "cell_type": "code",
   "execution_count": null,
   "id": "f3cdabca",
   "metadata": {},
   "outputs": [],
   "source": [
    "import numpy as np\n",
    "import math as m\n",
    "from plot import *\n",
    "from IPython.display import Image"
   ]
  },
  {
   "cell_type": "markdown",
   "id": "e190b84f",
   "metadata": {},
   "source": [
    "#### Exercice 1 \n",
    "\n",
    "On considère le barrage suivant :"
   ]
  },
  {
   "cell_type": "markdown",
   "id": "23a5599d",
   "metadata": {},
   "source": [
    "![](Images/modele_barrage.png)"
   ]
  },
  {
   "cell_type": "markdown",
   "id": "28f7e846",
   "metadata": {},
   "source": [
    "On approxime la structure de ce barrage avec un élément linéaire triangulaire, d'épaisseur $w$, avec des appuis indiqués sur le schéma ci-dessus et une loi de constitution linéaire élastique et isotrope avec $\\lambda$ et $\\mu$ les coefficients de Lamé. Le bord $1-3$ est libre tandis que le bord $2-3$ subit la traction $t_e$ imposée par l'eau qui est linéaire par morceaux :\n",
    "\n",
    "$$\n",
    "t_e(y) = \\begin{cases}\n",
    "  - w \\rho_e g \\left( h_e - y \\right) & \\text{si } y < h_e \\\\\n",
    "  0 & \\text{si } y \\geq h_e\n",
    "\\end{cases}\n",
    "$$\n",
    "\n",
    "avec $\\rho_e$ la masse volumique de l'eau et $g$ la constante de gravité. \n"
   ]
  },
  {
   "cell_type": "markdown",
   "id": "735881a2",
   "metadata": {},
   "source": [
    "1. Donner le tableau des conditions aux limites pour ce problème."
   ]
  },
  {
   "cell_type": "markdown",
   "id": "8bc8e53f",
   "metadata": {},
   "source": [
    "---\n",
    "\n",
    " **Place your answer here** \n",
    "\n",
    " ---\n",
    "\n"
   ]
  },
  {
   "cell_type": "markdown",
   "id": "ff557e95",
   "metadata": {},
   "source": [
    "2. Calculez les fonctions d'interpolation de l'élément $123$ en utilisant le système d'axe proposé."
   ]
  },
  {
   "cell_type": "markdown",
   "id": "b385ef53",
   "metadata": {},
   "source": [
    "---\n",
    "\n",
    " **Place your answer here** \n",
    "\n",
    " ---\n",
    "\n"
   ]
  },
  {
   "cell_type": "markdown",
   "id": "2fc8fe90",
   "metadata": {},
   "source": [
    "3. Calculez la force consistante s'appliquant aux noeuds de l'élément (en négligeant le poids propre du barrage)."
   ]
  },
  {
   "cell_type": "markdown",
   "id": "c1aa3e53",
   "metadata": {},
   "source": [
    "---\n",
    "\n",
    " **Place your answer here** \n",
    "\n",
    " ---\n",
    "\n"
   ]
  },
  {
   "cell_type": "markdown",
   "id": "f0b02c85",
   "metadata": {},
   "source": [
    "4. Calculez la matrice $B(x,y)$."
   ]
  },
  {
   "cell_type": "markdown",
   "id": "0db677fa",
   "metadata": {},
   "source": [
    "---\n",
    "\n",
    " **Place your answer here** \n",
    "\n",
    " ---\n",
    "\n"
   ]
  },
  {
   "cell_type": "markdown",
   "id": "88d2e316",
   "metadata": {},
   "source": [
    "#### Exercice 2\n",
    "\n",
    "Le but de cet exercice est de calculer les fonctions d'interpolation pour un triangle\n",
    "en utilisant la technique des monomes. On rappelle ci-dessous le principe de cette méthode.\n",
    "\n",
    "![](Images/Exo2_exemple.png)"
   ]
  },
  {
   "cell_type": "markdown",
   "id": "81dcc5bf",
   "metadata": {},
   "source": [
    "En faisant l'hypothèse d'une interpolation polynomial, on peut décrire tout champ sous la forme:\n",
    "$$\n",
    "\\begin{align*}\n",
    "P(x,y)  &= a_0 + a_1 x + a_2 y + a_3 x^2 + a_4 xy + a_5 y^2 + ... = \\{M(x,y)^t \\} \\cdot \\{A\\}\\\\\n",
    "\\{M(x,y)^t\\} &= \\left\\{ 1, x, y, x^2, xy, y^2,  ... \\right\\} \\qquad \n",
    "\\{A^t\\} = \\left\\{ a_0, a_1, a_2, a_3, a_4, a_5,  ... \\right\\}                    \n",
    "\\end{align*}\n",
    "$$\n",
    "\n",
    "les monômes dans $\\{ M \\}$ sont donnés par le triangle de Pascal et $\\{A\\}$ est le vecteur des coefficients polynômiaux. La valeur de $P(x, y)$ interpolée sur les noeuds du triangle doit donner la valeur nodale du champ $P$. Pour les trois noeuds on obtient:\n",
    "$$\n",
    "\\begin{equation*}\n",
    "  \\{ M(0, 0)^t \\} \\cdot \\{A\\} = P_1 ,\\qquad   \\{ M(1, 0)^t \\} \\cdot \\{A\\} = P_2 , \\qquad  \\{ M(0, 1)^t \\} \\cdot \\{A\\} = P_3\n",
    "\\end{equation*}\n",
    "$$\n",
    "\n",
    "Ce qui donne en matriciel:\n",
    "$$\n",
    "\\begin{equation*}\n",
    "\\underbrace{\n",
    "\\left(\n",
    "\\begin{array}{c}\n",
    "  \\{ M(0,0)^t \\} \\\\\n",
    "  \\{ M(1,0)^t \\} \\\\\n",
    "  \\{ M(0,1)^t \\} \\\\\n",
    "\\end{array}\n",
    "\\right)}_{[C]} \\cdot \\{A\\} = \\left\\{\n",
    "\\begin{array}{c}\n",
    "  P_1 \\\\\n",
    "  P_2 \\\\\n",
    "  P_3 \\\\\n",
    "\\end{array}\n",
    "\\right\\}\n",
    "\\end{equation*}\n",
    "$$\n",
    "Pour que ce système soit inversible, $[C]$ doit être carrée: on considèrere seulement les premiers monômes $(1, x, y)$. On en déduit le vecteur $\\{A\\}$ qui caractérise les fonctions d'interpolations du champ $P(x, y)$:\n",
    "$$\n",
    "\\begin{equation*}\n",
    "\\{A\\} = [ C^{-1} ] \\cdot \\left\\{\n",
    "\\begin{array}{c}\n",
    "  P_1  \\\\\n",
    "  P_2  \\\\\n",
    "  P_3 \n",
    "\\end{array}\n",
    "\\right\\} \\quad \\Longrightarrow\n",
    "P(x,y)  = \\underbrace{ \\{M(x,y)^t\\} \\cdot [C^{-1}] }_{\\{N^t(x, y)\\}}\\cdot \\left\\{\n",
    "\\begin{array}{c}\n",
    "  P_1 \\\\\n",
    "  P_2 \\\\\n",
    "  P_3 \n",
    "\\end{array}\n",
    "\\right\\} = \\{ N_1(x, y) \\quad N_2(x, y) \\quad N_3(x, y)\\}  \\cdot \\left\\{\n",
    "\\begin{array}{c}\n",
    "  P_1 \\\\\n",
    "  P_2 \\\\\n",
    "  P_3 \n",
    "\\end{array}\\right\\}\n",
    "\\end{equation*}\n",
    "$$\n",
    "Cette expression fait apparaître le vecteur $\\{N\\}$ des fonctions d'interpolations: les colonnes de la matrice $[C^{-1}]$ sont les coefficients polynomiaux de chaque fonction d'interpolation.\n",
    "\n"
   ]
  },
  {
   "cell_type": "markdown",
   "id": "c732192e",
   "metadata": {},
   "source": [
    "1. Programmez le calcul des coefficients polynomiaux M(x, y) des fonctions d'interpolation pour un triangle quelconque. (indice: faites une fonction)"
   ]
  },
  {
   "cell_type": "code",
   "execution_count": null,
   "id": "87cc004f",
   "metadata": {},
   "outputs": [],
   "source": [
    "# Place your answer here"
   ]
  },
  {
   "cell_type": "markdown",
   "id": "1136b164",
   "metadata": {},
   "source": [
    "2. Programmez en Python le calcul de la matrice $[C]$ en fonction des coordonnées des trois points du triangle."
   ]
  },
  {
   "cell_type": "code",
   "execution_count": null,
   "id": "18453660",
   "metadata": {},
   "outputs": [],
   "source": [
    "# Place your answer here"
   ]
  },
  {
   "cell_type": "markdown",
   "id": "51cc2532",
   "metadata": {},
   "source": [
    "3. Programmez les fonctions d'interpolation du triangle rectangle ci-dessus."
   ]
  },
  {
   "cell_type": "code",
   "execution_count": null,
   "id": "7a26475d",
   "metadata": {},
   "outputs": [],
   "source": [
    "# Place your answer here"
   ]
  },
  {
   "cell_type": "markdown",
   "id": "5ab4d3b0",
   "metadata": {},
   "source": [
    "4. Programmez une vérification de la partition de l'unité: $\\sum_i N_i(x, y) = 1$. Dans notre cas, ce critère est-il bien respecté partout?"
   ]
  },
  {
   "cell_type": "code",
   "execution_count": null,
   "id": "d5c1161d",
   "metadata": {},
   "outputs": [],
   "source": [
    "# Place your answer here"
   ]
  },
  {
   "cell_type": "markdown",
   "id": "742313a6",
   "metadata": {},
   "source": [
    "5. Programmez une vérification des propriétés nodales: $N_i(x_j) = \\delta_{ij}$."
   ]
  },
  {
   "cell_type": "code",
   "execution_count": null,
   "id": "7cb66d53",
   "metadata": {},
   "outputs": [],
   "source": [
    "# Place your answer here"
   ]
  },
  {
   "cell_type": "markdown",
   "id": "9f2f5e82",
   "metadata": {},
   "source": [
    "6. Utilisez votre programme pour calculer les fonctions d'interpolation d'un triangle de votre choix."
   ]
  },
  {
   "cell_type": "code",
   "execution_count": null,
   "id": "27925628",
   "metadata": {},
   "outputs": [],
   "source": [
    "# Place your answer here"
   ]
  },
  {
   "cell_type": "markdown",
   "id": "d304c910",
   "metadata": {},
   "source": [
    "7. Comment adapteriez vous votre code pour des éléments finis carrés à quatre noeuds ?"
   ]
  },
  {
   "cell_type": "markdown",
   "id": "f31ffbea",
   "metadata": {},
   "source": [
    "---\n",
    "\n",
    " **Place your answer here** \n",
    "\n",
    " ---\n",
    "\n"
   ]
  }
 ],
 "metadata": {
  "hide_input": false,
  "kernelspec": {
   "display_name": "Python3",
   "language": "python",
   "name": "python3"
  },
  "language_info": {
   "codemirror_mode": {
    "name": "ipython",
    "version": 3
   },
   "file_extension": ".py",
   "mimetype": "text/x-python",
   "name": "python",
   "nbconvert_exporter": "python",
   "pygments_lexer": "ipython3",
   "version": "3.11.5"
  },
  "toc": {
   "base_numbering": 1,
   "nav_menu": {},
   "number_sections": true,
   "sideBar": true,
   "skip_h1_title": false,
   "title_cell": "Table of Contents",
   "title_sidebar": "Contents",
   "toc_cell": false,
   "toc_position": {},
   "toc_section_display": true,
   "toc_window_display": false
  },
  "unianalytics_cell_mapping": [
   [
    "d6ef3afa",
    "d6ef3afa"
   ],
   [
    "15b6aa70",
    "15b6aa70"
   ],
   [
    "7b513772",
    "7b513772"
   ],
   [
    "f3cdabca",
    "f3cdabca"
   ],
   [
    "e190b84f",
    "e190b84f"
   ],
   [
    "23a5599d",
    "23a5599d"
   ],
   [
    "28f7e846",
    "28f7e846"
   ],
   [
    "735881a2",
    "735881a2"
   ],
   [
    "8bc8e53f",
    "8bc8e53f"
   ],
   [
    "ff557e95",
    "ff557e95"
   ],
   [
    "b385ef53",
    "b385ef53"
   ],
   [
    "2fc8fe90",
    "2fc8fe90"
   ],
   [
    "c1aa3e53",
    "c1aa3e53"
   ],
   [
    "f0b02c85",
    "f0b02c85"
   ],
   [
    "0db677fa",
    "0db677fa"
   ],
   [
    "88d2e316",
    "88d2e316"
   ],
   [
    "81dcc5bf",
    "81dcc5bf"
   ],
   [
    "c732192e",
    "c732192e"
   ],
   [
    "87cc004f",
    "87cc004f"
   ],
   [
    "1136b164",
    "1136b164"
   ],
   [
    "18453660",
    "18453660"
   ],
   [
    "51cc2532",
    "51cc2532"
   ],
   [
    "7a26475d",
    "7a26475d"
   ],
   [
    "5ab4d3b0",
    "5ab4d3b0"
   ],
   [
    "d5c1161d",
    "d5c1161d"
   ],
   [
    "742313a6",
    "742313a6"
   ],
   [
    "7cb66d53",
    "7cb66d53"
   ],
   [
    "9f2f5e82",
    "9f2f5e82"
   ],
   [
    "27925628",
    "27925628"
   ],
   [
    "d304c910",
    "d304c910"
   ],
   [
    "f31ffbea",
    "f31ffbea"
   ]
  ],
  "unianalytics_notebook_id": "a063aa5f-cd19-4849-8045-b64c6d73dcbf"
 },
 "nbformat": 4,
 "nbformat_minor": 5
}
